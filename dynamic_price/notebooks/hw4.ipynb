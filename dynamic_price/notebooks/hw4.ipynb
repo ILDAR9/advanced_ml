{
 "cells": [
  {
   "cell_type": "code",
   "execution_count": null,
   "id": "0d0cef51-a7d1-4ddf-ab91-39cd2b64b25a",
   "metadata": {},
   "outputs": [],
   "source": [
    "import pandas as pd\n",
    "import numpy as np\n",
    "import os\n",
    "\n",
    "import matplotlib.pyplot as plt\n",
    "import seaborn as sns\n",
    "color = sns.color_palette()\n",
    "\n",
    "%matplotlib inline"
   ]
  },
  {
   "cell_type": "code",
   "execution_count": 2,
   "id": "9b83a4d8-c505-4751-b994-e3eb4559877a",
   "metadata": {},
   "outputs": [
    {
     "name": "stdout",
     "output_type": "stream",
     "text": [
      "conc_df.csv\t     promo_1510002.csv\t   sku_dict.csv  third_group_sku.csv\n",
      "first_group_sku.csv  second_group_sku.csv  test.csv\n"
     ]
    }
   ],
   "source": [
    "FLD = \"/home/nur/projects/analysis/dynamic_price/data/hw4\"\n",
    "!ls {FLD}"
   ]
  },
  {
   "cell_type": "code",
   "execution_count": null,
   "id": "113e8209-c8ae-41bd-9a4c-fc5fc42ca560",
   "metadata": {},
   "outputs": [],
   "source": [
    "sku_dict = pd.read_csv(os.path.join(FLD, 'sku_dict.csv'))"
   ]
  },
  {
   "cell_type": "code",
   "execution_count": null,
   "id": "c0a8a289-1e6e-43fc-ae5c-dc317a2dae42",
   "metadata": {},
   "outputs": [],
   "source": []
  },
  {
   "cell_type": "code",
   "execution_count": null,
   "id": "e21afcf4-75d6-4e6b-8323-36ac342ae674",
   "metadata": {},
   "outputs": [],
   "source": []
  },
  {
   "cell_type": "code",
   "execution_count": null,
   "id": "0db2790a-66f3-47f6-b231-3054b853295e",
   "metadata": {},
   "outputs": [],
   "source": []
  },
  {
   "cell_type": "code",
   "execution_count": null,
   "id": "f3956709-c468-4e19-848a-c42c980b76ee",
   "metadata": {},
   "outputs": [],
   "source": []
  }
 ],
 "metadata": {
  "kernelspec": {
   "display_name": "Python 3",
   "language": "python",
   "name": "python3"
  },
  "language_info": {
   "codemirror_mode": {
    "name": "ipython",
    "version": 3
   },
   "file_extension": ".py",
   "mimetype": "text/x-python",
   "name": "python",
   "nbconvert_exporter": "python",
   "pygments_lexer": "ipython3",
   "version": "3.7.10"
  }
 },
 "nbformat": 4,
 "nbformat_minor": 5
}
