{
 "cells": [
  {
   "cell_type": "code",
   "execution_count": 1,
   "id": "0d0cef51-a7d1-4ddf-ab91-39cd2b64b25a",
   "metadata": {},
   "outputs": [],
   "source": [
    "import pandas as pd\n",
    "import numpy as np\n",
    "import os\n",
    "\n",
    "import matplotlib.pyplot as plt\n",
    "import seaborn as sns\n",
    "color = sns.color_palette()\n",
    "\n",
    "%matplotlib inline"
   ]
  },
  {
   "cell_type": "code",
   "execution_count": 2,
   "id": "9b83a4d8-c505-4751-b994-e3eb4559877a",
   "metadata": {},
   "outputs": [
    {
     "name": "stdout",
     "output_type": "stream",
     "text": [
      "conc_df.csv\t     promo_1510002.csv\t   sku_dict.csv  third_group_sku.csv\n",
      "first_group_sku.csv  second_group_sku.csv  test.csv\n"
     ]
    }
   ],
   "source": [
    "FLD = \"/home/nur/projects/analysis/dynamic_price/data/hw4\"\n",
    "!ls {FLD}"
   ]
  },
  {
   "cell_type": "markdown",
   "id": "63e356a4-685d-4aac-87e8-2afb3f5531dd",
   "metadata": {},
   "source": [
    "## Вендоры и Бренды"
   ]
  },
  {
   "cell_type": "code",
   "execution_count": 18,
   "id": "113e8209-c8ae-41bd-9a4c-fc5fc42ca560",
   "metadata": {},
   "outputs": [
    {
     "data": {
      "text/html": [
       "<div>\n",
       "<style scoped>\n",
       "    .dataframe tbody tr th:only-of-type {\n",
       "        vertical-align: middle;\n",
       "    }\n",
       "\n",
       "    .dataframe tbody tr th {\n",
       "        vertical-align: top;\n",
       "    }\n",
       "\n",
       "    .dataframe thead th {\n",
       "        text-align: right;\n",
       "    }\n",
       "</style>\n",
       "<table border=\"1\" class=\"dataframe\">\n",
       "  <thead>\n",
       "    <tr style=\"text-align: right;\">\n",
       "      <th></th>\n",
       "      <th>sku_id</th>\n",
       "      <th>fincode</th>\n",
       "      <th>ui1_code</th>\n",
       "      <th>ui2_code</th>\n",
       "      <th>ui3_code</th>\n",
       "      <th>vendor</th>\n",
       "      <th>brand_code</th>\n",
       "      <th>creation_date</th>\n",
       "      <th>expiration_date</th>\n",
       "    </tr>\n",
       "  </thead>\n",
       "  <tbody>\n",
       "    <tr>\n",
       "      <th>0</th>\n",
       "      <td>43207</td>\n",
       "      <td>A1</td>\n",
       "      <td>A10</td>\n",
       "      <td>A1000</td>\n",
       "      <td>A1000001</td>\n",
       "      <td>A10001</td>\n",
       "      <td>A1000001</td>\n",
       "      <td>2018-01-01</td>\n",
       "      <td>2200-01-01 00:00:00</td>\n",
       "    </tr>\n",
       "    <tr>\n",
       "      <th>1</th>\n",
       "      <td>87209</td>\n",
       "      <td>UA</td>\n",
       "      <td>UA1</td>\n",
       "      <td>UA100</td>\n",
       "      <td>UA10000</td>\n",
       "      <td>BLW9FG</td>\n",
       "      <td>484JDFU5</td>\n",
       "      <td>2019-09-05</td>\n",
       "      <td>2200-01-01 00:00:00</td>\n",
       "    </tr>\n",
       "  </tbody>\n",
       "</table>\n",
       "</div>"
      ],
      "text/plain": [
       "   sku_id fincode ui1_code ui2_code  ui3_code  vendor brand_code  \\\n",
       "0   43207      A1      A10    A1000  A1000001  A10001   A1000001   \n",
       "1   87209      UA      UA1    UA100   UA10000  BLW9FG   484JDFU5   \n",
       "\n",
       "  creation_date      expiration_date  \n",
       "0    2018-01-01  2200-01-01 00:00:00  \n",
       "1    2019-09-05  2200-01-01 00:00:00  "
      ]
     },
     "execution_count": 18,
     "metadata": {},
     "output_type": "execute_result"
    }
   ],
   "source": [
    "sku_dict = pd.read_csv(os.path.join(FLD, 'sku_dict.csv'))\n",
    "sku_dict.head(2)"
   ]
  },
  {
   "cell_type": "code",
   "execution_count": 19,
   "id": "68aa00c2-80c1-4c32-9bf1-2297c246adc6",
   "metadata": {},
   "outputs": [
    {
     "data": {
      "text/html": [
       "<div>\n",
       "<style scoped>\n",
       "    .dataframe tbody tr th:only-of-type {\n",
       "        vertical-align: middle;\n",
       "    }\n",
       "\n",
       "    .dataframe tbody tr th {\n",
       "        vertical-align: top;\n",
       "    }\n",
       "\n",
       "    .dataframe thead th {\n",
       "        text-align: right;\n",
       "    }\n",
       "</style>\n",
       "<table border=\"1\" class=\"dataframe\">\n",
       "  <thead>\n",
       "    <tr style=\"text-align: right;\">\n",
       "      <th></th>\n",
       "      <th>dates</th>\n",
       "      <th>SKU</th>\n",
       "      <th>price_per_sku</th>\n",
       "      <th>num_purchases</th>\n",
       "      <th>file</th>\n",
       "    </tr>\n",
       "  </thead>\n",
       "  <tbody>\n",
       "    <tr>\n",
       "      <th>0</th>\n",
       "      <td>2018-04-20</td>\n",
       "      <td>32950</td>\n",
       "      <td>422.975</td>\n",
       "      <td>3</td>\n",
       "      <td>first_group_sku</td>\n",
       "    </tr>\n",
       "    <tr>\n",
       "      <th>1</th>\n",
       "      <td>2018-04-24</td>\n",
       "      <td>32950</td>\n",
       "      <td>429.275</td>\n",
       "      <td>3</td>\n",
       "      <td>first_group_sku</td>\n",
       "    </tr>\n",
       "  </tbody>\n",
       "</table>\n",
       "</div>"
      ],
      "text/plain": [
       "        dates    SKU  price_per_sku  num_purchases             file\n",
       "0  2018-04-20  32950        422.975              3  first_group_sku\n",
       "1  2018-04-24  32950        429.275              3  first_group_sku"
      ]
     },
     "execution_count": 19,
     "metadata": {},
     "output_type": "execute_result"
    }
   ],
   "source": [
    "groups = ['first_group_sku.csv', 'second_group_sku.csv', 'third_group_sku.csv']\n",
    "dflist = []\n",
    "for fname in groups:\n",
    "    df = pd.read_csv(os.path.join(FLD, fname))\n",
    "    df['file'] = fname[:-4]\n",
    "    dflist.append(df)\n",
    "dfg = pd.concat(dflist, ignore_index=True)\n",
    "dfg.head(2)"
   ]
  },
  {
   "cell_type": "code",
   "execution_count": 20,
   "id": "a12ce3af-66fa-45a0-9f19-bfb41a9db40d",
   "metadata": {},
   "outputs": [
    {
     "data": {
      "text/html": [
       "<div>\n",
       "<style scoped>\n",
       "    .dataframe tbody tr th:only-of-type {\n",
       "        vertical-align: middle;\n",
       "    }\n",
       "\n",
       "    .dataframe tbody tr th {\n",
       "        vertical-align: top;\n",
       "    }\n",
       "\n",
       "    .dataframe thead th {\n",
       "        text-align: right;\n",
       "    }\n",
       "</style>\n",
       "<table border=\"1\" class=\"dataframe\">\n",
       "  <thead>\n",
       "    <tr style=\"text-align: right;\">\n",
       "      <th></th>\n",
       "      <th>dates</th>\n",
       "      <th>SKU</th>\n",
       "      <th>price_per_sku</th>\n",
       "      <th>num_purchases</th>\n",
       "      <th>file</th>\n",
       "      <th>fincode</th>\n",
       "      <th>ui1_code</th>\n",
       "      <th>ui2_code</th>\n",
       "      <th>ui3_code</th>\n",
       "      <th>vendor</th>\n",
       "      <th>brand_code</th>\n",
       "      <th>creation_date</th>\n",
       "      <th>expiration_date</th>\n",
       "    </tr>\n",
       "  </thead>\n",
       "  <tbody>\n",
       "    <tr>\n",
       "      <th>0</th>\n",
       "      <td>2018-04-20</td>\n",
       "      <td>32950</td>\n",
       "      <td>422.975</td>\n",
       "      <td>3</td>\n",
       "      <td>first_group_sku</td>\n",
       "      <td>FE</td>\n",
       "      <td>FE1</td>\n",
       "      <td>FE100</td>\n",
       "      <td>FE10000</td>\n",
       "      <td>AO59EQ</td>\n",
       "      <td>3FAIRJ4W</td>\n",
       "      <td>2018-01-15</td>\n",
       "      <td>2200-01-01 00:00:00</td>\n",
       "    </tr>\n",
       "    <tr>\n",
       "      <th>1</th>\n",
       "      <td>2018-04-24</td>\n",
       "      <td>32950</td>\n",
       "      <td>429.275</td>\n",
       "      <td>3</td>\n",
       "      <td>first_group_sku</td>\n",
       "      <td>FE</td>\n",
       "      <td>FE1</td>\n",
       "      <td>FE100</td>\n",
       "      <td>FE10000</td>\n",
       "      <td>AO59EQ</td>\n",
       "      <td>3FAIRJ4W</td>\n",
       "      <td>2018-01-15</td>\n",
       "      <td>2200-01-01 00:00:00</td>\n",
       "    </tr>\n",
       "  </tbody>\n",
       "</table>\n",
       "</div>"
      ],
      "text/plain": [
       "        dates    SKU  price_per_sku  num_purchases             file fincode  \\\n",
       "0  2018-04-20  32950        422.975              3  first_group_sku      FE   \n",
       "1  2018-04-24  32950        429.275              3  first_group_sku      FE   \n",
       "\n",
       "  ui1_code ui2_code ui3_code  vendor brand_code creation_date  \\\n",
       "0      FE1    FE100  FE10000  AO59EQ   3FAIRJ4W    2018-01-15   \n",
       "1      FE1    FE100  FE10000  AO59EQ   3FAIRJ4W    2018-01-15   \n",
       "\n",
       "       expiration_date  \n",
       "0  2200-01-01 00:00:00  \n",
       "1  2200-01-01 00:00:00  "
      ]
     },
     "execution_count": 20,
     "metadata": {},
     "output_type": "execute_result"
    }
   ],
   "source": [
    "df = dfg.merge(sku_dict, how='left', left_on = 'SKU', right_on = 'sku_id')\n",
    "df.drop(['sku_id'], axis=1, inplace=True)\n",
    "assert df.shape[0] == dfg.shape[0]\n",
    "df.head(2)"
   ]
  },
  {
   "cell_type": "code",
   "execution_count": 30,
   "id": "ad393ced-c154-4ed3-8fde-9ea665e3637e",
   "metadata": {},
   "outputs": [],
   "source": [
    "res = df.groupby(by='file', as_index=False)[['vendor', 'brand_code']].nunique()\n",
    "res = res.rename(columns={'vendor': 'vendor_unique_number', 'brand_code': 'brand_unique_number'})\n",
    "\n",
    "out_fpath = 'unique_vendor_brand.csv'\n",
    "res.to_csv(out_fpath, index=False)"
   ]
  },
  {
   "cell_type": "code",
   "execution_count": 32,
   "id": "f64c56aa-e1c6-4646-a166-b44155abd862",
   "metadata": {},
   "outputs": [
    {
     "name": "stdout",
     "output_type": "stream",
     "text": [
      "file,vendor_unique_number,brand_unique_number\n",
      "first_group_sku,2,1\n",
      "second_group_sku,9,1\n",
      "third_group_sku,8,1\n"
     ]
    }
   ],
   "source": [
    "!cat unique_vendor_brand.csv"
   ]
  },
  {
   "cell_type": "code",
   "execution_count": 50,
   "id": "2b769249-56dd-4dfe-a795-22a00c1cc15d",
   "metadata": {
    "tags": []
   },
   "outputs": [],
   "source": [
    "# Для каждой из групп найдите максимальную и минимальную цену для каждого SKU. \n",
    "out_fpath = \"sku_min_max_prices.csv\"\n",
    "\n",
    "res = df.groupby(by='SKU', as_index=False).agg(min_price=('price_per_sku', np.min),\n",
    "                                               max_price=('price_per_sku', np.max))\n",
    "res.to_csv(out_fpath, index=False)"
   ]
  },
  {
   "cell_type": "code",
   "execution_count": 52,
   "id": "5ea4dabe-723e-494f-a684-0eaf5fbd8e00",
   "metadata": {},
   "outputs": [
    {
     "name": "stdout",
     "output_type": "stream",
     "text": [
      "SKU,min_price,max_price\n",
      "10334,79.15039999999998,102.781\n"
     ]
    }
   ],
   "source": [
    "!head -n 2 sku_min_max_prices.csv"
   ]
  },
  {
   "cell_type": "markdown",
   "id": "31d3fd03-73e7-4e88-8813-4c04977d44ab",
   "metadata": {},
   "source": [
    "## Анализ first_group_sku"
   ]
  },
  {
   "cell_type": "code",
   "execution_count": 13,
   "id": "6335566e-16b7-4748-875a-6b1f81d22b9b",
   "metadata": {},
   "outputs": [
    {
     "data": {
      "text/html": [
       "<div>\n",
       "<style scoped>\n",
       "    .dataframe tbody tr th:only-of-type {\n",
       "        vertical-align: middle;\n",
       "    }\n",
       "\n",
       "    .dataframe tbody tr th {\n",
       "        vertical-align: top;\n",
       "    }\n",
       "\n",
       "    .dataframe thead th {\n",
       "        text-align: right;\n",
       "    }\n",
       "</style>\n",
       "<table border=\"1\" class=\"dataframe\">\n",
       "  <thead>\n",
       "    <tr style=\"text-align: right;\">\n",
       "      <th></th>\n",
       "      <th>dates</th>\n",
       "      <th>SKU</th>\n",
       "      <th>price_per_sku</th>\n",
       "      <th>num_purchases</th>\n",
       "      <th>file</th>\n",
       "      <th>fincode</th>\n",
       "      <th>ui1_code</th>\n",
       "      <th>ui2_code</th>\n",
       "      <th>ui3_code</th>\n",
       "      <th>vendor</th>\n",
       "      <th>brand_code</th>\n",
       "      <th>creation_date</th>\n",
       "      <th>expiration_date</th>\n",
       "    </tr>\n",
       "  </thead>\n",
       "  <tbody>\n",
       "    <tr>\n",
       "      <th>0</th>\n",
       "      <td>2018-04-20</td>\n",
       "      <td>32950</td>\n",
       "      <td>422.975</td>\n",
       "      <td>3</td>\n",
       "      <td>first_group_sku</td>\n",
       "      <td>FE</td>\n",
       "      <td>FE1</td>\n",
       "      <td>FE100</td>\n",
       "      <td>FE10000</td>\n",
       "      <td>AO59EQ</td>\n",
       "      <td>3FAIRJ4W</td>\n",
       "      <td>2018-01-15</td>\n",
       "      <td>2200-01-01 00:00:00</td>\n",
       "    </tr>\n",
       "  </tbody>\n",
       "</table>\n",
       "</div>"
      ],
      "text/plain": [
       "        dates    SKU  price_per_sku  num_purchases             file fincode  \\\n",
       "0  2018-04-20  32950        422.975              3  first_group_sku      FE   \n",
       "\n",
       "  ui1_code ui2_code ui3_code  vendor brand_code creation_date  \\\n",
       "0      FE1    FE100  FE10000  AO59EQ   3FAIRJ4W    2018-01-15   \n",
       "\n",
       "       expiration_date  \n",
       "0  2200-01-01 00:00:00  "
      ]
     },
     "execution_count": 13,
     "metadata": {},
     "output_type": "execute_result"
    }
   ],
   "source": [
    "df1 = df[df.file == 'first_group_sku']\n",
    "df1.head(1)"
   ]
  },
  {
   "cell_type": "raw",
   "id": "04ee1873-2831-4a2b-ae32-e2e538b632db",
   "metadata": {},
   "source": []
  },
  {
   "cell_type": "code",
   "execution_count": 37,
   "id": "a725e074-70ad-4bb7-8b87-d526a0e34843",
   "metadata": {},
   "outputs": [
    {
     "data": {
      "text/plain": [
       "<AxesSubplot:xlabel='dates'>"
      ]
     },
     "execution_count": 37,
     "metadata": {},
     "output_type": "execute_result"
    },
    {
     "data": {
      "image/png": "[encoded data removed]",
      "text/plain": [
       "<Figure size 864x288 with 1 Axes>"
      ]
     },
     "metadata": {
      "needs_background": "light"
     },
     "output_type": "display_data"
    }
   ],
   "source": [
    "df1.plot(x='dates', y = 'price_per_sku', figsize=(12, 4))"
   ]
  },
  {
   "cell_type": "code",
   "execution_count": 18,
   "id": "05500809-bdc5-4abc-9a76-951b9cef20e3",
   "metadata": {},
   "outputs": [],
   "source": [
    "# Посчитайте количество пропусков в столбце цен (price_per_sku) для каждого SKU\n",
    "res = df1.groupby(by='SKU', as_index=False).agg(nulls_count = ('price_per_sku', lambda x: x.isnull().sum()))\n",
    "res.nulls_count = res.nulls_count.astype(int)\n",
    "# res = res.rename(columns={'vendor': 'vendor_unique_number', 'brand_code': 'brand_unique_number'})\n",
    "out_fpath = 'first_sku_price_missings.csv'\n",
    "res.to_csv(out_fpath, index=False)"
   ]
  },
  {
   "cell_type": "code",
   "execution_count": 28,
   "id": "99fcb3e3-6340-42be-b6d8-b4567ed01d0d",
   "metadata": {},
   "outputs": [
    {
     "name": "stdout",
     "output_type": "stream",
     "text": [
      "SKU,nulls_count\n",
      "32950,44\n",
      "78833,32\n"
     ]
    }
   ],
   "source": [
    "!cat first_sku_price_missings.csv"
   ]
  },
  {
   "cell_type": "code",
   "execution_count": 31,
   "id": "d874b92d-13d1-4c62-9143-8064a50d021d",
   "metadata": {},
   "outputs": [
    {
     "data": {
      "text/plain": [
       "True"
      ]
     },
     "execution_count": 31,
     "metadata": {},
     "output_type": "execute_result"
    }
   ],
   "source": [
    "df.price_per_sku.isnull().any()"
   ]
  },
  {
   "cell_type": "code",
   "execution_count": 36,
   "id": "146996ec-5885-4011-a64a-64297c124b25",
   "metadata": {},
   "outputs": [
    {
     "data": {
      "text/plain": [
       "<AxesSubplot:xlabel='dates'>"
      ]
     },
     "execution_count": 36,
     "metadata": {},
     "output_type": "execute_result"
    },
    {
     "data": {
      "image/png": "[encoded data removed]",
      "text/plain": [
       "<Figure size 864x288 with 1 Axes>"
      ]
     },
     "metadata": {
      "needs_background": "light"
     },
     "output_type": "display_data"
    }
   ],
   "source": [
    "# Предложите вариант заполнения пропусков в данных.\n",
    "def price_imputation(d):\n",
    "    d = d.copy()\n",
    "    d.loc[d.price_per_sku.isnull(), 'price_per_sku'] = (d.price_per_sku.fillna(method='ffill')\n",
    "                                                    + d.price_per_sku.fillna(method='bfill'))/2\n",
    "    return d\n",
    "\n",
    "price_imputation(df1).plot(x='dates', y = 'price_per_sku', figsize=(12, 4))"
   ]
  },
  {
   "cell_type": "code",
   "execution_count": 27,
   "id": "6d50d988-bb0d-4c91-b157-67dca3727f02",
   "metadata": {},
   "outputs": [
    {
     "data": {
      "image/png": "[encoded data removed]",
      "text/plain": [
       "<Figure size 864x288 with 1 Axes>"
      ]
     },
     "metadata": {
      "needs_background": "light"
     },
     "output_type": "display_data"
    },
    {
     "data": {
      "image/png": "[encoded data removed]",
      "text/plain": [
       "<Figure size 864x288 with 1 Axes>"
      ]
     },
     "metadata": {
      "needs_background": "light"
     },
     "output_type": "display_data"
    }
   ],
   "source": [
    "# Для каждого SKU постройте график эластичности спроса\n",
    "for sku in df1.SKU.unique():\n",
    "    plt.figure(figsize=(12, 4))\n",
    "    sns.lineplot(x=df1[df1.SKU == sku].num_purchases, \n",
    "             y=df1[df1.SKU == sku].price_per_sku)"
   ]
  },
  {
   "cell_type": "markdown",
   "id": "26d6dbcc-a4e9-499a-8f66-6d51d00774ee",
   "metadata": {},
   "source": [
    "## Анализ second_group_sku"
   ]
  },
  {
   "cell_type": "code",
   "execution_count": 193,
   "id": "6ab8b1cf-cf37-4b7a-a75e-0e153520496a",
   "metadata": {},
   "outputs": [
    {
     "data": {
      "text/html": [
       "<div>\n",
       "<style scoped>\n",
       "    .dataframe tbody tr th:only-of-type {\n",
       "        vertical-align: middle;\n",
       "    }\n",
       "\n",
       "    .dataframe tbody tr th {\n",
       "        vertical-align: top;\n",
       "    }\n",
       "\n",
       "    .dataframe thead th {\n",
       "        text-align: right;\n",
       "    }\n",
       "</style>\n",
       "<table border=\"1\" class=\"dataframe\">\n",
       "  <thead>\n",
       "    <tr style=\"text-align: right;\">\n",
       "      <th></th>\n",
       "      <th>dates</th>\n",
       "      <th>SKU</th>\n",
       "      <th>price_per_sku</th>\n",
       "      <th>num_purchases</th>\n",
       "      <th>file</th>\n",
       "      <th>fincode</th>\n",
       "      <th>ui1_code</th>\n",
       "      <th>ui2_code</th>\n",
       "      <th>ui3_code</th>\n",
       "      <th>vendor</th>\n",
       "      <th>brand_code</th>\n",
       "      <th>creation_date</th>\n",
       "      <th>expiration_date</th>\n",
       "      <th>week_num</th>\n",
       "      <th>year</th>\n",
       "    </tr>\n",
       "  </thead>\n",
       "  <tbody>\n",
       "    <tr>\n",
       "      <th>245</th>\n",
       "      <td>2018-04-19</td>\n",
       "      <td>10334</td>\n",
       "      <td>92.89</td>\n",
       "      <td>10</td>\n",
       "      <td>second_group_sku</td>\n",
       "      <td>15</td>\n",
       "      <td>151</td>\n",
       "      <td>15100</td>\n",
       "      <td>1510002</td>\n",
       "      <td>4HJSP5</td>\n",
       "      <td>79VL731U</td>\n",
       "      <td>2018-04-19</td>\n",
       "      <td>2200-01-01 00:00:00</td>\n",
       "      <td>16</td>\n",
       "      <td>2018</td>\n",
       "    </tr>\n",
       "  </tbody>\n",
       "</table>\n",
       "</div>"
      ],
      "text/plain": [
       "         dates    SKU  price_per_sku  num_purchases              file fincode  \\\n",
       "245 2018-04-19  10334          92.89             10  second_group_sku      15   \n",
       "\n",
       "    ui1_code ui2_code ui3_code  vendor brand_code creation_date  \\\n",
       "245      151    15100  1510002  4HJSP5   79VL731U    2018-04-19   \n",
       "\n",
       "         expiration_date  week_num  year  \n",
       "245  2200-01-01 00:00:00        16  2018  "
      ]
     },
     "execution_count": 193,
     "metadata": {},
     "output_type": "execute_result"
    }
   ],
   "source": [
    "df2 = df[df.file == 'second_group_sku'].copy()\n",
    "df2['dates'] = pd.to_datetime(df2.dates)\n",
    "df2['week_num'] = df2.dates.dt.isocalendar().week.astype(int)\n",
    "df2['year'] = df2.dates.dt.year\n",
    "df2.head(1)"
   ]
  },
  {
   "cell_type": "code",
   "execution_count": 12,
   "id": "08e8535b-eba7-4d56-86a5-4f7955ef327e",
   "metadata": {},
   "outputs": [
    {
     "data": {
      "text/html": [
       "<div>\n",
       "<style scoped>\n",
       "    .dataframe tbody tr th:only-of-type {\n",
       "        vertical-align: middle;\n",
       "    }\n",
       "\n",
       "    .dataframe tbody tr th {\n",
       "        vertical-align: top;\n",
       "    }\n",
       "\n",
       "    .dataframe thead th {\n",
       "        text-align: right;\n",
       "    }\n",
       "</style>\n",
       "<table border=\"1\" class=\"dataframe\">\n",
       "  <thead>\n",
       "    <tr style=\"text-align: right;\">\n",
       "      <th>SKU</th>\n",
       "      <th>10334</th>\n",
       "      <th>17812</th>\n",
       "      <th>36096</th>\n",
       "      <th>38767</th>\n",
       "      <th>43678</th>\n",
       "      <th>57561</th>\n",
       "      <th>64619</th>\n",
       "      <th>68211</th>\n",
       "      <th>69997</th>\n",
       "      <th>72784</th>\n",
       "      <th>83329</th>\n",
       "      <th>90611</th>\n",
       "      <th>98255</th>\n",
       "    </tr>\n",
       "    <tr>\n",
       "      <th>dates</th>\n",
       "      <th></th>\n",
       "      <th></th>\n",
       "      <th></th>\n",
       "      <th></th>\n",
       "      <th></th>\n",
       "      <th></th>\n",
       "      <th></th>\n",
       "      <th></th>\n",
       "      <th></th>\n",
       "      <th></th>\n",
       "      <th></th>\n",
       "      <th></th>\n",
       "      <th></th>\n",
       "    </tr>\n",
       "  </thead>\n",
       "  <tbody>\n",
       "    <tr>\n",
       "      <th>2019-12-23</th>\n",
       "      <td>101.094</td>\n",
       "      <td>NaN</td>\n",
       "      <td>NaN</td>\n",
       "      <td>74.536</td>\n",
       "      <td>NaN</td>\n",
       "      <td>NaN</td>\n",
       "      <td>NaN</td>\n",
       "      <td>NaN</td>\n",
       "      <td>NaN</td>\n",
       "      <td>NaN</td>\n",
       "      <td>NaN</td>\n",
       "      <td>NaN</td>\n",
       "      <td>NaN</td>\n",
       "    </tr>\n",
       "    <tr>\n",
       "      <th>2019-12-24</th>\n",
       "      <td>101.094</td>\n",
       "      <td>NaN</td>\n",
       "      <td>NaN</td>\n",
       "      <td>NaN</td>\n",
       "      <td>NaN</td>\n",
       "      <td>NaN</td>\n",
       "      <td>NaN</td>\n",
       "      <td>NaN</td>\n",
       "      <td>NaN</td>\n",
       "      <td>NaN</td>\n",
       "      <td>NaN</td>\n",
       "      <td>NaN</td>\n",
       "      <td>NaN</td>\n",
       "    </tr>\n",
       "  </tbody>\n",
       "</table>\n",
       "</div>"
      ],
      "text/plain": [
       "SKU           10334  17812  36096   38767  43678  57561  64619  68211  69997  \\\n",
       "dates                                                                          \n",
       "2019-12-23  101.094    NaN    NaN  74.536    NaN    NaN    NaN    NaN    NaN   \n",
       "2019-12-24  101.094    NaN    NaN     NaN    NaN    NaN    NaN    NaN    NaN   \n",
       "\n",
       "SKU         72784  83329  90611  98255  \n",
       "dates                                   \n",
       "2019-12-23    NaN    NaN    NaN    NaN  \n",
       "2019-12-24    NaN    NaN    NaN    NaN  "
      ]
     },
     "execution_count": 12,
     "metadata": {},
     "output_type": "execute_result"
    }
   ],
   "source": [
    "pivot_t = df2.pivot_table(index='dates', columns='SKU', values='price_per_sku')\n",
    "pivot_t.tail(2)"
   ]
  },
  {
   "cell_type": "code",
   "execution_count": 10,
   "id": "063beb10-498d-4860-b166-da0cc3b124ba",
   "metadata": {},
   "outputs": [
    {
     "data": {
      "text/plain": [
       "<AxesSubplot:xlabel='dates'>"
      ]
     },
     "execution_count": 10,
     "metadata": {},
     "output_type": "execute_result"
    },
    {
     "data": {
      "image/png": "[encoded data removed]",
      "text/plain": [
       "<Figure size 864x360 with 1 Axes>"
      ]
     },
     "metadata": {
      "needs_background": "light"
     },
     "output_type": "display_data"
    }
   ],
   "source": [
    "plt.figure(figsize=(12, 5))\n",
    "sns.lineplot(data=pivot_t, dashes=False)"
   ]
  },
  {
   "cell_type": "code",
   "execution_count": 194,
   "id": "f61beca3-9dc4-48d0-8d6f-42e54c998726",
   "metadata": {},
   "outputs": [
    {
     "data": {
      "text/html": [
       "<div>\n",
       "<style scoped>\n",
       "    .dataframe tbody tr th:only-of-type {\n",
       "        vertical-align: middle;\n",
       "    }\n",
       "\n",
       "    .dataframe tbody tr th {\n",
       "        vertical-align: top;\n",
       "    }\n",
       "\n",
       "    .dataframe thead th {\n",
       "        text-align: right;\n",
       "    }\n",
       "</style>\n",
       "<table border=\"1\" class=\"dataframe\">\n",
       "  <thead>\n",
       "    <tr style=\"text-align: right;\">\n",
       "      <th></th>\n",
       "      <th>year</th>\n",
       "      <th>week_num</th>\n",
       "      <th>SKU</th>\n",
       "      <th>discount</th>\n",
       "    </tr>\n",
       "  </thead>\n",
       "  <tbody>\n",
       "    <tr>\n",
       "      <th>0</th>\n",
       "      <td>2019</td>\n",
       "      <td>1</td>\n",
       "      <td>90611</td>\n",
       "      <td>0.9</td>\n",
       "    </tr>\n",
       "    <tr>\n",
       "      <th>1</th>\n",
       "      <td>2019</td>\n",
       "      <td>2</td>\n",
       "      <td>10334</td>\n",
       "      <td>0.9</td>\n",
       "    </tr>\n",
       "  </tbody>\n",
       "</table>\n",
       "</div>"
      ],
      "text/plain": [
       "   year  week_num    SKU  discount\n",
       "0  2019         1  90611       0.9\n",
       "1  2019         2  10334       0.9"
      ]
     },
     "execution_count": 194,
     "metadata": {},
     "output_type": "execute_result"
    }
   ],
   "source": [
    "dp = pd.read_csv(os.path.join(FLD, 'promo_1510002.csv'))\n",
    "dp.head(2)"
   ]
  },
  {
   "cell_type": "code",
   "execution_count": 195,
   "id": "9cd8a6c4-7fd1-4c8d-b4a7-8c9ac25ddffd",
   "metadata": {},
   "outputs": [
    {
     "data": {
      "text/html": [
       "<div>\n",
       "<style scoped>\n",
       "    .dataframe tbody tr th:only-of-type {\n",
       "        vertical-align: middle;\n",
       "    }\n",
       "\n",
       "    .dataframe tbody tr th {\n",
       "        vertical-align: top;\n",
       "    }\n",
       "\n",
       "    .dataframe thead th {\n",
       "        text-align: right;\n",
       "    }\n",
       "</style>\n",
       "<table border=\"1\" class=\"dataframe\">\n",
       "  <thead>\n",
       "    <tr style=\"text-align: right;\">\n",
       "      <th></th>\n",
       "      <th>dates</th>\n",
       "      <th>SKU</th>\n",
       "      <th>price_per_sku</th>\n",
       "      <th>num_purchases</th>\n",
       "      <th>file</th>\n",
       "      <th>fincode</th>\n",
       "      <th>ui1_code</th>\n",
       "      <th>ui2_code</th>\n",
       "      <th>ui3_code</th>\n",
       "      <th>vendor</th>\n",
       "      <th>brand_code</th>\n",
       "      <th>creation_date</th>\n",
       "      <th>expiration_date</th>\n",
       "      <th>week_num</th>\n",
       "      <th>year</th>\n",
       "      <th>discount</th>\n",
       "    </tr>\n",
       "  </thead>\n",
       "  <tbody>\n",
       "    <tr>\n",
       "      <th>0</th>\n",
       "      <td>2018-04-19</td>\n",
       "      <td>10334</td>\n",
       "      <td>92.89</td>\n",
       "      <td>10</td>\n",
       "      <td>second_group_sku</td>\n",
       "      <td>15</td>\n",
       "      <td>151</td>\n",
       "      <td>15100</td>\n",
       "      <td>1510002</td>\n",
       "      <td>4HJSP5</td>\n",
       "      <td>79VL731U</td>\n",
       "      <td>2018-04-19</td>\n",
       "      <td>2200-01-01 00:00:00</td>\n",
       "      <td>16</td>\n",
       "      <td>2018</td>\n",
       "      <td>NaN</td>\n",
       "    </tr>\n",
       "  </tbody>\n",
       "</table>\n",
       "</div>"
      ],
      "text/plain": [
       "       dates    SKU  price_per_sku  num_purchases              file fincode  \\\n",
       "0 2018-04-19  10334          92.89             10  second_group_sku      15   \n",
       "\n",
       "  ui1_code ui2_code ui3_code  vendor brand_code creation_date  \\\n",
       "0      151    15100  1510002  4HJSP5   79VL731U    2018-04-19   \n",
       "\n",
       "       expiration_date  week_num  year  discount  \n",
       "0  2200-01-01 00:00:00        16  2018       NaN  "
      ]
     },
     "execution_count": 195,
     "metadata": {},
     "output_type": "execute_result"
    }
   ],
   "source": [
    "df2 = df2.merge(dp, how='left', on = ['SKU', 'year', 'week_num'])\n",
    "df2.head(1)"
   ]
  },
  {
   "cell_type": "code",
   "execution_count": 65,
   "id": "c1118ab0-93ea-479d-8477-fb3c3e9b9228",
   "metadata": {},
   "outputs": [],
   "source": [
    "# количество записей (строк) с промоакциями\n",
    "fpath_out = \"second_sku_promo_count.csv\"\n",
    "res = dp.SKU.value_counts()\n",
    "pd.DataFrame.from_dict({\"SKU\": res.index, 'promo_count': res.values}).to_csv(fpath_out, index=False)"
   ]
  },
  {
   "cell_type": "code",
   "execution_count": 66,
   "id": "d701e38d-5a87-4fa8-9685-65edd15b72d4",
   "metadata": {},
   "outputs": [
    {
     "name": "stdout",
     "output_type": "stream",
     "text": [
      "SKU,promo_count\n",
      "17812,8\n",
      "10334,8\n",
      "57561,7\n",
      "90611,6\n",
      "38767,5\n",
      "43678,4\n",
      "36096,3\n",
      "83329,3\n",
      "72784,3\n"
     ]
    }
   ],
   "source": [
    "!head second_sku_promo_count.csv"
   ]
  },
  {
   "cell_type": "code",
   "execution_count": 197,
   "id": "29c00da5-d36e-4215-8643-282757333b92",
   "metadata": {},
   "outputs": [],
   "source": [
    "df2['is_discount'] = np.where(df2.discount.isnull(), 0,1)"
   ]
  },
  {
   "cell_type": "code",
   "execution_count": 216,
   "id": "9b8c1eaf-ad8c-4f78-92fe-9171e097949e",
   "metadata": {},
   "outputs": [
    {
     "data": {
      "text/html": [
       "<div>\n",
       "<style scoped>\n",
       "    .dataframe tbody tr th:only-of-type {\n",
       "        vertical-align: middle;\n",
       "    }\n",
       "\n",
       "    .dataframe tbody tr th {\n",
       "        vertical-align: top;\n",
       "    }\n",
       "\n",
       "    .dataframe thead th {\n",
       "        text-align: right;\n",
       "    }\n",
       "</style>\n",
       "<table border=\"1\" class=\"dataframe\">\n",
       "  <thead>\n",
       "    <tr style=\"text-align: right;\">\n",
       "      <th></th>\n",
       "      <th>SKU</th>\n",
       "      <th>mean_num_purchases_promo</th>\n",
       "      <th>mean_num_purchases_wo_promo</th>\n",
       "    </tr>\n",
       "  </thead>\n",
       "  <tbody>\n",
       "    <tr>\n",
       "      <th>0</th>\n",
       "      <td>10334</td>\n",
       "      <td>11.977778</td>\n",
       "      <td>9.980050</td>\n",
       "    </tr>\n",
       "    <tr>\n",
       "      <th>1</th>\n",
       "      <td>17812</td>\n",
       "      <td>5.934783</td>\n",
       "      <td>3.613636</td>\n",
       "    </tr>\n",
       "    <tr>\n",
       "      <th>2</th>\n",
       "      <td>36096</td>\n",
       "      <td>12.923077</td>\n",
       "      <td>11.414634</td>\n",
       "    </tr>\n",
       "    <tr>\n",
       "      <th>3</th>\n",
       "      <td>38767</td>\n",
       "      <td>10.222222</td>\n",
       "      <td>9.000000</td>\n",
       "    </tr>\n",
       "    <tr>\n",
       "      <th>4</th>\n",
       "      <td>43678</td>\n",
       "      <td>12.090909</td>\n",
       "      <td>9.448276</td>\n",
       "    </tr>\n",
       "    <tr>\n",
       "      <th>5</th>\n",
       "      <td>57561</td>\n",
       "      <td>9.727273</td>\n",
       "      <td>8.050378</td>\n",
       "    </tr>\n",
       "    <tr>\n",
       "      <th>6</th>\n",
       "      <td>64619</td>\n",
       "      <td>5.800000</td>\n",
       "      <td>4.329897</td>\n",
       "    </tr>\n",
       "    <tr>\n",
       "      <th>7</th>\n",
       "      <td>68211</td>\n",
       "      <td>13.111111</td>\n",
       "      <td>11.459350</td>\n",
       "    </tr>\n",
       "    <tr>\n",
       "      <th>8</th>\n",
       "      <td>69997</td>\n",
       "      <td>7.818182</td>\n",
       "      <td>4.333333</td>\n",
       "    </tr>\n",
       "    <tr>\n",
       "      <th>9</th>\n",
       "      <td>72784</td>\n",
       "      <td>9.133333</td>\n",
       "      <td>6.953782</td>\n",
       "    </tr>\n",
       "    <tr>\n",
       "      <th>10</th>\n",
       "      <td>83329</td>\n",
       "      <td>11.866667</td>\n",
       "      <td>9.416974</td>\n",
       "    </tr>\n",
       "    <tr>\n",
       "      <th>11</th>\n",
       "      <td>90611</td>\n",
       "      <td>6.903226</td>\n",
       "      <td>4.993039</td>\n",
       "    </tr>\n",
       "    <tr>\n",
       "      <th>12</th>\n",
       "      <td>98255</td>\n",
       "      <td>NaN</td>\n",
       "      <td>7.593407</td>\n",
       "    </tr>\n",
       "  </tbody>\n",
       "</table>\n",
       "</div>"
      ],
      "text/plain": [
       "      SKU  mean_num_purchases_promo  mean_num_purchases_wo_promo\n",
       "0   10334                 11.977778                     9.980050\n",
       "1   17812                  5.934783                     3.613636\n",
       "2   36096                 12.923077                    11.414634\n",
       "3   38767                 10.222222                     9.000000\n",
       "4   43678                 12.090909                     9.448276\n",
       "5   57561                  9.727273                     8.050378\n",
       "6   64619                  5.800000                     4.329897\n",
       "7   68211                 13.111111                    11.459350\n",
       "8   69997                  7.818182                     4.333333\n",
       "9   72784                  9.133333                     6.953782\n",
       "10  83329                 11.866667                     9.416974\n",
       "11  90611                  6.903226                     4.993039\n",
       "12  98255                       NaN                     7.593407"
      ]
     },
     "execution_count": 216,
     "metadata": {},
     "output_type": "execute_result"
    }
   ],
   "source": [
    "res1 = df2[df2.is_discount==0].groupby(by=['SKU'], as_index=False).agg(mean_num_purchases_wo_promo = ('num_purchases', np.mean))\n",
    "res2 = df2[df2.is_discount==1].groupby(by=['SKU'], as_index=False).agg(mean_num_purchases_promo = ('num_purchases', np.mean))\n",
    "res = res2.merge(res1, how='outer', on = ['SKU'])\n",
    "# res.fillna(0, inplace=True)\n",
    "res"
   ]
  },
  {
   "cell_type": "code",
   "execution_count": 217,
   "id": "bfe8091d-a7db-4960-b05e-7711bd5545ad",
   "metadata": {},
   "outputs": [],
   "source": [
    "# среднее количество продаж в период с промоакциями и в период без них.\n",
    "\n",
    "fpath_out = \"second_sku_sales_comparison.csv\"\n",
    "res.to_csv(fpath_out, index=False)"
   ]
  },
  {
   "cell_type": "code",
   "execution_count": 218,
   "id": "11205f28-82c6-44a2-aac9-42f696a2c287",
   "metadata": {},
   "outputs": [
    {
     "name": "stdout",
     "output_type": "stream",
     "text": [
      "SKU,mean_num_purchases_promo,mean_num_purchases_wo_promo\n",
      "10334,11.977777777777778,9.980049875311721\n",
      "17812,5.934782608695652,3.6136363636363638\n",
      "36096,12.923076923076923,11.414634146341463\n",
      "38767,10.222222222222221,9.0\n",
      "43678,12.090909090909092,9.448275862068966\n",
      "57561,9.727272727272727,8.05037783375315\n",
      "64619,5.8,4.329896907216495\n",
      "68211,13.11111111111111,11.459349593495935\n",
      "69997,7.818181818181818,4.333333333333333\n",
      "72784,9.133333333333333,6.953781512605042\n",
      "83329,11.866666666666667,9.416974169741698\n",
      "90611,6.903225806451613,4.993039443155452\n",
      "98255,,7.593406593406593\n"
     ]
    }
   ],
   "source": [
    "!cat second_sku_sales_comparison.csv"
   ]
  },
  {
   "cell_type": "markdown",
   "id": "c152a5eb-edba-47d6-aa11-244ca377e970",
   "metadata": {},
   "source": [
    "## Анализ third_group_sku"
   ]
  },
  {
   "cell_type": "code",
   "execution_count": 172,
   "id": "cd185e55-085c-454e-97a5-536dab101544",
   "metadata": {},
   "outputs": [
    {
     "data": {
      "text/html": [
       "<div>\n",
       "<style scoped>\n",
       "    .dataframe tbody tr th:only-of-type {\n",
       "        vertical-align: middle;\n",
       "    }\n",
       "\n",
       "    .dataframe tbody tr th {\n",
       "        vertical-align: top;\n",
       "    }\n",
       "\n",
       "    .dataframe thead th {\n",
       "        text-align: right;\n",
       "    }\n",
       "</style>\n",
       "<table border=\"1\" class=\"dataframe\">\n",
       "  <thead>\n",
       "    <tr style=\"text-align: right;\">\n",
       "      <th></th>\n",
       "      <th>dates</th>\n",
       "      <th>SKU</th>\n",
       "      <th>price_per_sku</th>\n",
       "      <th>num_purchases</th>\n",
       "      <th>file</th>\n",
       "      <th>fincode</th>\n",
       "      <th>ui1_code</th>\n",
       "      <th>ui2_code</th>\n",
       "      <th>ui3_code</th>\n",
       "      <th>vendor</th>\n",
       "      <th>brand_code</th>\n",
       "      <th>creation_date</th>\n",
       "      <th>expiration_date</th>\n",
       "      <th>week_num</th>\n",
       "      <th>year</th>\n",
       "    </tr>\n",
       "  </thead>\n",
       "  <tbody>\n",
       "    <tr>\n",
       "      <th>3994</th>\n",
       "      <td>2018-04-22</td>\n",
       "      <td>11050</td>\n",
       "      <td>101.575</td>\n",
       "      <td>10</td>\n",
       "      <td>third_group_sku</td>\n",
       "      <td>15</td>\n",
       "      <td>151</td>\n",
       "      <td>15100</td>\n",
       "      <td>1510003</td>\n",
       "      <td>CHQKSO</td>\n",
       "      <td>WKXRWTP7</td>\n",
       "      <td>2018-04-21</td>\n",
       "      <td>2200-01-01 00:00:00</td>\n",
       "      <td>16</td>\n",
       "      <td>2018</td>\n",
       "    </tr>\n",
       "  </tbody>\n",
       "</table>\n",
       "</div>"
      ],
      "text/plain": [
       "          dates    SKU  price_per_sku  num_purchases             file fincode  \\\n",
       "3994 2018-04-22  11050        101.575             10  third_group_sku      15   \n",
       "\n",
       "     ui1_code ui2_code ui3_code  vendor brand_code creation_date  \\\n",
       "3994      151    15100  1510003  CHQKSO   WKXRWTP7    2018-04-21   \n",
       "\n",
       "          expiration_date  week_num  year  \n",
       "3994  2200-01-01 00:00:00        16  2018  "
      ]
     },
     "execution_count": 172,
     "metadata": {},
     "output_type": "execute_result"
    }
   ],
   "source": [
    "df3 = df[df.file == 'third_group_sku'].copy()\n",
    "df3['dates'] = pd.to_datetime(df3.dates)\n",
    "df3['week_num'] = df3.dates.dt.isocalendar().week.astype(int)\n",
    "df3['year'] = df3.dates.dt.year\n",
    "df3.head(1)"
   ]
  },
  {
   "cell_type": "code",
   "execution_count": 136,
   "id": "71114a77-360c-46c7-8241-12ae6751b144",
   "metadata": {},
   "outputs": [
    {
     "data": {
      "text/html": [
       "<div>\n",
       "<style scoped>\n",
       "    .dataframe tbody tr th:only-of-type {\n",
       "        vertical-align: middle;\n",
       "    }\n",
       "\n",
       "    .dataframe tbody tr th {\n",
       "        vertical-align: top;\n",
       "    }\n",
       "\n",
       "    .dataframe thead th {\n",
       "        text-align: right;\n",
       "    }\n",
       "</style>\n",
       "<table border=\"1\" class=\"dataframe\">\n",
       "  <thead>\n",
       "    <tr style=\"text-align: right;\">\n",
       "      <th>SKU</th>\n",
       "      <th>11050</th>\n",
       "      <th>19632</th>\n",
       "      <th>24125</th>\n",
       "      <th>49661</th>\n",
       "      <th>54404</th>\n",
       "      <th>60870</th>\n",
       "      <th>80308</th>\n",
       "      <th>80631</th>\n",
       "      <th>84395</th>\n",
       "      <th>89272</th>\n",
       "    </tr>\n",
       "    <tr>\n",
       "      <th>dates</th>\n",
       "      <th></th>\n",
       "      <th></th>\n",
       "      <th></th>\n",
       "      <th></th>\n",
       "      <th></th>\n",
       "      <th></th>\n",
       "      <th></th>\n",
       "      <th></th>\n",
       "      <th></th>\n",
       "      <th></th>\n",
       "    </tr>\n",
       "  </thead>\n",
       "  <tbody>\n",
       "    <tr>\n",
       "      <th>2019-12-24</th>\n",
       "      <td>NaN</td>\n",
       "      <td>NaN</td>\n",
       "      <td>NaN</td>\n",
       "      <td>165.978</td>\n",
       "      <td>NaN</td>\n",
       "      <td>NaN</td>\n",
       "      <td>NaN</td>\n",
       "      <td>NaN</td>\n",
       "      <td>NaN</td>\n",
       "      <td>NaN</td>\n",
       "    </tr>\n",
       "  </tbody>\n",
       "</table>\n",
       "</div>"
      ],
      "text/plain": [
       "SKU         11050  19632  24125    49661  54404  60870  80308  80631  84395  \\\n",
       "dates                                                                         \n",
       "2019-12-24    NaN    NaN    NaN  165.978    NaN    NaN    NaN    NaN    NaN   \n",
       "\n",
       "SKU         89272  \n",
       "dates              \n",
       "2019-12-24    NaN  "
      ]
     },
     "execution_count": 136,
     "metadata": {},
     "output_type": "execute_result"
    }
   ],
   "source": [
    "pivot_t = df3.pivot_table(index='dates', columns='SKU', values='price_per_sku')\n",
    "pivot_t.tail(1)"
   ]
  },
  {
   "cell_type": "code",
   "execution_count": 137,
   "id": "2e6e61dd-edac-4c73-bfc5-e8b5893a4f02",
   "metadata": {},
   "outputs": [
    {
     "data": {
      "text/plain": [
       "<AxesSubplot:xlabel='dates'>"
      ]
     },
     "execution_count": 137,
     "metadata": {},
     "output_type": "execute_result"
    },
    {
     "data": {
      "image/png": "[encoded data removed]",
      "text/plain": [
       "<Figure size 864x360 with 1 Axes>"
      ]
     },
     "metadata": {
      "needs_background": "light"
     },
     "output_type": "display_data"
    }
   ],
   "source": [
    "plt.figure(figsize=(12, 5))\n",
    "sns.lineplot(data=pivot_t, dashes=False)"
   ]
  },
  {
   "cell_type": "code",
   "execution_count": 222,
   "id": "7589fe6c-d556-4f94-8f07-bcc0e4924afc",
   "metadata": {},
   "outputs": [
    {
     "data": {
      "text/html": [
       "<div>\n",
       "<style scoped>\n",
       "    .dataframe tbody tr th:only-of-type {\n",
       "        vertical-align: middle;\n",
       "    }\n",
       "\n",
       "    .dataframe tbody tr th {\n",
       "        vertical-align: top;\n",
       "    }\n",
       "\n",
       "    .dataframe thead th {\n",
       "        text-align: right;\n",
       "    }\n",
       "</style>\n",
       "<table border=\"1\" class=\"dataframe\">\n",
       "  <thead>\n",
       "    <tr style=\"text-align: right;\">\n",
       "      <th></th>\n",
       "      <th>SKU</th>\n",
       "      <th>year</th>\n",
       "      <th>week_num</th>\n",
       "      <th>ret_net_code</th>\n",
       "      <th>price_per_sku</th>\n",
       "    </tr>\n",
       "  </thead>\n",
       "  <tbody>\n",
       "    <tr>\n",
       "      <th>0</th>\n",
       "      <td>84395</td>\n",
       "      <td>2019</td>\n",
       "      <td>18</td>\n",
       "      <td>1</td>\n",
       "      <td>164.694</td>\n",
       "    </tr>\n",
       "    <tr>\n",
       "      <th>1</th>\n",
       "      <td>84395</td>\n",
       "      <td>2019</td>\n",
       "      <td>18</td>\n",
       "      <td>2</td>\n",
       "      <td>164.694</td>\n",
       "    </tr>\n",
       "  </tbody>\n",
       "</table>\n",
       "</div>"
      ],
      "text/plain": [
       "     SKU  year  week_num  ret_net_code  price_per_sku\n",
       "0  84395  2019        18             1        164.694\n",
       "1  84395  2019        18             2        164.694"
      ]
     },
     "execution_count": 222,
     "metadata": {},
     "output_type": "execute_result"
    }
   ],
   "source": [
    "conc = pd.read_csv(os.path.join(FLD, 'conc_df.csv'))\n",
    "conc.head(2)"
   ]
  },
  {
   "cell_type": "code",
   "execution_count": 224,
   "id": "3832c6e0-a32f-434f-ba34-66d45f75fd01",
   "metadata": {},
   "outputs": [],
   "source": [
    "aggr_conc = conc.groupby(['SKU', 'year', 'week_num']).price_per_sku.agg(['min', 'max']).reset_index()"
   ]
  },
  {
   "cell_type": "code",
   "execution_count": 226,
   "id": "423fee2a-190c-4257-a0f2-82e0b6af60b1",
   "metadata": {},
   "outputs": [
    {
     "data": {
      "text/html": [
       "<div>\n",
       "<style scoped>\n",
       "    .dataframe tbody tr th:only-of-type {\n",
       "        vertical-align: middle;\n",
       "    }\n",
       "\n",
       "    .dataframe tbody tr th {\n",
       "        vertical-align: top;\n",
       "    }\n",
       "\n",
       "    .dataframe thead th {\n",
       "        text-align: right;\n",
       "    }\n",
       "</style>\n",
       "<table border=\"1\" class=\"dataframe\">\n",
       "  <thead>\n",
       "    <tr style=\"text-align: right;\">\n",
       "      <th></th>\n",
       "      <th>dates</th>\n",
       "      <th>SKU</th>\n",
       "      <th>price_per_sku</th>\n",
       "      <th>num_purchases</th>\n",
       "      <th>file</th>\n",
       "      <th>fincode</th>\n",
       "      <th>ui1_code</th>\n",
       "      <th>ui2_code</th>\n",
       "      <th>ui3_code</th>\n",
       "      <th>vendor</th>\n",
       "      <th>brand_code</th>\n",
       "      <th>creation_date</th>\n",
       "      <th>expiration_date</th>\n",
       "      <th>week_num</th>\n",
       "      <th>year</th>\n",
       "      <th>is_less</th>\n",
       "      <th>min</th>\n",
       "      <th>max</th>\n",
       "    </tr>\n",
       "  </thead>\n",
       "  <tbody>\n",
       "    <tr>\n",
       "      <th>0</th>\n",
       "      <td>2018-04-22</td>\n",
       "      <td>11050</td>\n",
       "      <td>101.575</td>\n",
       "      <td>10</td>\n",
       "      <td>third_group_sku</td>\n",
       "      <td>15</td>\n",
       "      <td>151</td>\n",
       "      <td>15100</td>\n",
       "      <td>1510003</td>\n",
       "      <td>CHQKSO</td>\n",
       "      <td>WKXRWTP7</td>\n",
       "      <td>2018-04-21</td>\n",
       "      <td>2200-01-01 00:00:00</td>\n",
       "      <td>16</td>\n",
       "      <td>2018</td>\n",
       "      <td>False</td>\n",
       "      <td>NaN</td>\n",
       "      <td>NaN</td>\n",
       "    </tr>\n",
       "    <tr>\n",
       "      <th>1</th>\n",
       "      <td>2018-04-23</td>\n",
       "      <td>11050</td>\n",
       "      <td>101.344</td>\n",
       "      <td>9</td>\n",
       "      <td>third_group_sku</td>\n",
       "      <td>15</td>\n",
       "      <td>151</td>\n",
       "      <td>15100</td>\n",
       "      <td>1510003</td>\n",
       "      <td>CHQKSO</td>\n",
       "      <td>WKXRWTP7</td>\n",
       "      <td>2018-04-21</td>\n",
       "      <td>2200-01-01 00:00:00</td>\n",
       "      <td>17</td>\n",
       "      <td>2018</td>\n",
       "      <td>False</td>\n",
       "      <td>NaN</td>\n",
       "      <td>NaN</td>\n",
       "    </tr>\n",
       "  </tbody>\n",
       "</table>\n",
       "</div>"
      ],
      "text/plain": [
       "       dates    SKU  price_per_sku  num_purchases             file fincode  \\\n",
       "0 2018-04-22  11050        101.575             10  third_group_sku      15   \n",
       "1 2018-04-23  11050        101.344              9  third_group_sku      15   \n",
       "\n",
       "  ui1_code ui2_code ui3_code  vendor brand_code creation_date  \\\n",
       "0      151    15100  1510003  CHQKSO   WKXRWTP7    2018-04-21   \n",
       "1      151    15100  1510003  CHQKSO   WKXRWTP7    2018-04-21   \n",
       "\n",
       "       expiration_date  week_num  year  is_less  min  max  \n",
       "0  2200-01-01 00:00:00        16  2018    False  NaN  NaN  \n",
       "1  2200-01-01 00:00:00        17  2018    False  NaN  NaN  "
      ]
     },
     "execution_count": 226,
     "metadata": {},
     "output_type": "execute_result"
    }
   ],
   "source": [
    "df3 = df3.merge(aggr_conc, how='left', on=['SKU', 'year', 'week_num'])\n",
    "df3.head(2)"
   ]
  },
  {
   "cell_type": "code",
   "execution_count": 174,
   "id": "1678678b-ebfb-4a32-a5ed-3359036453e8",
   "metadata": {},
   "outputs": [],
   "source": [
    "# количество записей в таблице цен конкурентов\n",
    "res = conc.SKU.value_counts()\n",
    "fpath_out = \"third_sku_competitor_count.csv\"\n",
    "pd.DataFrame.from_dict({\"SKU\": res.index, 'conc_rows_count': res.values}).to_csv(fpath_out, index=False)"
   ]
  },
  {
   "cell_type": "code",
   "execution_count": 175,
   "id": "30df0d9c-8985-4242-b12e-ef4d0e84f94d",
   "metadata": {},
   "outputs": [
    {
     "name": "stdout",
     "output_type": "stream",
     "text": [
      "SKU,conc_rows_count\n",
      "80308,453\n",
      "84395,399\n",
      "89272,396\n",
      "49661,387\n",
      "54404,384\n",
      "11050,384\n",
      "80631,261\n",
      "19632,147\n",
      "60870,105\n",
      "24125,93\n"
     ]
    }
   ],
   "source": [
    "!cat third_sku_competitor_count.csv"
   ]
  },
  {
   "cell_type": "code",
   "execution_count": 227,
   "id": "f41eec6f-d9fc-4b42-afe5-be8a63e2ed59",
   "metadata": {},
   "outputs": [],
   "source": [
    "# количество записей в моменты, когда цена на SKU была меньше или равна минимальной цене на\n",
    "# этот же SKU у конкурентов\n",
    "\n",
    "df3['is_less'] = np.where(df3.price_per_sku <= df3['min'], 1,0)\n",
    "res = df3.groupby(by='SKU', as_index=False).agg(lowest_price_rows_count =('is_less', np.sum))\n",
    "\n",
    "fpath_out = \"third_sku_le_price.csv\"\n",
    "res.to_csv(fpath_out, index=False)"
   ]
  },
  {
   "cell_type": "code",
   "execution_count": 228,
   "id": "d0c31994-37a5-4ed8-bbac-ef6ee57a82ba",
   "metadata": {},
   "outputs": [
    {
     "name": "stdout",
     "output_type": "stream",
     "text": [
      "SKU,lowest_price_rows_count\n",
      "11050,0\n",
      "19632,0\n",
      "24125,0\n",
      "49661,3\n",
      "54404,13\n",
      "60870,0\n",
      "80308,0\n",
      "80631,0\n",
      "84395,14\n",
      "89272,7\n"
     ]
    }
   ],
   "source": [
    "!cat third_sku_le_price.csv"
   ]
  },
  {
   "cell_type": "markdown",
   "id": "1095ebc3-4d56-4208-b0a8-74c1090964c2",
   "metadata": {},
   "source": [
    "## Предсказание цены на будущее для SKU из тестового набора данных"
   ]
  },
  {
   "cell_type": "code",
   "execution_count": 8,
   "id": "4a6c0823-c523-474f-941b-965967e0368d",
   "metadata": {},
   "outputs": [
    {
     "data": {
      "text/html": [
       "<div>\n",
       "<style scoped>\n",
       "    .dataframe tbody tr th:only-of-type {\n",
       "        vertical-align: middle;\n",
       "    }\n",
       "\n",
       "    .dataframe tbody tr th {\n",
       "        vertical-align: top;\n",
       "    }\n",
       "\n",
       "    .dataframe thead th {\n",
       "        text-align: right;\n",
       "    }\n",
       "</style>\n",
       "<table border=\"1\" class=\"dataframe\">\n",
       "  <thead>\n",
       "    <tr style=\"text-align: right;\">\n",
       "      <th></th>\n",
       "      <th>dates</th>\n",
       "      <th>SKU</th>\n",
       "    </tr>\n",
       "  </thead>\n",
       "  <tbody>\n",
       "    <tr>\n",
       "      <th>0</th>\n",
       "      <td>2018-12-17</td>\n",
       "      <td>98255</td>\n",
       "    </tr>\n",
       "    <tr>\n",
       "      <th>1</th>\n",
       "      <td>2018-12-21</td>\n",
       "      <td>98255</td>\n",
       "    </tr>\n",
       "  </tbody>\n",
       "</table>\n",
       "</div>"
      ],
      "text/plain": [
       "        dates    SKU\n",
       "0  2018-12-17  98255\n",
       "1  2018-12-21  98255"
      ]
     },
     "execution_count": 8,
     "metadata": {},
     "output_type": "execute_result"
    }
   ],
   "source": [
    "dftest = pd.read_csv(os.path.join(FLD, 'test.csv'))\n",
    "dftest.head(2)"
   ]
  },
  {
   "cell_type": "code",
   "execution_count": 14,
   "id": "82dc8332-72bb-4e08-b19f-b4288735c69d",
   "metadata": {},
   "outputs": [
    {
     "data": {
      "text/latex": [
       "$\\displaystyle E_{p}(D)=\\dfrac{\\delta Q_d}{\\delta P}\\dfrac{P}{Q_d}$"
      ],
      "text/plain": [
       "<IPython.core.display.Math object>"
      ]
     },
     "metadata": {},
     "output_type": "display_data"
    }
   ],
   "source": [
    "from IPython.display import display, Math, Latex\n",
    "display(Math(r'E_{p}(D)=\\dfrac{\\delta Q_d}{\\delta P}\\dfrac{P}{Q_d}'))\n",
    "# коэффициент эластичности товаров"
   ]
  },
  {
   "cell_type": "code",
   "execution_count": 21,
   "id": "23305517-dd2d-400b-8b66-c1da35b50b11",
   "metadata": {},
   "outputs": [],
   "source": [
    "df.dates = pd.to_datetime(df.dates)"
   ]
  },
  {
   "cell_type": "code",
   "execution_count": 23,
   "id": "e8b87a45-70eb-4fc3-845e-e4326bf04ebb",
   "metadata": {},
   "outputs": [
    {
     "data": {
      "text/html": [
       "<div>\n",
       "<style scoped>\n",
       "    .dataframe tbody tr th:only-of-type {\n",
       "        vertical-align: middle;\n",
       "    }\n",
       "\n",
       "    .dataframe tbody tr th {\n",
       "        vertical-align: top;\n",
       "    }\n",
       "\n",
       "    .dataframe thead th {\n",
       "        text-align: right;\n",
       "    }\n",
       "</style>\n",
       "<table border=\"1\" class=\"dataframe\">\n",
       "  <thead>\n",
       "    <tr style=\"text-align: right;\">\n",
       "      <th></th>\n",
       "      <th>dates</th>\n",
       "      <th>SKU</th>\n",
       "      <th>price_per_sku</th>\n",
       "      <th>num_purchases</th>\n",
       "    </tr>\n",
       "  </thead>\n",
       "  <tbody>\n",
       "    <tr>\n",
       "      <th>0</th>\n",
       "      <td>2018-04-20</td>\n",
       "      <td>32950</td>\n",
       "      <td>422.975</td>\n",
       "      <td>3</td>\n",
       "    </tr>\n",
       "    <tr>\n",
       "      <th>1</th>\n",
       "      <td>2018-04-24</td>\n",
       "      <td>32950</td>\n",
       "      <td>429.275</td>\n",
       "      <td>3</td>\n",
       "    </tr>\n",
       "  </tbody>\n",
       "</table>\n",
       "</div>"
      ],
      "text/plain": [
       "       dates    SKU  price_per_sku  num_purchases\n",
       "0 2018-04-20  32950        422.975              3\n",
       "1 2018-04-24  32950        429.275              3"
      ]
     },
     "execution_count": 23,
     "metadata": {},
     "output_type": "execute_result"
    }
   ],
   "source": [
    "df[['dates', 'SKU', 'price_per_sku', 'num_purchases']].head(2)"
   ]
  },
  {
   "cell_type": "code",
   "execution_count": 24,
   "id": "06c0c493-a571-4af6-bcdb-9bfd9e91b176",
   "metadata": {},
   "outputs": [],
   "source": [
    "from statsmodels.tsa.arima.model import ARIMA"
   ]
  },
  {
   "cell_type": "code",
   "execution_count": 25,
   "id": "52b438bf-1458-4069-a443-d39590c6b5f4",
   "metadata": {},
   "outputs": [
    {
     "data": {
      "text/plain": [
       "(Timestamp('2018-01-17 00:00:00'), Timestamp('2019-12-24 00:00:00'))"
      ]
     },
     "execution_count": 25,
     "metadata": {},
     "output_type": "execute_result"
    }
   ],
   "source": [
    "df.dates.min(), df.dates.max()"
   ]
  },
  {
   "cell_type": "code",
   "execution_count": 26,
   "id": "8f24da7e-f6c6-4a6b-ad60-a89dd67145d4",
   "metadata": {},
   "outputs": [
    {
     "data": {
      "text/plain": [
       "('2018-12-17', '2019-12-31')"
      ]
     },
     "execution_count": 26,
     "metadata": {},
     "output_type": "execute_result"
    }
   ],
   "source": [
    "dftest.dates.min(), dftest.dates.max()"
   ]
  },
  {
   "cell_type": "code",
   "execution_count": 28,
   "id": "6f3fce21-b05b-40c8-8012-b721a6545777",
   "metadata": {},
   "outputs": [
    {
     "name": "stdout",
     "output_type": "stream",
     "text": [
      "2018-04-20 00:00:00 2019-04-09 00:00:00\n",
      "2019-04-10 2019-04-21\n",
      "\n"
     ]
    },
    {
     "name": "stderr",
     "output_type": "stream",
     "text": [
      "/home/nur/projects/analysis/env/lib/python3.7/site-packages/statsmodels/tsa/statespace/sarimax.py:978: UserWarning: Non-invertible starting MA parameters found. Using zeros as starting parameters.\n",
      "  warn('Non-invertible starting MA parameters found.'\n",
      "/home/nur/projects/analysis/env/lib/python3.7/site-packages/statsmodels/base/model.py:568: ConvergenceWarning: Maximum Likelihood optimization failed to converge. Check mle_retvals\n",
      "  ConvergenceWarning)\n",
      "/home/nur/projects/analysis/env/lib/python3.7/site-packages/statsmodels/tsa/statespace/sarimax.py:902: RuntimeWarning: Mean of empty slice.\n",
      "  params_variance = (residuals[k_params_ma:] ** 2).mean()\n",
      "/home/nur/projects/analysis/env/lib/python3.7/site-packages/numpy/core/_methods.py:170: RuntimeWarning: invalid value encountered in double_scalars\n",
      "  ret = ret.dtype.type(ret / rcount)\n",
      "/home/nur/projects/analysis/env/lib/python3.7/site-packages/statsmodels/tsa/statespace/sarimax.py:978: UserWarning: Non-invertible starting MA parameters found. Using zeros as starting parameters.\n",
      "  warn('Non-invertible starting MA parameters found.'\n"
     ]
    },
    {
     "name": "stdout",
     "output_type": "stream",
     "text": [
      "2018-09-28 00:00:00 2019-12-03 00:00:00\n",
      "2019-12-17 2019-12-28\n",
      "\n"
     ]
    },
    {
     "name": "stderr",
     "output_type": "stream",
     "text": [
      "/home/nur/projects/analysis/env/lib/python3.7/site-packages/statsmodels/base/model.py:568: ConvergenceWarning: Maximum Likelihood optimization failed to converge. Check mle_retvals\n",
      "  ConvergenceWarning)\n"
     ]
    },
    {
     "name": "stdout",
     "output_type": "stream",
     "text": [
      "2018-04-19 00:00:00 2019-12-24 00:00:00\n",
      "2019-12-25 2019-12-31\n",
      "\n",
      "2018-09-22 00:00:00 2019-12-18 00:00:00\n",
      "2019-12-21 2019-12-31\n",
      "\n",
      "2019-08-07 00:00:00 2019-12-22 00:00:00\n",
      "2019-12-23 2019-12-29\n",
      "\n"
     ]
    },
    {
     "name": "stderr",
     "output_type": "stream",
     "text": [
      "/home/nur/projects/analysis/env/lib/python3.7/site-packages/statsmodels/tsa/statespace/sarimax.py:978: UserWarning: Non-invertible starting MA parameters found. Using zeros as starting parameters.\n",
      "  warn('Non-invertible starting MA parameters found.'\n",
      "/home/nur/projects/analysis/env/lib/python3.7/site-packages/statsmodels/base/model.py:568: ConvergenceWarning: Maximum Likelihood optimization failed to converge. Check mle_retvals\n",
      "  ConvergenceWarning)\n"
     ]
    },
    {
     "name": "stdout",
     "output_type": "stream",
     "text": [
      "2018-02-09 00:00:00 2019-12-23 00:00:00\n",
      "2019-12-24 2019-12-31\n",
      "\n",
      "2018-12-13 00:00:00 2019-12-18 00:00:00\n",
      "2019-12-20 2019-12-31\n",
      "\n",
      "2018-02-10 00:00:00 2019-10-14 00:00:00\n",
      "2019-10-16 2019-10-28\n",
      "\n",
      "2019-07-30 00:00:00 2019-12-20 00:00:00\n",
      "2019-12-21 2019-12-29\n",
      "\n"
     ]
    },
    {
     "name": "stderr",
     "output_type": "stream",
     "text": [
      "/home/nur/projects/analysis/env/lib/python3.7/site-packages/statsmodels/tsa/statespace/sarimax.py:978: UserWarning: Non-invertible starting MA parameters found. Using zeros as starting parameters.\n",
      "  warn('Non-invertible starting MA parameters found.'\n",
      "/home/nur/projects/analysis/env/lib/python3.7/site-packages/statsmodels/base/model.py:568: ConvergenceWarning: Maximum Likelihood optimization failed to converge. Check mle_retvals\n",
      "  ConvergenceWarning)\n",
      "/home/nur/projects/analysis/env/lib/python3.7/site-packages/statsmodels/tsa/statespace/sarimax.py:978: UserWarning: Non-invertible starting MA parameters found. Using zeros as starting parameters.\n",
      "  warn('Non-invertible starting MA parameters found.'\n"
     ]
    },
    {
     "name": "stdout",
     "output_type": "stream",
     "text": [
      "2018-03-07 00:00:00 2019-02-20 00:00:00\n",
      "2019-02-21 2019-03-01\n",
      "\n"
     ]
    },
    {
     "name": "stderr",
     "output_type": "stream",
     "text": [
      "/home/nur/projects/analysis/env/lib/python3.7/site-packages/statsmodels/base/model.py:568: ConvergenceWarning: Maximum Likelihood optimization failed to converge. Check mle_retvals\n",
      "  ConvergenceWarning)\n",
      "/home/nur/projects/analysis/env/lib/python3.7/site-packages/statsmodels/tsa/statespace/sarimax.py:868: UserWarning: Too few observations to estimate starting parameters for ARMA and trend. All parameters except for variances will be set to zeros.\n",
      "  ' zeros.' % warning_description)\n"
     ]
    },
    {
     "name": "stdout",
     "output_type": "stream",
     "text": [
      "2019-06-02 00:00:00 2019-08-16 00:00:00\n",
      "2019-08-17 2019-08-29\n",
      "\n"
     ]
    },
    {
     "name": "stderr",
     "output_type": "stream",
     "text": [
      "/home/nur/projects/analysis/env/lib/python3.7/site-packages/statsmodels/base/model.py:568: ConvergenceWarning: Maximum Likelihood optimization failed to converge. Check mle_retvals\n",
      "  ConvergenceWarning)\n"
     ]
    },
    {
     "name": "stdout",
     "output_type": "stream",
     "text": [
      "2018-01-24 00:00:00 2019-12-20 00:00:00\n",
      "2019-12-21 2019-12-27\n",
      "\n",
      "2018-11-20 00:00:00 2019-12-21 00:00:00\n",
      "2019-12-22 2019-12-31\n",
      "\n",
      "2018-03-02 00:00:00 2019-12-20 00:00:00\n",
      "2019-12-22 2019-12-31\n",
      "\n",
      "2018-07-29 00:00:00 2018-12-16 00:00:00\n",
      "2018-12-17 2018-12-26\n",
      "\n"
     ]
    },
    {
     "name": "stderr",
     "output_type": "stream",
     "text": [
      "/home/nur/projects/analysis/env/lib/python3.7/site-packages/statsmodels/tsa/statespace/sarimax.py:978: UserWarning: Non-invertible starting MA parameters found. Using zeros as starting parameters.\n",
      "  warn('Non-invertible starting MA parameters found.'\n",
      "/home/nur/projects/analysis/env/lib/python3.7/site-packages/statsmodels/base/model.py:568: ConvergenceWarning: Maximum Likelihood optimization failed to converge. Check mle_retvals\n",
      "  ConvergenceWarning)\n"
     ]
    },
    {
     "name": "stdout",
     "output_type": "stream",
     "text": [
      "2018-04-22 00:00:00 2019-12-18 00:00:00\n",
      "2019-12-20 2019-12-30\n",
      "\n",
      "2019-08-19 00:00:00 2019-12-23 00:00:00\n",
      "2019-12-24 2019-12-31\n",
      "\n"
     ]
    },
    {
     "name": "stderr",
     "output_type": "stream",
     "text": [
      "/home/nur/projects/analysis/env/lib/python3.7/site-packages/statsmodels/tsa/statespace/sarimax.py:978: UserWarning: Non-invertible starting MA parameters found. Using zeros as starting parameters.\n",
      "  warn('Non-invertible starting MA parameters found.'\n",
      "/home/nur/projects/analysis/env/lib/python3.7/site-packages/statsmodels/base/model.py:568: ConvergenceWarning: Maximum Likelihood optimization failed to converge. Check mle_retvals\n",
      "  ConvergenceWarning)\n",
      "/home/nur/projects/analysis/env/lib/python3.7/site-packages/statsmodels/tsa/statespace/sarimax.py:868: UserWarning: Too few observations to estimate starting parameters for ARMA and trend. All parameters except for variances will be set to zeros.\n",
      "  ' zeros.' % warning_description)\n"
     ]
    },
    {
     "name": "stdout",
     "output_type": "stream",
     "text": [
      "2019-03-08 00:00:00 2019-05-14 00:00:00\n",
      "2019-05-16 2019-05-24\n",
      "\n"
     ]
    },
    {
     "name": "stderr",
     "output_type": "stream",
     "text": [
      "/home/nur/projects/analysis/env/lib/python3.7/site-packages/statsmodels/base/model.py:568: ConvergenceWarning: Maximum Likelihood optimization failed to converge. Check mle_retvals\n",
      "  ConvergenceWarning)\n"
     ]
    },
    {
     "name": "stdout",
     "output_type": "stream",
     "text": [
      "2019-02-03 00:00:00 2019-12-24 00:00:00\n",
      "2019-12-25 2019-12-31\n",
      "\n",
      "2018-11-17 00:00:00 2019-12-22 00:00:00\n",
      "2019-12-24 2019-12-31\n",
      "\n",
      "2018-01-17 00:00:00 2019-03-25 00:00:00\n",
      "2019-03-26 2019-04-02\n",
      "\n"
     ]
    },
    {
     "name": "stderr",
     "output_type": "stream",
     "text": [
      "/home/nur/projects/analysis/env/lib/python3.7/site-packages/statsmodels/base/model.py:568: ConvergenceWarning: Maximum Likelihood optimization failed to converge. Check mle_retvals\n",
      "  ConvergenceWarning)\n"
     ]
    },
    {
     "name": "stdout",
     "output_type": "stream",
     "text": [
      "2018-07-17 00:00:00 2019-12-22 00:00:00\n",
      "2019-12-25 2019-12-31\n",
      "\n"
     ]
    },
    {
     "name": "stderr",
     "output_type": "stream",
     "text": [
      "/home/nur/projects/analysis/env/lib/python3.7/site-packages/statsmodels/base/model.py:568: ConvergenceWarning: Maximum Likelihood optimization failed to converge. Check mle_retvals\n",
      "  ConvergenceWarning)\n"
     ]
    },
    {
     "name": "stdout",
     "output_type": "stream",
     "text": [
      "2019-05-13 00:00:00 2019-12-23 00:00:00\n",
      "2019-12-24 2019-12-31\n",
      "\n"
     ]
    },
    {
     "name": "stderr",
     "output_type": "stream",
     "text": [
      "/home/nur/projects/analysis/env/lib/python3.7/site-packages/statsmodels/base/model.py:568: ConvergenceWarning: Maximum Likelihood optimization failed to converge. Check mle_retvals\n",
      "  ConvergenceWarning)\n"
     ]
    },
    {
     "name": "stdout",
     "output_type": "stream",
     "text": [
      "2018-04-12 00:00:00 2019-12-23 00:00:00\n",
      "2019-12-24 2019-12-31\n",
      "\n",
      "2018-04-14 00:00:00 2019-12-21 00:00:00\n",
      "2019-12-22 2019-12-31\n",
      "\n"
     ]
    }
   ],
   "source": [
    "predictions = {}\n",
    "for sku in df.SKU.unique():\n",
    "    print(df[df.SKU == sku].dates.min(), df[df.SKU == sku].dates.max())\n",
    "    print(dftest[dftest.SKU == sku].dates.min(), dftest[dftest.SKU == sku].dates.max())\n",
    "    print()\n",
    "    train_data = df[df.SKU == sku].price_per_sku.values\n",
    "    MA = ARIMA(train_data, order=(0,0,20))\n",
    "    MA_model = MA.fit()\n",
    "    predictions[sku] = MA_model.predict(start = len(train_data), end= len(train_data) + 7-1)"
   ]
  },
  {
   "cell_type": "code",
   "execution_count": 42,
   "id": "e2d00425-593f-4f4c-aa80-ea3f1b58cc1e",
   "metadata": {},
   "outputs": [
    {
     "name": "stderr",
     "output_type": "stream",
     "text": [
      "/home/nur/projects/analysis/env/lib/python3.7/site-packages/numpy/core/fromnumeric.py:3370: FutureWarning: DataFrame.mean and DataFrame.median with numeric_only=None will include datetime64 and datetime64tz columns in a future version.\n",
      "  return mean(axis=axis, dtype=dtype, out=out, **kwargs)\n"
     ]
    },
    {
     "data": {
      "text/plain": [
       "307.276171875"
      ]
     },
     "execution_count": 42,
     "metadata": {},
     "output_type": "execute_result"
    }
   ],
   "source": [
    "np.mean(df[df.SKU == 78833]).price_per_sku"
   ]
  },
  {
   "cell_type": "code",
   "execution_count": 29,
   "id": "b1fbbb1a-b776-4f0f-b3b0-c87383786dd0",
   "metadata": {},
   "outputs": [
    {
     "data": {
      "text/plain": [
       "{32950: array([450.24247618, 449.5186504 , 449.35810696, 453.20410233,\n",
       "        455.87336856, 453.99605238, 454.6751741 ]),\n",
       " 78833: array([nan, nan, nan, nan, nan, nan, nan]),\n",
       " 10334: array([99.82589389, 98.99996326, 99.03577764, 98.40937222, 97.05586184,\n",
       "        97.49278531, 97.27589736]),\n",
       " 17812: array([70.04250255, 69.82091544, 70.07833822, 69.94490655, 73.38572115,\n",
       "        73.20265929, 73.23294259]),\n",
       " 36096: array([131.54140301, 132.53392926, 130.62829051, 131.02981201,\n",
       "        130.84860981, 130.12670048, 130.37807038]),\n",
       " 38767: array([74.19163981, 73.47504103, 72.87412986, 72.41068478, 72.52849103,\n",
       "        72.72975703, 72.77332915]),\n",
       " 43678: array([149.16847832, 147.6172817 , 146.89343158, 145.6500468 ,\n",
       "        144.97129146, 144.06958772, 144.12734663]),\n",
       " 57561: array([97.97419083, 96.67900163, 95.80703488, 94.8588304 , 95.46012769,\n",
       "        95.93603591, 94.74944099]),\n",
       " 64619: array([153.12805856, 152.44023673, 152.45096637, 151.48911384,\n",
       "        149.91930817, 149.7492386 , 149.08443495]),\n",
       " 68211: array([163.94204245, 165.65625829, 159.90775029, 158.96519848,\n",
       "        159.99562593, 153.89666696, 154.49713987]),\n",
       " 69997: array([139.76072403, 135.88524143, 131.95734446, 142.92748335,\n",
       "        139.0432296 , 142.27501685, 147.60453511]),\n",
       " 72784: array([134.77222731, 133.08818553, 132.5501701 , 131.70574957,\n",
       "        130.93127308, 130.86052824, 130.77028822]),\n",
       " 83329: array([88.79983575, 88.26891829, 88.19438808, 88.23087252, 87.33303775,\n",
       "        87.02064716, 87.00585276]),\n",
       " 90611: array([90.01547185, 89.07159324, 89.49879475, 91.48481953, 90.40878541,\n",
       "        89.92924115, 89.40073715]),\n",
       " 98255: array([67.47913371, 67.6168431 , 67.73841036, 67.43838151, 67.67667394,\n",
       "        67.45371092, 67.23868838]),\n",
       " 11050: array([110.37944252, 110.06388369, 109.74259125, 109.45567251,\n",
       "        109.0658909 , 108.7972174 , 108.66510007]),\n",
       " 19632: array([156.99652032, 157.83312774, 157.27232566, 157.29809105,\n",
       "        157.71666311, 156.86296074, 156.46202654]),\n",
       " 24125: array([110.14263232, 109.63553187, 108.3354723 , 108.60124421,\n",
       "        108.60402806, 108.79462423, 108.93231858]),\n",
       " 49661: array([165.83343589, 165.32689698, 165.39429403, 164.52734521,\n",
       "        163.7931998 , 163.36288186, 163.01170216]),\n",
       " 54404: array([85.63200868, 85.50810479, 85.34349191, 85.30697295, 85.25231241,\n",
       "        85.05469304, 84.88468994]),\n",
       " 60870: array([117.20416294, 117.69809937, 117.43778648, 117.25092449,\n",
       "        116.51707298, 115.75445196, 115.70856653]),\n",
       " 80308: array([119.53966237, 119.78677263, 119.39634245, 119.22709513,\n",
       "        118.94322451, 118.4012202 , 118.0972931 ]),\n",
       " 80631: array([91.42934371, 91.03690342, 90.674353  , 90.52371063, 90.45843382,\n",
       "        90.43912149, 90.01683338]),\n",
       " 84395: array([140.59475138, 140.09873164, 139.66536871, 139.15053261,\n",
       "        138.70193277, 138.24507034, 137.99157609]),\n",
       " 89272: array([124.8961289 , 124.46742731, 124.11582694, 123.87460447,\n",
       "        124.0499216 , 123.42804973, 122.97399147])}"
      ]
     },
     "execution_count": 29,
     "metadata": {},
     "output_type": "execute_result"
    }
   ],
   "source": [
    "predictions"
   ]
  },
  {
   "cell_type": "code",
   "execution_count": 36,
   "id": "583f9000-ec80-4fc1-a265-2a2961048e9c",
   "metadata": {},
   "outputs": [
    {
     "data": {
      "text/html": [
       "<div>\n",
       "<style scoped>\n",
       "    .dataframe tbody tr th:only-of-type {\n",
       "        vertical-align: middle;\n",
       "    }\n",
       "\n",
       "    .dataframe tbody tr th {\n",
       "        vertical-align: top;\n",
       "    }\n",
       "\n",
       "    .dataframe thead th {\n",
       "        text-align: right;\n",
       "    }\n",
       "</style>\n",
       "<table border=\"1\" class=\"dataframe\">\n",
       "  <thead>\n",
       "    <tr style=\"text-align: right;\">\n",
       "      <th></th>\n",
       "      <th>dates</th>\n",
       "      <th>SKU</th>\n",
       "      <th>price_per_sku</th>\n",
       "    </tr>\n",
       "  </thead>\n",
       "  <tbody>\n",
       "    <tr>\n",
       "      <th>0</th>\n",
       "      <td>2018-12-17</td>\n",
       "      <td>98255</td>\n",
       "      <td>67.479134</td>\n",
       "    </tr>\n",
       "    <tr>\n",
       "      <th>1</th>\n",
       "      <td>2018-12-21</td>\n",
       "      <td>98255</td>\n",
       "      <td>67.616843</td>\n",
       "    </tr>\n",
       "    <tr>\n",
       "      <th>2</th>\n",
       "      <td>2018-12-22</td>\n",
       "      <td>98255</td>\n",
       "      <td>67.738410</td>\n",
       "    </tr>\n",
       "    <tr>\n",
       "      <th>3</th>\n",
       "      <td>2018-12-23</td>\n",
       "      <td>98255</td>\n",
       "      <td>67.438382</td>\n",
       "    </tr>\n",
       "    <tr>\n",
       "      <th>4</th>\n",
       "      <td>2018-12-24</td>\n",
       "      <td>98255</td>\n",
       "      <td>67.676674</td>\n",
       "    </tr>\n",
       "    <tr>\n",
       "      <th>...</th>\n",
       "      <td>...</td>\n",
       "      <td>...</td>\n",
       "      <td>...</td>\n",
       "    </tr>\n",
       "    <tr>\n",
       "      <th>170</th>\n",
       "      <td>2019-12-31</td>\n",
       "      <td>80631</td>\n",
       "      <td>90.016833</td>\n",
       "    </tr>\n",
       "    <tr>\n",
       "      <th>171</th>\n",
       "      <td>2019-12-31</td>\n",
       "      <td>19632</td>\n",
       "      <td>156.462027</td>\n",
       "    </tr>\n",
       "    <tr>\n",
       "      <th>172</th>\n",
       "      <td>2019-12-31</td>\n",
       "      <td>84395</td>\n",
       "      <td>137.991576</td>\n",
       "    </tr>\n",
       "    <tr>\n",
       "      <th>173</th>\n",
       "      <td>2019-12-31</td>\n",
       "      <td>43678</td>\n",
       "      <td>144.127347</td>\n",
       "    </tr>\n",
       "    <tr>\n",
       "      <th>174</th>\n",
       "      <td>2019-12-31</td>\n",
       "      <td>49661</td>\n",
       "      <td>163.011702</td>\n",
       "    </tr>\n",
       "  </tbody>\n",
       "</table>\n",
       "<p>175 rows × 3 columns</p>\n",
       "</div>"
      ],
      "text/plain": [
       "          dates    SKU  price_per_sku\n",
       "0    2018-12-17  98255      67.479134\n",
       "1    2018-12-21  98255      67.616843\n",
       "2    2018-12-22  98255      67.738410\n",
       "3    2018-12-23  98255      67.438382\n",
       "4    2018-12-24  98255      67.676674\n",
       "..          ...    ...            ...\n",
       "170  2019-12-31  80631      90.016833\n",
       "171  2019-12-31  19632     156.462027\n",
       "172  2019-12-31  84395     137.991576\n",
       "173  2019-12-31  43678     144.127347\n",
       "174  2019-12-31  49661     163.011702\n",
       "\n",
       "[175 rows x 3 columns]"
      ]
     },
     "execution_count": 36,
     "metadata": {},
     "output_type": "execute_result"
    }
   ],
   "source": [
    "dftest['price_per_sku'] = 0\n",
    "for sku in dftest.SKU.unique():\n",
    "    dftest.loc[dftest.SKU == sku, 'price_per_sku' ] = predictions[sku]\n",
    "dftest"
   ]
  },
  {
   "cell_type": "code",
   "execution_count": 43,
   "id": "11265b1b-17cb-4b68-89fb-12b96897b6f3",
   "metadata": {},
   "outputs": [],
   "source": [
    "dftest.fillna(307.276171875, inplace=True)"
   ]
  },
  {
   "cell_type": "code",
   "execution_count": 48,
   "id": "75bb2367-d700-4b73-85b7-8a94d92f4f52",
   "metadata": {},
   "outputs": [
    {
     "data": {
      "text/plain": [
       "False"
      ]
     },
     "execution_count": 48,
     "metadata": {},
     "output_type": "execute_result"
    }
   ],
   "source": [
    "dftest.price_per_sku.isnull().any()"
   ]
  },
  {
   "cell_type": "code",
   "execution_count": 44,
   "id": "698693ba-f177-4fb2-ab09-b296e501d6cc",
   "metadata": {},
   "outputs": [],
   "source": [
    "fpath_out = \"prediction.csv\"\n",
    "# RMSE ≤ 15\n",
    "dftest.to_csv(fpath_out, index=None)"
   ]
  },
  {
   "cell_type": "code",
   "execution_count": 45,
   "id": "6790f009-f3cb-4caa-ad98-27dbf242ab88",
   "metadata": {},
   "outputs": [
    {
     "name": "stdout",
     "output_type": "stream",
     "text": [
      "dates,SKU,price_per_sku\n",
      "2018-12-17,98255,67.4791337076447\n",
      "2018-12-21,98255,67.61684309735271\n",
      "2018-12-22,98255,67.73841036303345\n",
      "2018-12-23,98255,67.4383815093166\n",
      "2018-12-24,98255,67.67667393771185\n",
      "2018-12-25,98255,67.45371092166454\n",
      "2018-12-26,98255,67.23868837517503\n",
      "2019-02-21,68211,163.94204245124996\n",
      "2019-02-22,68211,165.65625829111158\n"
     ]
    }
   ],
   "source": [
    "!head prediction.csv"
   ]
  },
  {
   "cell_type": "code",
   "execution_count": 46,
   "id": "fbd6f487-75b8-4c19-a4e4-600b642999b3",
   "metadata": {},
   "outputs": [],
   "source": [
    "!explorer.exe ."
   ]
  },
  {
   "cell_type": "code",
   "execution_count": null,
   "id": "9844dfa8-c5ab-4e0a-b310-dae2d5027fdb",
   "metadata": {},
   "outputs": [],
   "source": []
  }
 ],
 "metadata": {
  "kernelspec": {
   "display_name": "Python 3",
   "language": "python",
   "name": "python3"
  },
  "language_info": {
   "codemirror_mode": {
    "name": "ipython",
    "version": 3
   },
   "file_extension": ".py",
   "mimetype": "text/x-python",
   "name": "python",
   "nbconvert_exporter": "python",
   "pygments_lexer": "ipython3",
   "version": "3.7.11"
  }
 },
 "nbformat": 4,
 "nbformat_minor": 5
}
