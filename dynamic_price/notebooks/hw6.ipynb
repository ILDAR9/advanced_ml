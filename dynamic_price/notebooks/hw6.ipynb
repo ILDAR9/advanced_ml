{
 "cells": [
  {
   "cell_type": "code",
   "execution_count": 1,
   "id": "0092e91f-0acf-4026-b7e1-1f411e83b500",
   "metadata": {},
   "outputs": [],
   "source": [
    "import pandas as pd\n",
    "import numpy as np\n",
    "import os\n",
    "\n",
    "from pandas.plotting import autocorrelation_plot\n",
    "\n",
    "#import visualization libraries\n",
    "import matplotlib.pyplot as plt\n",
    "import seaborn as sns\n",
    "color = sns.color_palette()\n",
    "\n",
    "%matplotlib inline"
   ]
  },
  {
   "cell_type": "code",
   "execution_count": 8,
   "id": "edf1f07b-8ec9-44e7-8e3e-b6f26bc0bfa1",
   "metadata": {},
   "outputs": [
    {
     "data": {
      "text/html": [
       "<div>\n",
       "<style scoped>\n",
       "    .dataframe tbody tr th:only-of-type {\n",
       "        vertical-align: middle;\n",
       "    }\n",
       "\n",
       "    .dataframe tbody tr th {\n",
       "        vertical-align: top;\n",
       "    }\n",
       "\n",
       "    .dataframe thead th {\n",
       "        text-align: right;\n",
       "    }\n",
       "</style>\n",
       "<table border=\"1\" class=\"dataframe\">\n",
       "  <thead>\n",
       "    <tr style=\"text-align: right;\">\n",
       "      <th></th>\n",
       "      <th>dates</th>\n",
       "      <th>SKU</th>\n",
       "      <th>price_per_sku</th>\n",
       "    </tr>\n",
       "  </thead>\n",
       "  <tbody>\n",
       "    <tr>\n",
       "      <th>0</th>\n",
       "      <td>2019-03-11</td>\n",
       "      <td>11617</td>\n",
       "      <td>182.0</td>\n",
       "    </tr>\n",
       "    <tr>\n",
       "      <th>1</th>\n",
       "      <td>2019-03-12</td>\n",
       "      <td>11617</td>\n",
       "      <td>182.0</td>\n",
       "    </tr>\n",
       "  </tbody>\n",
       "</table>\n",
       "</div>"
      ],
      "text/plain": [
       "       dates    SKU  price_per_sku\n",
       "0 2019-03-11  11617          182.0\n",
       "1 2019-03-12  11617          182.0"
      ]
     },
     "execution_count": 8,
     "metadata": {},
     "output_type": "execute_result"
    }
   ],
   "source": [
    "FLD = \"/home/nur/projects/analysis/dynamic_price/data/hw6/\"\n",
    "df = pd.read_csv(os.path.join(FLD, 'HW_6_data.csv'))\n",
    "df['dates'] = pd.to_datetime(df.dates)\n",
    "df.head(2)"
   ]
  },
  {
   "cell_type": "code",
   "execution_count": 9,
   "id": "2e1421ef-a824-454d-9ccf-596573425a07",
   "metadata": {},
   "outputs": [
    {
     "data": {
      "text/html": [
       "<div>\n",
       "<style scoped>\n",
       "    .dataframe tbody tr th:only-of-type {\n",
       "        vertical-align: middle;\n",
       "    }\n",
       "\n",
       "    .dataframe tbody tr th {\n",
       "        vertical-align: top;\n",
       "    }\n",
       "\n",
       "    .dataframe thead th {\n",
       "        text-align: right;\n",
       "    }\n",
       "</style>\n",
       "<table border=\"1\" class=\"dataframe\">\n",
       "  <thead>\n",
       "    <tr style=\"text-align: right;\">\n",
       "      <th></th>\n",
       "      <th>SKU</th>\n",
       "      <th>dates</th>\n",
       "    </tr>\n",
       "  </thead>\n",
       "  <tbody>\n",
       "    <tr>\n",
       "      <th>0</th>\n",
       "      <td>11617</td>\n",
       "      <td>2019-12-11</td>\n",
       "    </tr>\n",
       "    <tr>\n",
       "      <th>1</th>\n",
       "      <td>11617</td>\n",
       "      <td>2019-12-16</td>\n",
       "    </tr>\n",
       "  </tbody>\n",
       "</table>\n",
       "</div>"
      ],
      "text/plain": [
       "     SKU      dates\n",
       "0  11617 2019-12-11\n",
       "1  11617 2019-12-16"
      ]
     },
     "execution_count": 9,
     "metadata": {},
     "output_type": "execute_result"
    }
   ],
   "source": [
    "dftest = pd.read_csv(os.path.join(FLD, 'HW_6_testcsv.csv'))\n",
    "dftest['dates'] = pd.to_datetime(dftest.dates)\n",
    "dftest.head(2)"
   ]
  },
  {
   "cell_type": "code",
   "execution_count": 42,
   "id": "0026b358-c1ec-438c-8591-b7cd8739730f",
   "metadata": {},
   "outputs": [
    {
     "data": {
      "text/plain": [
       "29251    4\n",
       "75536    4\n",
       "98130    4\n",
       "67286    4\n",
       "97818    4\n",
       "50971    4\n",
       "11617    4\n",
       "40937    4\n",
       "67179    4\n",
       "39924    4\n",
       "Name: SKU, dtype: int64"
      ]
     },
     "execution_count": 42,
     "metadata": {},
     "output_type": "execute_result"
    }
   ],
   "source": [
    "dftest.SKU.value_counts()"
   ]
  },
  {
   "cell_type": "code",
   "execution_count": 40,
   "id": "2625c0c5-d513-438f-9e6e-d25ee3848827",
   "metadata": {},
   "outputs": [
    {
     "name": "stdout",
     "output_type": "stream",
     "text": [
      "11617\n",
      "2019-03-11 00:00:00 2019-12-08 00:00:00 -> 2019-12-11 00:00:00 2019-12-30 00:00:00\n",
      "\n",
      "29251\n",
      "2018-02-11 00:00:00 2019-12-01 00:00:00 -> 2019-12-02 00:00:00 2019-12-23 00:00:00\n",
      "\n",
      "39924\n",
      "2018-12-05 00:00:00 2019-12-01 00:00:00 -> 2019-12-02 00:00:00 2019-12-24 00:00:00\n",
      "\n",
      "40937\n",
      "2018-07-08 00:00:00 2019-12-01 00:00:00 -> 2019-12-02 00:00:00 2019-12-23 00:00:00\n",
      "\n",
      "50971\n",
      "2018-09-14 00:00:00 2019-12-01 00:00:00 -> 2019-12-02 00:00:00 2019-12-23 00:00:00\n",
      "\n",
      "67179\n",
      "2019-01-08 00:00:00 2019-12-08 00:00:00 -> 2019-12-09 00:00:00 2019-12-30 00:00:00\n",
      "\n",
      "67286\n",
      "2018-11-05 00:00:00 2019-11-10 00:00:00 -> 2019-11-11 00:00:00 2019-12-02 00:00:00\n",
      "\n",
      "75536\n",
      "2018-08-19 00:00:00 2019-12-01 00:00:00 -> 2019-12-03 00:00:00 2019-12-23 00:00:00\n",
      "\n",
      "97818\n",
      "2018-08-18 00:00:00 2019-12-01 00:00:00 -> 2019-12-02 00:00:00 2019-12-23 00:00:00\n",
      "\n",
      "98130\n",
      "2018-12-14 00:00:00 2019-11-30 00:00:00 -> 2019-12-02 00:00:00 2019-12-23 00:00:00\n",
      "\n"
     ]
    }
   ],
   "source": [
    "for sku in df.SKU.unique():\n",
    "    print(sku)\n",
    "    print(df[df.SKU==sku].dates.min(), df[df.SKU==sku].dates.max(), end=' -> ')\n",
    "    print(dftest[dftest.SKU==sku].dates.min(), dftest[dftest.SKU==sku].dates.max())\n",
    "    print()"
   ]
  },
  {
   "cell_type": "code",
   "execution_count": 10,
   "id": "94b8fd30-deb7-47d0-80d3-cd41b619c894",
   "metadata": {},
   "outputs": [
    {
     "data": {
      "text/html": [
       "<div>\n",
       "<style scoped>\n",
       "    .dataframe tbody tr th:only-of-type {\n",
       "        vertical-align: middle;\n",
       "    }\n",
       "\n",
       "    .dataframe tbody tr th {\n",
       "        vertical-align: top;\n",
       "    }\n",
       "\n",
       "    .dataframe thead th {\n",
       "        text-align: right;\n",
       "    }\n",
       "</style>\n",
       "<table border=\"1\" class=\"dataframe\">\n",
       "  <thead>\n",
       "    <tr style=\"text-align: right;\">\n",
       "      <th>SKU</th>\n",
       "      <th>11617</th>\n",
       "      <th>29251</th>\n",
       "      <th>39924</th>\n",
       "      <th>40937</th>\n",
       "      <th>50971</th>\n",
       "      <th>67179</th>\n",
       "      <th>67286</th>\n",
       "      <th>75536</th>\n",
       "      <th>97818</th>\n",
       "      <th>98130</th>\n",
       "    </tr>\n",
       "    <tr>\n",
       "      <th>dates</th>\n",
       "      <th></th>\n",
       "      <th></th>\n",
       "      <th></th>\n",
       "      <th></th>\n",
       "      <th></th>\n",
       "      <th></th>\n",
       "      <th></th>\n",
       "      <th></th>\n",
       "      <th></th>\n",
       "      <th></th>\n",
       "    </tr>\n",
       "  </thead>\n",
       "  <tbody>\n",
       "    <tr>\n",
       "      <th>2019-12-07</th>\n",
       "      <td>196.0</td>\n",
       "      <td>NaN</td>\n",
       "      <td>NaN</td>\n",
       "      <td>NaN</td>\n",
       "      <td>NaN</td>\n",
       "      <td>259.0</td>\n",
       "      <td>NaN</td>\n",
       "      <td>NaN</td>\n",
       "      <td>NaN</td>\n",
       "      <td>NaN</td>\n",
       "    </tr>\n",
       "    <tr>\n",
       "      <th>2019-12-08</th>\n",
       "      <td>196.0</td>\n",
       "      <td>NaN</td>\n",
       "      <td>NaN</td>\n",
       "      <td>NaN</td>\n",
       "      <td>NaN</td>\n",
       "      <td>259.0</td>\n",
       "      <td>NaN</td>\n",
       "      <td>NaN</td>\n",
       "      <td>NaN</td>\n",
       "      <td>NaN</td>\n",
       "    </tr>\n",
       "  </tbody>\n",
       "</table>\n",
       "</div>"
      ],
      "text/plain": [
       "SKU         11617  29251  39924  40937  50971  67179  67286  75536  97818  \\\n",
       "dates                                                                       \n",
       "2019-12-07  196.0    NaN    NaN    NaN    NaN  259.0    NaN    NaN    NaN   \n",
       "2019-12-08  196.0    NaN    NaN    NaN    NaN  259.0    NaN    NaN    NaN   \n",
       "\n",
       "SKU         98130  \n",
       "dates              \n",
       "2019-12-07    NaN  \n",
       "2019-12-08    NaN  "
      ]
     },
     "execution_count": 10,
     "metadata": {},
     "output_type": "execute_result"
    }
   ],
   "source": [
    "pivot_t = df.pivot_table(index='dates', columns='SKU', values='price_per_sku')\n",
    "pivot_t.tail(2)"
   ]
  },
  {
   "cell_type": "code",
   "execution_count": 97,
   "id": "6cfdbdae-647b-4d2b-b826-9363bdaaaf6d",
   "metadata": {},
   "outputs": [],
   "source": [
    "sku_show = sorted(set(df.SKU.values) - {97818, 67286, 75536})"
   ]
  },
  {
   "cell_type": "code",
   "execution_count": 98,
   "id": "f76449c7-4247-4518-bd2b-b9e74824ba2c",
   "metadata": {},
   "outputs": [
    {
     "data": {
      "text/plain": [
       "<AxesSubplot:xlabel='dates'>"
      ]
     },
     "execution_count": 98,
     "metadata": {},
     "output_type": "execute_result"
    },
    {
     "data": {
      "image/png": "[encoded data removed]",
      "text/plain": [
       "<Figure size 864x360 with 1 Axes>"
      ]
     },
     "metadata": {
      "needs_background": "light"
     },
     "output_type": "display_data"
    }
   ],
   "source": [
    "plt.figure(figsize=(12, 5))\n",
    "sns.lineplot(data=pivot_t[sku_show], dashes=False)"
   ]
  },
  {
   "cell_type": "code",
   "execution_count": 14,
   "id": "dda11bb9-a714-4627-92aa-b27c21903719",
   "metadata": {},
   "outputs": [
    {
     "data": {
      "text/plain": [
       "array([182., 183., 184., 185., 186., 187., 188., 189., 191., 190., 194.,\n",
       "       192., 196.])"
      ]
     },
     "execution_count": 14,
     "metadata": {},
     "output_type": "execute_result"
    }
   ],
   "source": [
    "df[df.SKU == 11617].price_per_sku.unique()"
   ]
  },
  {
   "cell_type": "markdown",
   "id": "a66ee884-85b7-4ff4-813b-252aec1560c6",
   "metadata": {},
   "source": [
    "## Классифицировать SKU на классы сезонностей\n",
    "1. праздничных недель или недель со знаменательными событиями (например, 1 сентября)\n",
    "1. летних недель\n",
    "1. предновогодних недель (конец ноября — декабрь)"
   ]
  },
  {
   "cell_type": "code",
   "execution_count": 114,
   "id": "ff099396-bb46-43d7-b0bb-329a36e60663",
   "metadata": {},
   "outputs": [
    {
     "data": {
      "text/plain": [
       "[11617, 50971, 98130]"
      ]
     },
     "execution_count": 114,
     "metadata": {},
     "output_type": "execute_result"
    }
   ],
   "source": [
    "l = [\n",
    "    [39924, 67179, 29251, 40937],\n",
    "    [97818, 67286, ],\n",
    "    [75536]\n",
    "]\n",
    "non_seasonal_sku = sorted(set(df.SKU.values) - {x for row in l for x in row})\n",
    "non_seasonal_sku"
   ]
  },
  {
   "cell_type": "code",
   "execution_count": 110,
   "id": "1987fc52-30b5-4d6b-8b87-3d836ae250df",
   "metadata": {},
   "outputs": [],
   "source": [
    "fpath_out = \"part1.txt\"\n",
    "# 3 rows with sku,sku,sku...\n",
    "with open(fpath_out, 'w') as f:\n",
    "    for row in l:\n",
    "        f.write(f\"{','.join(map(str, row))}\\n\")"
   ]
  },
  {
   "cell_type": "code",
   "execution_count": 111,
   "id": "5ab46f13-513f-4459-927b-42e2509c53fb",
   "metadata": {},
   "outputs": [
    {
     "name": "stdout",
     "output_type": "stream",
     "text": [
      "39924,67179,29251,40937\n",
      "97818,67286\n",
      "75536\n"
     ]
    }
   ],
   "source": [
    "!cat part1.txt"
   ]
  },
  {
   "cell_type": "code",
   "execution_count": 112,
   "id": "ce707342-f1a9-4c50-a98c-86f0278120e1",
   "metadata": {},
   "outputs": [],
   "source": [
    "!explorer.exe ."
   ]
  },
  {
   "cell_type": "markdown",
   "id": "08ef8161-06db-44a9-9c14-b63cd547cd59",
   "metadata": {},
   "source": [
    "## Предсказание диапазонов цен для SKU по датам"
   ]
  },
  {
   "cell_type": "code",
   "execution_count": 30,
   "id": "ff0ce954-525e-43ec-9c25-84450be019ab",
   "metadata": {},
   "outputs": [
    {
     "name": "stdout",
     "output_type": "stream",
     "text": [
      "SKU:  11617\n"
     ]
    },
    {
     "name": "stderr",
     "output_type": "stream",
     "text": [
      "INFO:prophet:Disabling yearly seasonality. Run prophet with yearly_seasonality=True to override this.\n",
      "INFO:prophet:Disabling daily seasonality. Run prophet with daily_seasonality=True to override this.\n",
      "INFO:prophet:Disabling yearly seasonality. Run prophet with yearly_seasonality=True to override this.\n",
      "INFO:prophet:Disabling daily seasonality. Run prophet with daily_seasonality=True to override this.\n"
     ]
    },
    {
     "name": "stdout",
     "output_type": "stream",
     "text": [
      "SKU:  29251\n"
     ]
    },
    {
     "name": "stderr",
     "output_type": "stream",
     "text": [
      "INFO:prophet:Disabling yearly seasonality. Run prophet with yearly_seasonality=True to override this.\n",
      "INFO:prophet:Disabling daily seasonality. Run prophet with daily_seasonality=True to override this.\n"
     ]
    },
    {
     "name": "stdout",
     "output_type": "stream",
     "text": [
      "SKU:  39924\n"
     ]
    },
    {
     "name": "stderr",
     "output_type": "stream",
     "text": [
      "INFO:prophet:Disabling yearly seasonality. Run prophet with yearly_seasonality=True to override this.\n",
      "INFO:prophet:Disabling daily seasonality. Run prophet with daily_seasonality=True to override this.\n"
     ]
    },
    {
     "name": "stdout",
     "output_type": "stream",
     "text": [
      "SKU:  40937\n"
     ]
    },
    {
     "name": "stderr",
     "output_type": "stream",
     "text": [
      "INFO:prophet:Disabling yearly seasonality. Run prophet with yearly_seasonality=True to override this.\n",
      "INFO:prophet:Disabling daily seasonality. Run prophet with daily_seasonality=True to override this.\n"
     ]
    },
    {
     "name": "stdout",
     "output_type": "stream",
     "text": [
      "SKU:  50971\n"
     ]
    },
    {
     "name": "stderr",
     "output_type": "stream",
     "text": [
      "INFO:prophet:Disabling yearly seasonality. Run prophet with yearly_seasonality=True to override this.\n",
      "INFO:prophet:Disabling daily seasonality. Run prophet with daily_seasonality=True to override this.\n"
     ]
    },
    {
     "name": "stdout",
     "output_type": "stream",
     "text": [
      "SKU:  67179\n"
     ]
    },
    {
     "name": "stderr",
     "output_type": "stream",
     "text": [
      "INFO:prophet:Disabling yearly seasonality. Run prophet with yearly_seasonality=True to override this.\n",
      "INFO:prophet:Disabling daily seasonality. Run prophet with daily_seasonality=True to override this.\n"
     ]
    },
    {
     "name": "stdout",
     "output_type": "stream",
     "text": [
      "SKU:  67286\n"
     ]
    },
    {
     "name": "stderr",
     "output_type": "stream",
     "text": [
      "INFO:prophet:Disabling yearly seasonality. Run prophet with yearly_seasonality=True to override this.\n",
      "INFO:prophet:Disabling daily seasonality. Run prophet with daily_seasonality=True to override this.\n"
     ]
    },
    {
     "name": "stdout",
     "output_type": "stream",
     "text": [
      "SKU:  75536\n"
     ]
    },
    {
     "name": "stderr",
     "output_type": "stream",
     "text": [
      "INFO:prophet:Disabling yearly seasonality. Run prophet with yearly_seasonality=True to override this.\n",
      "INFO:prophet:Disabling daily seasonality. Run prophet with daily_seasonality=True to override this.\n"
     ]
    },
    {
     "name": "stdout",
     "output_type": "stream",
     "text": [
      "SKU:  97818\n"
     ]
    },
    {
     "name": "stderr",
     "output_type": "stream",
     "text": [
      "INFO:prophet:Disabling yearly seasonality. Run prophet with yearly_seasonality=True to override this.\n",
      "INFO:prophet:Disabling daily seasonality. Run prophet with daily_seasonality=True to override this.\n"
     ]
    },
    {
     "name": "stdout",
     "output_type": "stream",
     "text": [
      "SKU:  98130\n"
     ]
    }
   ],
   "source": [
    "from prophet import Prophet\n",
    "\n",
    "for sku in df.SKU.unique():\n",
    "    print('SKU: ',sku)\n",
    "    prophet = Prophet()\n",
    "    train_data = df[df.SKU ==sku].reset_index(drop=True)\n",
    "    train_data.price_per_sku = train_data.price_per_sku.ffill()\n",
    "    prophet.fit(train_data[['dates', 'price_per_sku']].rename(columns={'dates':'ds','price_per_sku':'y'}))\n",
    "    pred_df = prophet.predict(dftest[dftest.SKU ==sku][['dates']].rename(columns={'dates':'ds'}))\n",
    "    pred_df.to_csv('prophet_predictions_{}.csv'.format(sku), index=None)"
   ]
  },
  {
   "cell_type": "code",
   "execution_count": 52,
   "id": "b9407592-e6b8-438d-8cbb-b6275e4861b7",
   "metadata": {},
   "outputs": [
    {
     "name": "stdout",
     "output_type": "stream",
     "text": [
      "competitors_based_price.ipynb  prophet_predictions_39924.csv\n",
      "dynamic_classic_price.ipynb    prophet_predictions_40937.csv\n",
      "factor_base_price.ipynb        prophet_predictions_50971.csv\n",
      "hw2.ipynb\t\t       prophet_predictions_67179.csv\n",
      "hw4.ipynb\t\t       prophet_predictions_67286.csv\n",
      "hw6.ipynb\t\t       prophet_predictions_75536.csv\n",
      "part1.txt\t\t       prophet_predictions_97818.csv\n",
      "prophet_predictions_11617.csv  prophet_predictions_98130.csv\n",
      "prophet_predictions_29251.csv\n"
     ]
    }
   ],
   "source": [
    "!ls"
   ]
  },
  {
   "cell_type": "code",
   "execution_count": null,
   "id": "562174c0-1664-4a65-8164-1e1b45b1ffec",
   "metadata": {},
   "outputs": [],
   "source": [
    "non_seasonal_sku"
   ]
  },
  {
   "cell_type": "code",
   "execution_count": 195,
   "id": "50276c62-912d-461e-a773-d00f525dd5ac",
   "metadata": {},
   "outputs": [
    {
     "data": {
      "text/html": [
       "<div>\n",
       "<style scoped>\n",
       "    .dataframe tbody tr th:only-of-type {\n",
       "        vertical-align: middle;\n",
       "    }\n",
       "\n",
       "    .dataframe tbody tr th {\n",
       "        vertical-align: top;\n",
       "    }\n",
       "\n",
       "    .dataframe thead th {\n",
       "        text-align: right;\n",
       "    }\n",
       "</style>\n",
       "<table border=\"1\" class=\"dataframe\">\n",
       "  <thead>\n",
       "    <tr style=\"text-align: right;\">\n",
       "      <th></th>\n",
       "      <th>dates</th>\n",
       "      <th>SKU</th>\n",
       "      <th>predicted_lower_bound</th>\n",
       "      <th>predicted_upper_bound</th>\n",
       "    </tr>\n",
       "  </thead>\n",
       "  <tbody>\n",
       "    <tr>\n",
       "      <th>0</th>\n",
       "      <td>2019-12-02</td>\n",
       "      <td>97818</td>\n",
       "      <td>260.654132</td>\n",
       "      <td>290.011202</td>\n",
       "    </tr>\n",
       "    <tr>\n",
       "      <th>1</th>\n",
       "      <td>2019-12-12</td>\n",
       "      <td>97818</td>\n",
       "      <td>269.624802</td>\n",
       "      <td>297.769024</td>\n",
       "    </tr>\n",
       "  </tbody>\n",
       "</table>\n",
       "</div>"
      ],
      "text/plain": [
       "        dates    SKU  predicted_lower_bound  predicted_upper_bound\n",
       "0  2019-12-02  97818             260.654132             290.011202\n",
       "1  2019-12-12  97818             269.624802             297.769024"
      ]
     },
     "execution_count": 195,
     "metadata": {},
     "output_type": "execute_result"
    }
   ],
   "source": [
    "dfpr = pd.DataFrame()\n",
    "for sku in df.SKU.unique():\n",
    "    if sku in non_seasonal_sku:\n",
    "        continue\n",
    "    dfcur = pd.read_csv('./prophet_predictions_{}.csv'.format(sku))\n",
    "    dfcur['SKU'] = sku\n",
    "    dfcur = dfcur[['ds','SKU', 'yhat_lower', 'yhat_upper']].rename(\n",
    "        columns={\n",
    "            'yhat_lower':'predicted_lower_bound'\n",
    "            ,'yhat_upper':'predicted_upper_bound'\n",
    "            , 'ds':'dates'\n",
    "        })\n",
    "    dfpr = pd.concat([dfcur,dfpr])\n",
    "dfpr.head(2)"
   ]
  },
  {
   "cell_type": "code",
   "execution_count": 196,
   "id": "f735e66a-2e6a-4b91-ad08-f6bdc8d535e7",
   "metadata": {},
   "outputs": [],
   "source": [
    "dfpr.dates = pd.to_datetime(dfpr.dates)"
   ]
  },
  {
   "cell_type": "markdown",
   "id": "95418d8e-bdfc-4393-a9b9-9e74953935ed",
   "metadata": {},
   "source": [
    "#### ARIMA"
   ]
  },
  {
   "cell_type": "code",
   "execution_count": 181,
   "id": "719f2613-3c33-44e0-99b1-2f520097beeb",
   "metadata": {},
   "outputs": [],
   "source": [
    "from statsmodels.tsa.arima.model import ARIMA\n",
    "from tqdm import tqdm"
   ]
  },
  {
   "cell_type": "code",
   "execution_count": 182,
   "id": "1d482319-f414-4a40-93d1-292a6b55e865",
   "metadata": {
    "collapsed": true,
    "jupyter": {
     "outputs_hidden": true
    },
    "tags": []
   },
   "outputs": [
    {
     "name": "stderr",
     "output_type": "stream",
     "text": [
      "  0%|          | 0/10 [00:00<?, ?it/s]/home/nur/projects/analysis/env/lib/python3.7/site-packages/statsmodels/base/model.py:568: ConvergenceWarning: Maximum Likelihood optimization failed to converge. Check mle_retvals\n",
      "  ConvergenceWarning)\n",
      "/home/nur/projects/analysis/env/lib/python3.7/site-packages/ipykernel_launcher.py:12: SettingWithCopyWarning: \n",
      "A value is trying to be set on a copy of a slice from a DataFrame.\n",
      "Try using .loc[row_indexer,col_indexer] = value instead\n",
      "\n",
      "See the caveats in the documentation: https://pandas.pydata.org/pandas-docs/stable/user_guide/indexing.html#returning-a-view-versus-a-copy\n",
      "  if sys.path[0] == '':\n",
      "/home/nur/projects/analysis/env/lib/python3.7/site-packages/ipykernel_launcher.py:13: SettingWithCopyWarning: \n",
      "A value is trying to be set on a copy of a slice from a DataFrame.\n",
      "Try using .loc[row_indexer,col_indexer] = value instead\n",
      "\n",
      "See the caveats in the documentation: https://pandas.pydata.org/pandas-docs/stable/user_guide/indexing.html#returning-a-view-versus-a-copy\n",
      "  del sys.path[0]\n",
      " 20%|██        | 2/10 [00:14<00:59,  7.48s/it]/home/nur/projects/analysis/env/lib/python3.7/site-packages/statsmodels/base/model.py:568: ConvergenceWarning: Maximum Likelihood optimization failed to converge. Check mle_retvals\n",
      "  ConvergenceWarning)\n",
      "/home/nur/projects/analysis/env/lib/python3.7/site-packages/ipykernel_launcher.py:12: SettingWithCopyWarning: \n",
      "A value is trying to be set on a copy of a slice from a DataFrame.\n",
      "Try using .loc[row_indexer,col_indexer] = value instead\n",
      "\n",
      "See the caveats in the documentation: https://pandas.pydata.org/pandas-docs/stable/user_guide/indexing.html#returning-a-view-versus-a-copy\n",
      "  if sys.path[0] == '':\n",
      "/home/nur/projects/analysis/env/lib/python3.7/site-packages/ipykernel_launcher.py:13: SettingWithCopyWarning: \n",
      "A value is trying to be set on a copy of a slice from a DataFrame.\n",
      "Try using .loc[row_indexer,col_indexer] = value instead\n",
      "\n",
      "See the caveats in the documentation: https://pandas.pydata.org/pandas-docs/stable/user_guide/indexing.html#returning-a-view-versus-a-copy\n",
      "  del sys.path[0]\n",
      " 30%|███       | 3/10 [00:26<01:04,  9.14s/it]/home/nur/projects/analysis/env/lib/python3.7/site-packages/statsmodels/tsa/statespace/sarimax.py:966: UserWarning: Non-stationary starting autoregressive parameters found. Using zeros as starting parameters.\n",
      "  warn('Non-stationary starting autoregressive parameters'\n",
      "/home/nur/projects/analysis/env/lib/python3.7/site-packages/statsmodels/tsa/statespace/sarimax.py:978: UserWarning: Non-invertible starting MA parameters found. Using zeros as starting parameters.\n",
      "  warn('Non-invertible starting MA parameters found.'\n",
      "/home/nur/projects/analysis/env/lib/python3.7/site-packages/statsmodels/base/model.py:568: ConvergenceWarning: Maximum Likelihood optimization failed to converge. Check mle_retvals\n",
      "  ConvergenceWarning)\n",
      "/home/nur/projects/analysis/env/lib/python3.7/site-packages/ipykernel_launcher.py:12: SettingWithCopyWarning: \n",
      "A value is trying to be set on a copy of a slice from a DataFrame.\n",
      "Try using .loc[row_indexer,col_indexer] = value instead\n",
      "\n",
      "See the caveats in the documentation: https://pandas.pydata.org/pandas-docs/stable/user_guide/indexing.html#returning-a-view-versus-a-copy\n",
      "  if sys.path[0] == '':\n",
      "/home/nur/projects/analysis/env/lib/python3.7/site-packages/ipykernel_launcher.py:13: SettingWithCopyWarning: \n",
      "A value is trying to be set on a copy of a slice from a DataFrame.\n",
      "Try using .loc[row_indexer,col_indexer] = value instead\n",
      "\n",
      "See the caveats in the documentation: https://pandas.pydata.org/pandas-docs/stable/user_guide/indexing.html#returning-a-view-versus-a-copy\n",
      "  del sys.path[0]\n",
      " 40%|████      | 4/10 [00:42<01:10, 11.77s/it]/home/nur/projects/analysis/env/lib/python3.7/site-packages/statsmodels/tsa/statespace/sarimax.py:966: UserWarning: Non-stationary starting autoregressive parameters found. Using zeros as starting parameters.\n",
      "  warn('Non-stationary starting autoregressive parameters'\n",
      "/home/nur/projects/analysis/env/lib/python3.7/site-packages/statsmodels/tsa/statespace/sarimax.py:978: UserWarning: Non-invertible starting MA parameters found. Using zeros as starting parameters.\n",
      "  warn('Non-invertible starting MA parameters found.'\n",
      "/home/nur/projects/analysis/env/lib/python3.7/site-packages/statsmodels/base/model.py:568: ConvergenceWarning: Maximum Likelihood optimization failed to converge. Check mle_retvals\n",
      "  ConvergenceWarning)\n",
      "/home/nur/projects/analysis/env/lib/python3.7/site-packages/ipykernel_launcher.py:12: SettingWithCopyWarning: \n",
      "A value is trying to be set on a copy of a slice from a DataFrame.\n",
      "Try using .loc[row_indexer,col_indexer] = value instead\n",
      "\n",
      "See the caveats in the documentation: https://pandas.pydata.org/pandas-docs/stable/user_guide/indexing.html#returning-a-view-versus-a-copy\n",
      "  if sys.path[0] == '':\n",
      "/home/nur/projects/analysis/env/lib/python3.7/site-packages/ipykernel_launcher.py:13: SettingWithCopyWarning: \n",
      "A value is trying to be set on a copy of a slice from a DataFrame.\n",
      "Try using .loc[row_indexer,col_indexer] = value instead\n",
      "\n",
      "See the caveats in the documentation: https://pandas.pydata.org/pandas-docs/stable/user_guide/indexing.html#returning-a-view-versus-a-copy\n",
      "  del sys.path[0]\n",
      " 60%|██████    | 6/10 [00:52<00:32,  8.22s/it]/home/nur/projects/analysis/env/lib/python3.7/site-packages/statsmodels/tsa/statespace/sarimax.py:966: UserWarning: Non-stationary starting autoregressive parameters found. Using zeros as starting parameters.\n",
      "  warn('Non-stationary starting autoregressive parameters'\n",
      "/home/nur/projects/analysis/env/lib/python3.7/site-packages/statsmodels/tsa/statespace/sarimax.py:978: UserWarning: Non-invertible starting MA parameters found. Using zeros as starting parameters.\n",
      "  warn('Non-invertible starting MA parameters found.'\n",
      "/home/nur/projects/analysis/env/lib/python3.7/site-packages/statsmodels/base/model.py:568: ConvergenceWarning: Maximum Likelihood optimization failed to converge. Check mle_retvals\n",
      "  ConvergenceWarning)\n",
      "/home/nur/projects/analysis/env/lib/python3.7/site-packages/ipykernel_launcher.py:12: SettingWithCopyWarning: \n",
      "A value is trying to be set on a copy of a slice from a DataFrame.\n",
      "Try using .loc[row_indexer,col_indexer] = value instead\n",
      "\n",
      "See the caveats in the documentation: https://pandas.pydata.org/pandas-docs/stable/user_guide/indexing.html#returning-a-view-versus-a-copy\n",
      "  if sys.path[0] == '':\n",
      "/home/nur/projects/analysis/env/lib/python3.7/site-packages/ipykernel_launcher.py:13: SettingWithCopyWarning: \n",
      "A value is trying to be set on a copy of a slice from a DataFrame.\n",
      "Try using .loc[row_indexer,col_indexer] = value instead\n",
      "\n",
      "See the caveats in the documentation: https://pandas.pydata.org/pandas-docs/stable/user_guide/indexing.html#returning-a-view-versus-a-copy\n",
      "  del sys.path[0]\n",
      " 70%|███████   | 7/10 [01:06<00:29,  9.87s/it]/home/nur/projects/analysis/env/lib/python3.7/site-packages/statsmodels/base/model.py:568: ConvergenceWarning: Maximum Likelihood optimization failed to converge. Check mle_retvals\n",
      "  ConvergenceWarning)\n",
      "/home/nur/projects/analysis/env/lib/python3.7/site-packages/ipykernel_launcher.py:12: SettingWithCopyWarning: \n",
      "A value is trying to be set on a copy of a slice from a DataFrame.\n",
      "Try using .loc[row_indexer,col_indexer] = value instead\n",
      "\n",
      "See the caveats in the documentation: https://pandas.pydata.org/pandas-docs/stable/user_guide/indexing.html#returning-a-view-versus-a-copy\n",
      "  if sys.path[0] == '':\n",
      "/home/nur/projects/analysis/env/lib/python3.7/site-packages/ipykernel_launcher.py:13: SettingWithCopyWarning: \n",
      "A value is trying to be set on a copy of a slice from a DataFrame.\n",
      "Try using .loc[row_indexer,col_indexer] = value instead\n",
      "\n",
      "See the caveats in the documentation: https://pandas.pydata.org/pandas-docs/stable/user_guide/indexing.html#returning-a-view-versus-a-copy\n",
      "  del sys.path[0]\n",
      " 80%|████████  | 8/10 [01:21<00:22, 11.27s/it]/home/nur/projects/analysis/env/lib/python3.7/site-packages/statsmodels/tsa/statespace/sarimax.py:966: UserWarning: Non-stationary starting autoregressive parameters found. Using zeros as starting parameters.\n",
      "  warn('Non-stationary starting autoregressive parameters'\n",
      "/home/nur/projects/analysis/env/lib/python3.7/site-packages/statsmodels/tsa/statespace/sarimax.py:978: UserWarning: Non-invertible starting MA parameters found. Using zeros as starting parameters.\n",
      "  warn('Non-invertible starting MA parameters found.'\n",
      "/home/nur/projects/analysis/env/lib/python3.7/site-packages/statsmodels/base/model.py:568: ConvergenceWarning: Maximum Likelihood optimization failed to converge. Check mle_retvals\n",
      "  ConvergenceWarning)\n",
      "/home/nur/projects/analysis/env/lib/python3.7/site-packages/ipykernel_launcher.py:12: SettingWithCopyWarning: \n",
      "A value is trying to be set on a copy of a slice from a DataFrame.\n",
      "Try using .loc[row_indexer,col_indexer] = value instead\n",
      "\n",
      "See the caveats in the documentation: https://pandas.pydata.org/pandas-docs/stable/user_guide/indexing.html#returning-a-view-versus-a-copy\n",
      "  if sys.path[0] == '':\n",
      "/home/nur/projects/analysis/env/lib/python3.7/site-packages/ipykernel_launcher.py:13: SettingWithCopyWarning: \n",
      "A value is trying to be set on a copy of a slice from a DataFrame.\n",
      "Try using .loc[row_indexer,col_indexer] = value instead\n",
      "\n",
      "See the caveats in the documentation: https://pandas.pydata.org/pandas-docs/stable/user_guide/indexing.html#returning-a-view-versus-a-copy\n",
      "  del sys.path[0]\n",
      "100%|██████████| 10/10 [01:34<00:00,  9.48s/it]\n"
     ]
    },
    {
     "data": {
      "text/html": [
       "<div>\n",
       "<style scoped>\n",
       "    .dataframe tbody tr th:only-of-type {\n",
       "        vertical-align: middle;\n",
       "    }\n",
       "\n",
       "    .dataframe tbody tr th {\n",
       "        vertical-align: top;\n",
       "    }\n",
       "\n",
       "    .dataframe thead th {\n",
       "        text-align: right;\n",
       "    }\n",
       "</style>\n",
       "<table border=\"1\" class=\"dataframe\">\n",
       "  <thead>\n",
       "    <tr style=\"text-align: right;\">\n",
       "      <th></th>\n",
       "      <th>SKU</th>\n",
       "      <th>dates</th>\n",
       "      <th>predicted_lower_bound</th>\n",
       "      <th>predicted_upper_bound</th>\n",
       "    </tr>\n",
       "  </thead>\n",
       "  <tbody>\n",
       "    <tr>\n",
       "      <th>0</th>\n",
       "      <td>97818</td>\n",
       "      <td>2019-12-02</td>\n",
       "      <td>246.784707</td>\n",
       "      <td>266.158704</td>\n",
       "    </tr>\n",
       "    <tr>\n",
       "      <th>1</th>\n",
       "      <td>97818</td>\n",
       "      <td>2019-12-12</td>\n",
       "      <td>242.076710</td>\n",
       "      <td>269.570905</td>\n",
       "    </tr>\n",
       "  </tbody>\n",
       "</table>\n",
       "</div>"
      ],
      "text/plain": [
       "     SKU      dates  predicted_lower_bound  predicted_upper_bound\n",
       "0  97818 2019-12-02             246.784707             266.158704\n",
       "1  97818 2019-12-12             242.076710             269.570905"
      ]
     },
     "execution_count": 182,
     "metadata": {},
     "output_type": "execute_result"
    }
   ],
   "source": [
    "dfar = pd.DataFrame()\n",
    "for sku in tqdm(df.SKU.unique()):\n",
    "    if sku in non_seasonal_sku:\n",
    "        continue\n",
    "    # Autoregressive Integrated Moving Average\n",
    "    dftrain = df[df.SKU == sku]\n",
    "    ARIMA_ = ARIMA(dftrain.price_per_sku.values, order=(20,1,20))\n",
    "    ARIMA_model = ARIMA_.fit()\n",
    "    \n",
    "    dfcur = dftest[dftest.SKU == sku]\n",
    "    pred_count = dfcur.shape[0]\n",
    "    dfcur['predicted_lower_bound'] = ARIMA_model.get_forecast(pred_count).conf_int(0.05)[:,0]\n",
    "    dfcur['predicted_upper_bound'] = ARIMA_model.get_forecast(pred_count).conf_int(0.05)[:,1]\n",
    "    \n",
    "    dfar = pd.concat([dfcur,dfar], ignore_index=True)\n",
    "\n",
    "dfar.head(2)"
   ]
  },
  {
   "cell_type": "code",
   "execution_count": 183,
   "id": "9b38f503-f7cd-4373-b34b-8311e74e7656",
   "metadata": {},
   "outputs": [],
   "source": [
    "dfar.dates = pd.to_datetime(dfar.dates)"
   ]
  },
  {
   "cell_type": "markdown",
   "id": "8ef5cc35-3015-4ce2-a278-3f2878d65125",
   "metadata": {},
   "source": [
    "#### Final result"
   ]
  },
  {
   "cell_type": "code",
   "execution_count": 199,
   "id": "5b4e8a98-9e9a-4a5d-9920-9298aa08943d",
   "metadata": {},
   "outputs": [],
   "source": [
    "assert dfar.shape[0] == dfpr.shape[0]"
   ]
  },
  {
   "cell_type": "code",
   "execution_count": 200,
   "id": "b7c72e05-449f-4f1a-badf-116dfa017778",
   "metadata": {
    "tags": []
   },
   "outputs": [
    {
     "data": {
      "text/html": [
       "<div>\n",
       "<style scoped>\n",
       "    .dataframe tbody tr th:only-of-type {\n",
       "        vertical-align: middle;\n",
       "    }\n",
       "\n",
       "    .dataframe tbody tr th {\n",
       "        vertical-align: top;\n",
       "    }\n",
       "\n",
       "    .dataframe thead th {\n",
       "        text-align: right;\n",
       "    }\n",
       "</style>\n",
       "<table border=\"1\" class=\"dataframe\">\n",
       "  <thead>\n",
       "    <tr style=\"text-align: right;\">\n",
       "      <th></th>\n",
       "      <th>dates</th>\n",
       "      <th>SKU</th>\n",
       "      <th>predicted_lower_bound_x</th>\n",
       "      <th>predicted_upper_bound_x</th>\n",
       "      <th>predicted_lower_bound_y</th>\n",
       "      <th>predicted_upper_bound_y</th>\n",
       "    </tr>\n",
       "  </thead>\n",
       "  <tbody>\n",
       "    <tr>\n",
       "      <th>0</th>\n",
       "      <td>2019-12-02</td>\n",
       "      <td>97818</td>\n",
       "      <td>260.654132</td>\n",
       "      <td>290.011202</td>\n",
       "      <td>246.784707</td>\n",
       "      <td>266.158704</td>\n",
       "    </tr>\n",
       "    <tr>\n",
       "      <th>1</th>\n",
       "      <td>2019-12-12</td>\n",
       "      <td>97818</td>\n",
       "      <td>269.624802</td>\n",
       "      <td>297.769024</td>\n",
       "      <td>242.076710</td>\n",
       "      <td>269.570905</td>\n",
       "    </tr>\n",
       "    <tr>\n",
       "      <th>2</th>\n",
       "      <td>2019-12-17</td>\n",
       "      <td>97818</td>\n",
       "      <td>269.292021</td>\n",
       "      <td>298.378727</td>\n",
       "      <td>238.855682</td>\n",
       "      <td>272.633558</td>\n",
       "    </tr>\n",
       "    <tr>\n",
       "      <th>3</th>\n",
       "      <td>2019-12-23</td>\n",
       "      <td>97818</td>\n",
       "      <td>273.553069</td>\n",
       "      <td>302.320712</td>\n",
       "      <td>237.133409</td>\n",
       "      <td>276.108125</td>\n",
       "    </tr>\n",
       "    <tr>\n",
       "      <th>4</th>\n",
       "      <td>2019-12-03</td>\n",
       "      <td>75536</td>\n",
       "      <td>353.211190</td>\n",
       "      <td>371.790786</td>\n",
       "      <td>373.555700</td>\n",
       "      <td>386.893153</td>\n",
       "    </tr>\n",
       "    <tr>\n",
       "      <th>5</th>\n",
       "      <td>2019-12-10</td>\n",
       "      <td>75536</td>\n",
       "      <td>354.690895</td>\n",
       "      <td>374.061278</td>\n",
       "      <td>371.112222</td>\n",
       "      <td>390.295407</td>\n",
       "    </tr>\n",
       "    <tr>\n",
       "      <th>6</th>\n",
       "      <td>2019-12-16</td>\n",
       "      <td>75536</td>\n",
       "      <td>355.296037</td>\n",
       "      <td>375.766025</td>\n",
       "      <td>368.438167</td>\n",
       "      <td>391.947662</td>\n",
       "    </tr>\n",
       "    <tr>\n",
       "      <th>7</th>\n",
       "      <td>2019-12-23</td>\n",
       "      <td>75536</td>\n",
       "      <td>358.611266</td>\n",
       "      <td>377.859851</td>\n",
       "      <td>363.593081</td>\n",
       "      <td>391.201071</td>\n",
       "    </tr>\n",
       "    <tr>\n",
       "      <th>8</th>\n",
       "      <td>2019-11-11</td>\n",
       "      <td>67286</td>\n",
       "      <td>181.289618</td>\n",
       "      <td>199.399373</td>\n",
       "      <td>172.151344</td>\n",
       "      <td>183.944099</td>\n",
       "    </tr>\n",
       "    <tr>\n",
       "      <th>9</th>\n",
       "      <td>2019-11-18</td>\n",
       "      <td>67286</td>\n",
       "      <td>184.104644</td>\n",
       "      <td>202.515730</td>\n",
       "      <td>170.693459</td>\n",
       "      <td>187.408928</td>\n",
       "    </tr>\n",
       "    <tr>\n",
       "      <th>10</th>\n",
       "      <td>2019-11-25</td>\n",
       "      <td>67286</td>\n",
       "      <td>187.892243</td>\n",
       "      <td>207.134882</td>\n",
       "      <td>169.061506</td>\n",
       "      <td>189.537948</td>\n",
       "    </tr>\n",
       "    <tr>\n",
       "      <th>11</th>\n",
       "      <td>2019-12-02</td>\n",
       "      <td>67286</td>\n",
       "      <td>191.297905</td>\n",
       "      <td>209.237106</td>\n",
       "      <td>167.112756</td>\n",
       "      <td>190.774921</td>\n",
       "    </tr>\n",
       "    <tr>\n",
       "      <th>12</th>\n",
       "      <td>2019-12-09</td>\n",
       "      <td>67179</td>\n",
       "      <td>248.658809</td>\n",
       "      <td>272.406233</td>\n",
       "      <td>244.853052</td>\n",
       "      <td>266.395232</td>\n",
       "    </tr>\n",
       "    <tr>\n",
       "      <th>13</th>\n",
       "      <td>2019-12-16</td>\n",
       "      <td>67179</td>\n",
       "      <td>248.551984</td>\n",
       "      <td>272.349002</td>\n",
       "      <td>242.394823</td>\n",
       "      <td>271.864754</td>\n",
       "    </tr>\n",
       "    <tr>\n",
       "      <th>14</th>\n",
       "      <td>2019-12-24</td>\n",
       "      <td>67179</td>\n",
       "      <td>249.727461</td>\n",
       "      <td>273.369697</td>\n",
       "      <td>240.585385</td>\n",
       "      <td>275.770789</td>\n",
       "    </tr>\n",
       "    <tr>\n",
       "      <th>15</th>\n",
       "      <td>2019-12-30</td>\n",
       "      <td>67179</td>\n",
       "      <td>248.261148</td>\n",
       "      <td>273.409025</td>\n",
       "      <td>239.604389</td>\n",
       "      <td>277.804930</td>\n",
       "    </tr>\n",
       "    <tr>\n",
       "      <th>16</th>\n",
       "      <td>2019-12-02</td>\n",
       "      <td>40937</td>\n",
       "      <td>396.462652</td>\n",
       "      <td>433.266744</td>\n",
       "      <td>409.850688</td>\n",
       "      <td>437.622059</td>\n",
       "    </tr>\n",
       "    <tr>\n",
       "      <th>17</th>\n",
       "      <td>2019-12-09</td>\n",
       "      <td>40937</td>\n",
       "      <td>396.113949</td>\n",
       "      <td>434.728333</td>\n",
       "      <td>404.938065</td>\n",
       "      <td>443.973178</td>\n",
       "    </tr>\n",
       "    <tr>\n",
       "      <th>18</th>\n",
       "      <td>2019-12-16</td>\n",
       "      <td>40937</td>\n",
       "      <td>398.163205</td>\n",
       "      <td>436.652453</td>\n",
       "      <td>398.068364</td>\n",
       "      <td>445.436442</td>\n",
       "    </tr>\n",
       "    <tr>\n",
       "      <th>19</th>\n",
       "      <td>2019-12-23</td>\n",
       "      <td>40937</td>\n",
       "      <td>399.573680</td>\n",
       "      <td>438.224570</td>\n",
       "      <td>394.391676</td>\n",
       "      <td>448.144187</td>\n",
       "    </tr>\n",
       "    <tr>\n",
       "      <th>20</th>\n",
       "      <td>2019-12-02</td>\n",
       "      <td>39924</td>\n",
       "      <td>260.779090</td>\n",
       "      <td>285.608002</td>\n",
       "      <td>265.017022</td>\n",
       "      <td>284.854559</td>\n",
       "    </tr>\n",
       "    <tr>\n",
       "      <th>21</th>\n",
       "      <td>2019-12-09</td>\n",
       "      <td>39924</td>\n",
       "      <td>261.195890</td>\n",
       "      <td>287.314977</td>\n",
       "      <td>258.202070</td>\n",
       "      <td>285.872414</td>\n",
       "    </tr>\n",
       "    <tr>\n",
       "      <th>22</th>\n",
       "      <td>2019-12-16</td>\n",
       "      <td>39924</td>\n",
       "      <td>262.303057</td>\n",
       "      <td>287.279929</td>\n",
       "      <td>253.495427</td>\n",
       "      <td>287.057682</td>\n",
       "    </tr>\n",
       "    <tr>\n",
       "      <th>23</th>\n",
       "      <td>2019-12-24</td>\n",
       "      <td>39924</td>\n",
       "      <td>262.386504</td>\n",
       "      <td>287.795185</td>\n",
       "      <td>252.174449</td>\n",
       "      <td>289.885557</td>\n",
       "    </tr>\n",
       "    <tr>\n",
       "      <th>24</th>\n",
       "      <td>2019-12-02</td>\n",
       "      <td>29251</td>\n",
       "      <td>345.883604</td>\n",
       "      <td>382.493864</td>\n",
       "      <td>342.333785</td>\n",
       "      <td>370.682085</td>\n",
       "    </tr>\n",
       "    <tr>\n",
       "      <th>25</th>\n",
       "      <td>2019-12-09</td>\n",
       "      <td>29251</td>\n",
       "      <td>346.218262</td>\n",
       "      <td>383.561330</td>\n",
       "      <td>333.954396</td>\n",
       "      <td>373.093543</td>\n",
       "    </tr>\n",
       "    <tr>\n",
       "      <th>26</th>\n",
       "      <td>2019-12-17</td>\n",
       "      <td>29251</td>\n",
       "      <td>347.673832</td>\n",
       "      <td>385.350264</td>\n",
       "      <td>329.971670</td>\n",
       "      <td>376.111349</td>\n",
       "    </tr>\n",
       "    <tr>\n",
       "      <th>27</th>\n",
       "      <td>2019-12-23</td>\n",
       "      <td>29251</td>\n",
       "      <td>349.540784</td>\n",
       "      <td>385.325072</td>\n",
       "      <td>326.624405</td>\n",
       "      <td>377.445849</td>\n",
       "    </tr>\n",
       "  </tbody>\n",
       "</table>\n",
       "</div>"
      ],
      "text/plain": [
       "        dates    SKU  predicted_lower_bound_x  predicted_upper_bound_x  \\\n",
       "0  2019-12-02  97818               260.654132               290.011202   \n",
       "1  2019-12-12  97818               269.624802               297.769024   \n",
       "2  2019-12-17  97818               269.292021               298.378727   \n",
       "3  2019-12-23  97818               273.553069               302.320712   \n",
       "4  2019-12-03  75536               353.211190               371.790786   \n",
       "5  2019-12-10  75536               354.690895               374.061278   \n",
       "6  2019-12-16  75536               355.296037               375.766025   \n",
       "7  2019-12-23  75536               358.611266               377.859851   \n",
       "8  2019-11-11  67286               181.289618               199.399373   \n",
       "9  2019-11-18  67286               184.104644               202.515730   \n",
       "10 2019-11-25  67286               187.892243               207.134882   \n",
       "11 2019-12-02  67286               191.297905               209.237106   \n",
       "12 2019-12-09  67179               248.658809               272.406233   \n",
       "13 2019-12-16  67179               248.551984               272.349002   \n",
       "14 2019-12-24  67179               249.727461               273.369697   \n",
       "15 2019-12-30  67179               248.261148               273.409025   \n",
       "16 2019-12-02  40937               396.462652               433.266744   \n",
       "17 2019-12-09  40937               396.113949               434.728333   \n",
       "18 2019-12-16  40937               398.163205               436.652453   \n",
       "19 2019-12-23  40937               399.573680               438.224570   \n",
       "20 2019-12-02  39924               260.779090               285.608002   \n",
       "21 2019-12-09  39924               261.195890               287.314977   \n",
       "22 2019-12-16  39924               262.303057               287.279929   \n",
       "23 2019-12-24  39924               262.386504               287.795185   \n",
       "24 2019-12-02  29251               345.883604               382.493864   \n",
       "25 2019-12-09  29251               346.218262               383.561330   \n",
       "26 2019-12-17  29251               347.673832               385.350264   \n",
       "27 2019-12-23  29251               349.540784               385.325072   \n",
       "\n",
       "    predicted_lower_bound_y  predicted_upper_bound_y  \n",
       "0                246.784707               266.158704  \n",
       "1                242.076710               269.570905  \n",
       "2                238.855682               272.633558  \n",
       "3                237.133409               276.108125  \n",
       "4                373.555700               386.893153  \n",
       "5                371.112222               390.295407  \n",
       "6                368.438167               391.947662  \n",
       "7                363.593081               391.201071  \n",
       "8                172.151344               183.944099  \n",
       "9                170.693459               187.408928  \n",
       "10               169.061506               189.537948  \n",
       "11               167.112756               190.774921  \n",
       "12               244.853052               266.395232  \n",
       "13               242.394823               271.864754  \n",
       "14               240.585385               275.770789  \n",
       "15               239.604389               277.804930  \n",
       "16               409.850688               437.622059  \n",
       "17               404.938065               443.973178  \n",
       "18               398.068364               445.436442  \n",
       "19               394.391676               448.144187  \n",
       "20               265.017022               284.854559  \n",
       "21               258.202070               285.872414  \n",
       "22               253.495427               287.057682  \n",
       "23               252.174449               289.885557  \n",
       "24               342.333785               370.682085  \n",
       "25               333.954396               373.093543  \n",
       "26               329.971670               376.111349  \n",
       "27               326.624405               377.445849  "
      ]
     },
     "execution_count": 200,
     "metadata": {},
     "output_type": "execute_result"
    }
   ],
   "source": [
    "dfres = dfpred.merge(dfar, how='left', on=['SKU', 'dates'])\n",
    "dfres"
   ]
  },
  {
   "cell_type": "code",
   "execution_count": 205,
   "id": "540f7f24-ed8b-48d0-9748-2ebc363b09c2",
   "metadata": {},
   "outputs": [],
   "source": [
    "dfres['predicted_lower_bound'] = dfres[['predicted_lower_bound_x', 'predicted_lower_bound_y']].mean(axis=1)\n",
    "dfres['predicted_upper_bound'] = dfres[['predicted_upper_bound_x', 'predicted_upper_bound_y']].mean(axis=1)"
   ]
  },
  {
   "cell_type": "code",
   "execution_count": 206,
   "id": "86797605-6e8b-4d2b-b2d4-9f5653a992fa",
   "metadata": {},
   "outputs": [],
   "source": [
    "dfres = dftest.merge(dfres[['dates', 'SKU', 'predicted_lower_bound', 'predicted_upper_bound']], how='left', on=['SKU', 'dates'])"
   ]
  },
  {
   "cell_type": "code",
   "execution_count": 207,
   "id": "a8815d09-17cc-41ba-b251-42fb431cd453",
   "metadata": {},
   "outputs": [],
   "source": [
    "for sku in non_seasonal_sku:\n",
    "    vals = df[df.SKU == sku].price_per_sku.values\n",
    "    dfres.loc[dfres.SKU == sku,'predicted_lower_bound']= vals[-3:].min()\n",
    "    dfres.loc[dfres.SKU == sku,'predicted_upper_bound']= vals.max()+4"
   ]
  },
  {
   "cell_type": "code",
   "execution_count": 208,
   "id": "d78e76cf-efd4-4a3e-b997-914ac51340fa",
   "metadata": {},
   "outputs": [],
   "source": [
    "fpath_out = \"part2.csv\"\n",
    "# expected IoU>0.25\n",
    "dfres[['SKU', 'dates', 'predicted_lower_bound', 'predicted_upper_bound']].to_csv(fpath_out, index=None)"
   ]
  },
  {
   "cell_type": "code",
   "execution_count": 209,
   "id": "277b7be1-9af4-45ea-9069-b678ff885d06",
   "metadata": {},
   "outputs": [
    {
     "name": "stdout",
     "output_type": "stream",
     "text": [
      "SKU,dates,predicted_lower_bound,predicted_upper_bound\n",
      "11617,2019-12-11,196.0,200.0\n",
      "11617,2019-12-16,196.0,200.0\n",
      "11617,2019-12-23,196.0,200.0\n",
      "11617,2019-12-30,196.0,200.0\n",
      "29251,2019-12-02,344.10869459301097,376.587974842112\n",
      "29251,2019-12-09,340.08632868172185,378.3274364367415\n",
      "29251,2019-12-17,338.82275059274434,380.7308066190112\n",
      "29251,2019-12-23,338.08259482399944,381.3854606426373\n",
      "39924,2019-12-02,262.8980558888632,285.23128043815484\n",
      "39924,2019-12-09,259.69898009249414,286.59369529436515\n",
      "39924,2019-12-16,257.8992419494993,287.1688054742784\n",
      "39924,2019-12-24,257.2804764828152,288.84037128068053\n",
      "40937,2019-12-02,403.15667016423447,435.4444015340955\n",
      "40937,2019-12-09,400.5260071578516,439.3507554443717\n",
      "40937,2019-12-16,398.1157844436366,441.04444737258723\n",
      "40937,2019-12-23,396.9826778518416,443.184378352036\n",
      "50971,2019-12-02,299.0,315.0\n",
      "50971,2019-12-09,299.0,315.0\n",
      "50971,2019-12-16,299.0,315.0\n",
      "50971,2019-12-23,299.0,315.0\n",
      "67179,2019-12-09,246.75593051239446,269.400732131388\n",
      "67179,2019-12-16,245.47340385662227,272.1068781278095\n",
      "67179,2019-12-24,245.1564231323347,274.57024330851107\n",
      "67179,2019-12-30,243.93276861609206,275.60697778790154\n",
      "67286,2019-11-11,176.72048091587374,191.67173563414758\n",
      "67286,2019-11-18,177.39905106697114,194.96232872495895\n",
      "67286,2019-11-25,178.47687423414024,198.33641501210352\n",
      "67286,2019-12-02,179.2053302426471,200.00601368158266\n",
      "75536,2019-12-03,363.38344486292164,379.3419695416684\n",
      "75536,2019-12-10,362.9015584899572,382.178342499282\n",
      "75536,2019-12-16,361.86710233539327,383.85684375070974\n",
      "75536,2019-12-23,361.1021733300314,384.53046076820533\n",
      "97818,2019-12-02,253.71941956722915,278.0849528553827\n",
      "97818,2019-12-12,255.85075582723937,283.66996413580944\n",
      "97818,2019-12-17,254.07385194046813,285.5061427451694\n",
      "97818,2019-12-23,255.34323883811754,289.21441829021364\n",
      "98130,2019-12-02,327.0,331.0\n",
      "98130,2019-12-09,327.0,331.0\n",
      "98130,2019-12-17,327.0,331.0\n",
      "98130,2019-12-23,327.0,331.0\n"
     ]
    }
   ],
   "source": [
    "!cat part2.csv"
   ]
  },
  {
   "cell_type": "code",
   "execution_count": 210,
   "id": "f02322b9-0eb8-4115-a233-782493ff89c0",
   "metadata": {},
   "outputs": [],
   "source": [
    "!explorer.exe ."
   ]
  },
  {
   "cell_type": "code",
   "execution_count": null,
   "id": "47e52da6-3801-453b-b8b3-a298e25685c4",
   "metadata": {},
   "outputs": [],
   "source": []
  },
  {
   "cell_type": "code",
   "execution_count": null,
   "id": "bafe3ad6-3982-4321-a549-51b6ae950350",
   "metadata": {},
   "outputs": [],
   "source": []
  }
 ],
 "metadata": {
  "kernelspec": {
   "display_name": "Python 3",
   "language": "python",
   "name": "python3"
  },
  "language_info": {
   "codemirror_mode": {
    "name": "ipython",
    "version": 3
   },
   "file_extension": ".py",
   "mimetype": "text/x-python",
   "name": "python",
   "nbconvert_exporter": "python",
   "pygments_lexer": "ipython3",
   "version": "3.7.11"
  }
 },
 "nbformat": 4,
 "nbformat_minor": 5
}
