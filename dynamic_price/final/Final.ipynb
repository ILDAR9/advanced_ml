{
 "cells": [
  {
   "cell_type": "code",
   "execution_count": 7,
   "metadata": {},
   "outputs": [],
   "source": [
    "#import visualization libraries\n",
    "import matplotlib.pyplot as plt\n",
    "import seaborn as sns\n",
    "color = sns.color_palette()\n",
    "import pandas as pd\n",
    "import numpy as np\n",
    "from prophet import Prophet\n",
    "import requests\n",
    "import time\n",
    "from tqdm import tqdm\n",
    "\n",
    "%matplotlib inline"
   ]
  },
  {
   "cell_type": "markdown",
   "metadata": {},
   "source": [
    "## Задача\n",
    "На основе данных о транзакциях, ценах конкурентов, промоакциях и планах продаж написать клиента,\n",
    "который для связки данных дата, SKU, user предложит цену (price)."
   ]
  },
  {
   "cell_type": "markdown",
   "metadata": {},
   "source": [
    "## Метрика\n",
    "По всем продажам **(цена продажи - себестоимость) + back bonus** (в случае, если было реализовано определённое количество определённого товара)."
   ]
  },
  {
   "cell_type": "code",
   "execution_count": null,
   "metadata": {},
   "outputs": [],
   "source": [
    "# Grader\n",
    "if result > 110000000:\n",
    "    ch.set_points(20)\n",
    "elif result > 108000000:\n",
    "    ch.set_points(15)\n",
    "elif result > 106000000:\n",
    "    ch.set_points(10)\n",
    "elif result > 103000000:\n",
    "    ch.set_points(5)\n",
    "elif result > 99100000:\n",
    "    ch.set_points(1)"
   ]
  },
  {
   "cell_type": "markdown",
   "metadata": {},
   "source": [
    "## Заметки\n",
    "Цена = Себестоимость * труд + (розничные маркапы) + (оптовые маркапы)"
   ]
  },
  {
   "cell_type": "code",
   "execution_count": 341,
   "metadata": {},
   "outputs": [],
   "source": [
    "UUID = \"a0ba270a447941b88ee988a36670d88b\"\n",
    "\n",
    "URL_BEGIN_DATA = 'https://lab.karpov.courses/hardml-api/project-1/task/{uuid}/begin'\n",
    "URL_TASK_DATA_GET = 'https://lab.karpov.courses/hardml-api/project-1/task/{uuid}/data'\n",
    "URL_TASK_RESULT_POST = 'https://lab.karpov.courses/hardml-api/project-1/task/{uuid}/result/'\n",
    "URL_TASK_RESULT_GET = 'https://lab.karpov.courses/hardml-api/project-1/task/{uuid}/result'\n",
    "URL_LMS_TASK_RESULT_GET = 'https://lab.karpov.courses/hardml-api/project-1/task/{uuid}/lms_result'"
   ]
  },
  {
   "cell_type": "code",
   "execution_count": 162,
   "metadata": {},
   "outputs": [
    {
     "data": {
      "text/plain": [
       "{'status': 'ok'}"
      ]
     },
     "execution_count": 162,
     "metadata": {},
     "output_type": "execute_result"
    }
   ],
   "source": [
    "# Restart service\n",
    "response = requests.post(URL_BEGIN_DATA.format(uuid=UUID))\n",
    "response.json()"
   ]
  },
  {
   "cell_type": "markdown",
   "metadata": {},
   "source": [
    "## Easy Solution\n",
    "    Score = 101013039"
   ]
  },
  {
   "cell_type": "code",
   "execution_count": 163,
   "metadata": {},
   "outputs": [],
   "source": [
    "dftr = pd.read_csv('data/transactions.csv')"
   ]
  },
  {
   "cell_type": "code",
   "execution_count": 164,
   "metadata": {},
   "outputs": [
    {
     "name": "stdout",
     "output_type": "stream",
     "text": [
      "2019-04-14 on SKU 10290\n"
     ]
    }
   ],
   "source": [
    "last_price = dftr.sort_values(['dates', 'SKU']).groupby(by = ['SKU'], as_index=False).nth(-1)[['SKU', 'price']].reset_index(drop=True)\n",
    "last_price = last_price.sort_values('SKU')\n",
    "assert all(x == 1 for x in last_price.value_counts(gr_cols).values)\n",
    "\n",
    "sku = 10290\n",
    "datemax = dftr[dftr.SKU == sku].dates.max()\n",
    "print(datemax, 'on SKU', sku)\n",
    "assert last_price[last_price.SKU == sku].price.values[0] == dftr[(dftr.SKU == sku) & (dftr.dates == datemax)].price.values[0]"
   ]
  },
  {
   "cell_type": "code",
   "execution_count": 170,
   "metadata": {},
   "outputs": [],
   "source": [
    "last_price.to_csv('data/last_price.csv', index=None)"
   ]
  },
  {
   "cell_type": "code",
   "execution_count": 165,
   "metadata": {},
   "outputs": [],
   "source": [
    "def report_user_sku(df):\n",
    "    print(df.shape, 'where', df.user_id.nunique(), 'unique users', 'and', df.SKU.nunique(), 'unique SKU')\n",
    "    print('from', df.dates.min(), 'to', df.dates.max())"
   ]
  },
  {
   "cell_type": "code",
   "execution_count": 169,
   "metadata": {
    "collapsed": true,
    "jupyter": {
     "outputs_hidden": true
    },
    "tags": []
   },
   "outputs": [
    {
     "name": "stderr",
     "output_type": "stream",
     "text": [
      "  0%|                                                            | 0/30 [00:00<?, ?it/s]"
     ]
    },
    {
     "name": "stdout",
     "output_type": "stream",
     "text": [
      "Received data\n",
      "(9639, 3) where 7615 unique users and 816 unique SKU\n",
      "from 2019-12-21 to 2019-12-21\n",
      "POST status: ok\n"
     ]
    },
    {
     "name": "stderr",
     "output_type": "stream",
     "text": [
      "  3%|█▋                                                  | 1/30 [00:14<07:13, 14.96s/it]"
     ]
    },
    {
     "name": "stdout",
     "output_type": "stream",
     "text": [
      "Received data\n",
      "(9615, 3) where 7623 unique users and 814 unique SKU\n",
      "from 2019-12-22 to 2019-12-22\n",
      "POST status: ok\n"
     ]
    },
    {
     "name": "stderr",
     "output_type": "stream",
     "text": [
      "  7%|███▍                                                | 2/30 [00:32<07:36, 16.32s/it]"
     ]
    },
    {
     "name": "stdout",
     "output_type": "stream",
     "text": [
      "Received data\n",
      "(9615, 3) where 7661 unique users and 814 unique SKU\n",
      "from 2019-12-23 to 2019-12-23\n",
      "POST status: ok\n"
     ]
    },
    {
     "name": "stderr",
     "output_type": "stream",
     "text": [
      " 10%|█████▏                                              | 3/30 [00:47<07:10, 15.93s/it]"
     ]
    },
    {
     "name": "stdout",
     "output_type": "stream",
     "text": [
      "Received data\n",
      "(9613, 3) where 7595 unique users and 814 unique SKU\n",
      "from 2019-12-24 to 2019-12-24\n",
      "POST status: ok\n"
     ]
    },
    {
     "name": "stderr",
     "output_type": "stream",
     "text": [
      " 13%|██████▉                                             | 4/30 [01:06<07:28, 17.24s/it]"
     ]
    },
    {
     "name": "stdout",
     "output_type": "stream",
     "text": [
      "Received data\n",
      "(9614, 3) where 7629 unique users and 814 unique SKU\n",
      "from 2019-12-25 to 2019-12-25\n",
      "POST status: ok\n"
     ]
    },
    {
     "name": "stderr",
     "output_type": "stream",
     "text": [
      " 17%|████████▋                                           | 5/30 [01:21<06:50, 16.42s/it]"
     ]
    },
    {
     "name": "stdout",
     "output_type": "stream",
     "text": [
      "Received data\n",
      "(9613, 3) where 7615 unique users and 814 unique SKU\n",
      "from 2019-12-26 to 2019-12-26\n",
      "POST status: ok\n"
     ]
    },
    {
     "name": "stderr",
     "output_type": "stream",
     "text": [
      " 20%|██████████▍                                         | 6/30 [01:36<06:15, 15.67s/it]"
     ]
    },
    {
     "name": "stdout",
     "output_type": "stream",
     "text": [
      "Received data\n",
      "(9603, 3) where 7608 unique users and 813 unique SKU\n",
      "from 2019-12-27 to 2019-12-27\n",
      "POST status: ok\n"
     ]
    },
    {
     "name": "stderr",
     "output_type": "stream",
     "text": [
      " 23%|████████████▏                                       | 7/30 [01:51<06:00, 15.67s/it]"
     ]
    },
    {
     "name": "stdout",
     "output_type": "stream",
     "text": [
      "Received data\n",
      "(9606, 3) where 7647 unique users and 813 unique SKU\n",
      "from 2019-12-28 to 2019-12-28\n",
      "POST status: ok\n"
     ]
    },
    {
     "name": "stderr",
     "output_type": "stream",
     "text": [
      " 27%|█████████████▊                                      | 8/30 [02:07<05:41, 15.53s/it]"
     ]
    },
    {
     "name": "stdout",
     "output_type": "stream",
     "text": [
      "Received data\n",
      "(9592, 3) where 7611 unique users and 812 unique SKU\n",
      "from 2019-12-29 to 2019-12-29\n",
      "POST status: ok\n"
     ]
    },
    {
     "name": "stderr",
     "output_type": "stream",
     "text": [
      " 30%|███████████████▌                                    | 9/30 [02:22<05:26, 15.53s/it]"
     ]
    },
    {
     "name": "stdout",
     "output_type": "stream",
     "text": [
      "Received data\n",
      "(9582, 3) where 7566 unique users and 811 unique SKU\n",
      "from 2019-12-30 to 2019-12-30\n",
      "POST status: ok\n"
     ]
    },
    {
     "name": "stderr",
     "output_type": "stream",
     "text": [
      " 33%|█████████████████                                  | 10/30 [02:38<05:17, 15.89s/it]"
     ]
    },
    {
     "name": "stdout",
     "output_type": "stream",
     "text": [
      "GET status: batch processing finished\n",
      "CPU times: user 1 s, sys: 59 ms, total: 1.06 s\n",
      "Wall time: 2min 38s\n"
     ]
    },
    {
     "name": "stderr",
     "output_type": "stream",
     "text": [
      "\n"
     ]
    }
   ],
   "source": [
    "%%time\n",
    "\n",
    "n_days=30\n",
    "try:\n",
    "    for _ in tqdm(range(n_days), total = n_days):\n",
    "        # Get data\n",
    "        response_send = requests.get(URL_TASK_DATA_GET.format(uuid=UUID))\n",
    "        if type(response_send.json()) == dict:\n",
    "            status = response_send.json().get('status')\n",
    "            print('GET status:', status)\n",
    "            if 'finished' in status:\n",
    "                break #batch processing finished\n",
    "        else:\n",
    "            print(\"Received data\")\n",
    "        # Post data\n",
    "        df = pd.read_json(response_send.json())\n",
    "        report_user_sku(df)\n",
    "        df = df.merge(last_price, how='left', on='SKU')\n",
    "        df\n",
    "        df['price'] = df['price'] * 1.05\n",
    "        response_receive = requests.post(URL_TASK_RESULT_POST.format(uuid=UUID),\n",
    "                                         data=df.to_json(orient='records'))\n",
    "        print('POST status:', response_receive.json().get('status'))\n",
    "        time.sleep(1)\n",
    "except Exception as e:\n",
    "    print('Error:', e)\n",
    "    response_lms = requests.get(URL_LMS_TASK_RESULT_GET.format(uuid=UUID))\n",
    "    print(\"LMS:\", response_lms.json())"
   ]
  },
  {
   "cell_type": "markdown",
   "metadata": {},
   "source": [
    "<br></br><br>"
   ]
  },
  {
   "cell_type": "markdown",
   "metadata": {},
   "source": [
    "## Transactions samples analysis"
   ]
  },
  {
   "cell_type": "code",
   "execution_count": 269,
   "metadata": {},
   "outputs": [],
   "source": [
    "import sys\n",
    "from importlib import reload\n",
    "sys.path.append('/home/nur/projects/advanced_ml/dynamic_price/final')\n",
    "from dynprice import edautils as eu"
   ]
  },
  {
   "cell_type": "code",
   "execution_count": 172,
   "metadata": {},
   "outputs": [],
   "source": [
    "dftr = pd.read_csv('data/transactions.csv')\n",
    "last_price = pd.read_csv('data/last_price.csv')\n",
    "dftr.dates = pd.to_datetime(dftr.dates)"
   ]
  },
  {
   "cell_type": "code",
   "execution_count": 271,
   "metadata": {},
   "outputs": [
    {
     "data": {
      "text/html": [
       "<div>\n",
       "<style scoped>\n",
       "    .dataframe tbody tr th:only-of-type {\n",
       "        vertical-align: middle;\n",
       "    }\n",
       "\n",
       "    .dataframe tbody tr th {\n",
       "        vertical-align: top;\n",
       "    }\n",
       "\n",
       "    .dataframe thead th {\n",
       "        text-align: right;\n",
       "    }\n",
       "</style>\n",
       "<table border=\"1\" class=\"dataframe\">\n",
       "  <thead>\n",
       "    <tr style=\"text-align: right;\">\n",
       "      <th></th>\n",
       "      <th>dates</th>\n",
       "      <th>SKU</th>\n",
       "      <th>price</th>\n",
       "      <th>num_purchases</th>\n",
       "    </tr>\n",
       "  </thead>\n",
       "  <tbody>\n",
       "    <tr>\n",
       "      <th>0</th>\n",
       "      <td>2018-03-07</td>\n",
       "      <td>64998</td>\n",
       "      <td>3476.0</td>\n",
       "      <td>7</td>\n",
       "    </tr>\n",
       "    <tr>\n",
       "      <th>1</th>\n",
       "      <td>2018-03-08</td>\n",
       "      <td>64998</td>\n",
       "      <td>3476.0</td>\n",
       "      <td>5</td>\n",
       "    </tr>\n",
       "  </tbody>\n",
       "</table>\n",
       "</div>"
      ],
      "text/plain": [
       "       dates    SKU   price  num_purchases\n",
       "0 2018-03-07  64998  3476.0              7\n",
       "1 2018-03-08  64998  3476.0              5"
      ]
     },
     "execution_count": 271,
     "metadata": {},
     "output_type": "execute_result"
    }
   ],
   "source": [
    "reload(eu)\n",
    "pivot_t, dfsample_agg = eu.get_sku_pivot(dftr, random_count=25)\n",
    "dfsample_agg.head(2)"
   ]
  },
  {
   "cell_type": "code",
   "execution_count": 274,
   "metadata": {},
   "outputs": [
    {
     "data": {
      "image/png": "[encoded data removed]",
      "text/plain": [
       "<Figure size 864x576 with 1 Axes>"
      ]
     },
     "metadata": {
      "needs_background": "light"
     },
     "output_type": "display_data"
    },
    {
     "data": {
      "image/png": "[encoded data removed]",
      "text/plain": [
       "<Figure size 792x648 with 2 Axes>"
      ]
     },
     "metadata": {
      "needs_background": "light"
     },
     "output_type": "display_data"
    }
   ],
   "source": [
    "reload(eu)\n",
    "eu.sku_corr_plot(pivot_t)"
   ]
  },
  {
   "cell_type": "code",
   "execution_count": 279,
   "metadata": {},
   "outputs": [
    {
     "name": "stdout",
     "output_type": "stream",
     "text": [
      "Shape (14, 3)\n"
     ]
    },
    {
     "data": {
      "text/html": [
       "<div>\n",
       "<style scoped>\n",
       "    .dataframe tbody tr th:only-of-type {\n",
       "        vertical-align: middle;\n",
       "    }\n",
       "\n",
       "    .dataframe tbody tr th {\n",
       "        vertical-align: top;\n",
       "    }\n",
       "\n",
       "    .dataframe thead th {\n",
       "        text-align: right;\n",
       "    }\n",
       "</style>\n",
       "<table border=\"1\" class=\"dataframe\">\n",
       "  <thead>\n",
       "    <tr style=\"text-align: right;\">\n",
       "      <th></th>\n",
       "      <th>SKU_1</th>\n",
       "      <th>SKU_2</th>\n",
       "      <th>correlation</th>\n",
       "    </tr>\n",
       "  </thead>\n",
       "  <tbody>\n",
       "    <tr>\n",
       "      <th>0</th>\n",
       "      <td>15905</td>\n",
       "      <td>47619</td>\n",
       "      <td>0.808525</td>\n",
       "    </tr>\n",
       "    <tr>\n",
       "      <th>1</th>\n",
       "      <td>35522</td>\n",
       "      <td>47619</td>\n",
       "      <td>0.821801</td>\n",
       "    </tr>\n",
       "    <tr>\n",
       "      <th>2</th>\n",
       "      <td>36717</td>\n",
       "      <td>63493</td>\n",
       "      <td>0.861243</td>\n",
       "    </tr>\n",
       "    <tr>\n",
       "      <th>3</th>\n",
       "      <td>36717</td>\n",
       "      <td>72432</td>\n",
       "      <td>0.871252</td>\n",
       "    </tr>\n",
       "    <tr>\n",
       "      <th>4</th>\n",
       "      <td>36717</td>\n",
       "      <td>85535</td>\n",
       "      <td>0.906867</td>\n",
       "    </tr>\n",
       "  </tbody>\n",
       "</table>\n",
       "</div>"
      ],
      "text/plain": [
       "   SKU_1  SKU_2  correlation\n",
       "0  15905  47619     0.808525\n",
       "1  35522  47619     0.821801\n",
       "2  36717  63493     0.861243\n",
       "3  36717  72432     0.871252\n",
       "4  36717  85535     0.906867"
      ]
     },
     "execution_count": 279,
     "metadata": {},
     "output_type": "execute_result"
    }
   ],
   "source": [
    "reload(eu)\n",
    "dd_high_corr_pairs = eu.top_corr_pairs(pivot_t)\n",
    "dd_high_corr_pairs.head(5)"
   ]
  },
  {
   "cell_type": "code",
   "execution_count": 281,
   "metadata": {},
   "outputs": [
    {
     "data": {
      "text/plain": [
       "<AxesSubplot:xlabel='dates'>"
      ]
     },
     "execution_count": 281,
     "metadata": {},
     "output_type": "execute_result"
    },
    {
     "data": {
      "image/png": "[encoded data removed]",
      "text/plain": [
       "<Figure size 864x576 with 1 Axes>"
      ]
     },
     "metadata": {
      "needs_background": "light"
     },
     "output_type": "display_data"
    }
   ],
   "source": [
    "plt.figure(figsize=(12,8))\n",
    "sns.lineplot(data = pivot_t[[36717, 85535]], dashes=False)"
   ]
  },
  {
   "cell_type": "code",
   "execution_count": 285,
   "metadata": {},
   "outputs": [
    {
     "data": {
      "text/plain": [
       "{15905: {47619},\n",
       " 36717: {63493, 72432, 85535},\n",
       " 47619: {64998, 73755},\n",
       " 52317: {91683},\n",
       " 70821: {98103}}"
      ]
     },
     "execution_count": 285,
     "metadata": {},
     "output_type": "execute_result"
    }
   ],
   "source": [
    "reload(eu)\n",
    "chain = eu.group_corr_chain(dd_high_corr_pairs)\n",
    "chain"
   ]
  },
  {
   "cell_type": "markdown",
   "metadata": {},
   "source": [
    "<br></br><br></br>"
   ]
  },
  {
   "cell_type": "markdown",
   "metadata": {
    "tags": []
   },
   "source": [
    "## Анализ среднего изменения маркапа"
   ]
  },
  {
   "cell_type": "code",
   "execution_count": 331,
   "metadata": {},
   "outputs": [
    {
     "data": {
      "text/html": [
       "<div>\n",
       "<style scoped>\n",
       "    .dataframe tbody tr th:only-of-type {\n",
       "        vertical-align: middle;\n",
       "    }\n",
       "\n",
       "    .dataframe tbody tr th {\n",
       "        vertical-align: top;\n",
       "    }\n",
       "\n",
       "    .dataframe thead th {\n",
       "        text-align: right;\n",
       "    }\n",
       "</style>\n",
       "<table border=\"1\" class=\"dataframe\">\n",
       "  <thead>\n",
       "    <tr style=\"text-align: right;\">\n",
       "      <th></th>\n",
       "      <th>SKU</th>\n",
       "      <th>year</th>\n",
       "      <th>month</th>\n",
       "      <th>price</th>\n",
       "      <th>prev_price</th>\n",
       "      <th>perc_diff</th>\n",
       "      <th>trend_coef</th>\n",
       "    </tr>\n",
       "  </thead>\n",
       "  <tbody>\n",
       "    <tr>\n",
       "      <th>0</th>\n",
       "      <td>10060</td>\n",
       "      <td>2019</td>\n",
       "      <td>4</td>\n",
       "      <td>2778.477612</td>\n",
       "      <td>NaN</td>\n",
       "      <td>NaN</td>\n",
       "      <td>NaN</td>\n",
       "    </tr>\n",
       "    <tr>\n",
       "      <th>1</th>\n",
       "      <td>10060</td>\n",
       "      <td>2019</td>\n",
       "      <td>5</td>\n",
       "      <td>2671.672727</td>\n",
       "      <td>2778.477612</td>\n",
       "      <td>1.039977</td>\n",
       "      <td>0.039977</td>\n",
       "    </tr>\n",
       "  </tbody>\n",
       "</table>\n",
       "</div>"
      ],
      "text/plain": [
       "     SKU  year  month        price   prev_price  perc_diff  trend_coef\n",
       "0  10060  2019      4  2778.477612          NaN        NaN         NaN\n",
       "1  10060  2019      5  2671.672727  2778.477612   1.039977    0.039977"
      ]
     },
     "execution_count": 331,
     "metadata": {},
     "output_type": "execute_result"
    }
   ],
   "source": [
    "reload(eu)\n",
    "tr_agg = eu.extend_transactions_cols(dftr)\n",
    "tr_agg.head(2)"
   ]
  },
  {
   "cell_type": "code",
   "execution_count": 300,
   "metadata": {},
   "outputs": [
    {
     "data": {
      "text/plain": [
       "count    10386.000000\n",
       "mean         0.998628\n",
       "std          0.023269\n",
       "min          0.869826\n",
       "25%          0.991930\n",
       "50%          0.998206\n",
       "75%          1.004325\n",
       "max          1.157807\n",
       "Name: perc_diff, dtype: float64"
      ]
     },
     "execution_count": 300,
     "metadata": {},
     "output_type": "execute_result"
    }
   ],
   "source": [
    "# Цена прыгает на +-15%\n",
    "tr_agg.perc_diff.describe()"
   ]
  },
  {
   "cell_type": "code",
   "execution_count": 297,
   "metadata": {},
   "outputs": [
    {
     "data": {
      "text/plain": [
       "SKU\n",
       "10060    0.021845\n",
       "10121    0.010137\n",
       "10216    0.027811\n",
       "10230    0.002659\n",
       "10290    0.006049\n",
       "           ...   \n",
       "99310    0.020035\n",
       "99905    0.004275\n",
       "99965    0.004668\n",
       "99974    0.009326\n",
       "99996    0.023010\n",
       "Name: trend_coef, Length: 1000, dtype: float64"
      ]
     },
     "execution_count": 297,
     "metadata": {},
     "output_type": "execute_result"
    }
   ],
   "source": [
    "tr_agg.groupby('SKU').trend_coef.mean()"
   ]
  },
  {
   "cell_type": "code",
   "execution_count": 323,
   "metadata": {},
   "outputs": [],
   "source": [
    "whole_sales_price = pd.read_csv('data/wholesale_trade_table.csv')\n",
    "sales_plan = pd.read_csv('data/sales_plan.csv')"
   ]
  },
  {
   "cell_type": "code",
   "execution_count": 326,
   "metadata": {},
   "outputs": [
    {
     "data": {
      "text/plain": [
       "'Максимальный бонус за декабрь 2019 = 98160000'"
      ]
     },
     "execution_count": 326,
     "metadata": {},
     "output_type": "execute_result"
    }
   ],
   "source": [
    "total_bonus = sales_plan[(sales_plan.year == 2019) & (sales_plan.month == 12)].back_bonus.sum()\n",
    "f\"Максимальный бонус за декабрь 2019 = {total_bonus}\""
   ]
  },
  {
   "cell_type": "code",
   "execution_count": 327,
   "metadata": {},
   "outputs": [
    {
     "data": {
      "text/html": [
       "<div>\n",
       "<style scoped>\n",
       "    .dataframe tbody tr th:only-of-type {\n",
       "        vertical-align: middle;\n",
       "    }\n",
       "\n",
       "    .dataframe tbody tr th {\n",
       "        vertical-align: top;\n",
       "    }\n",
       "\n",
       "    .dataframe thead th {\n",
       "        text-align: right;\n",
       "    }\n",
       "</style>\n",
       "<table border=\"1\" class=\"dataframe\">\n",
       "  <thead>\n",
       "    <tr style=\"text-align: right;\">\n",
       "      <th></th>\n",
       "      <th>SKU</th>\n",
       "      <th>year</th>\n",
       "      <th>week_num</th>\n",
       "      <th>month</th>\n",
       "      <th>cost_price</th>\n",
       "    </tr>\n",
       "  </thead>\n",
       "  <tbody>\n",
       "    <tr>\n",
       "      <th>0</th>\n",
       "      <td>10060</td>\n",
       "      <td>2019</td>\n",
       "      <td>1</td>\n",
       "      <td>12</td>\n",
       "      <td>2211.0</td>\n",
       "    </tr>\n",
       "    <tr>\n",
       "      <th>41</th>\n",
       "      <td>10060</td>\n",
       "      <td>2019</td>\n",
       "      <td>48</td>\n",
       "      <td>12</td>\n",
       "      <td>2454.0</td>\n",
       "    </tr>\n",
       "  </tbody>\n",
       "</table>\n",
       "</div>"
      ],
      "text/plain": [
       "      SKU  year  week_num  month  cost_price\n",
       "0   10060  2019         1     12      2211.0\n",
       "41  10060  2019        48     12      2454.0"
      ]
     },
     "execution_count": 327,
     "metadata": {},
     "output_type": "execute_result"
    }
   ],
   "source": [
    "whole_sales_fin = whole_sales_price[(whole_sales_price.year == 2019) & (whole_sales_price.month == 12)]\n",
    "whole_sales_fin.head(2)"
   ]
  },
  {
   "cell_type": "code",
   "execution_count": 342,
   "metadata": {},
   "outputs": [
    {
     "data": {
      "text/plain": [
       "{'status': 'ok'}"
      ]
     },
     "execution_count": 342,
     "metadata": {},
     "output_type": "execute_result"
    }
   ],
   "source": [
    "# Restart service\n",
    "response = requests.post(URL_BEGIN_DATA.format(uuid=UUID))\n",
    "response.json()"
   ]
  },
  {
   "cell_type": "code",
   "execution_count": null,
   "metadata": {},
   "outputs": [
    {
     "name": "stderr",
     "output_type": "stream",
     "text": [
      "  0%|                                                            | 0/31 [00:00<?, ?it/s]"
     ]
    },
    {
     "name": "stdout",
     "output_type": "stream",
     "text": [
      "Received data\n",
      "(9739, 8) where 7676 unique users and 826 unique SKU\n",
      "from 2019-12-01 00:00:00 to 2019-12-01 00:00:00\n",
      "POST status: ok\n"
     ]
    },
    {
     "name": "stderr",
     "output_type": "stream",
     "text": [
      "  3%|█▋                                                  | 1/31 [00:13<06:48, 13.63s/it]"
     ]
    },
    {
     "name": "stdout",
     "output_type": "stream",
     "text": [
      "Received data\n",
      "(9740, 8) where 7768 unique users and 826 unique SKU\n",
      "from 2019-12-02 00:00:00 to 2019-12-02 00:00:00\n",
      "POST status: ok\n"
     ]
    },
    {
     "name": "stderr",
     "output_type": "stream",
     "text": [
      "  6%|███▎                                                | 2/31 [00:27<06:37, 13.72s/it]"
     ]
    },
    {
     "name": "stdout",
     "output_type": "stream",
     "text": [
      "Received data\n",
      "(9739, 8) where 7672 unique users and 826 unique SKU\n",
      "from 2019-12-03 00:00:00 to 2019-12-03 00:00:00\n",
      "POST status: ok\n"
     ]
    },
    {
     "name": "stderr",
     "output_type": "stream",
     "text": [
      " 10%|█████                                               | 3/31 [00:41<06:25, 13.75s/it]"
     ]
    },
    {
     "name": "stdout",
     "output_type": "stream",
     "text": [
      "Received data\n",
      "(9735, 8) where 7707 unique users and 826 unique SKU\n",
      "from 2019-12-04 00:00:00 to 2019-12-04 00:00:00\n",
      "POST status: ok\n"
     ]
    },
    {
     "name": "stderr",
     "output_type": "stream",
     "text": [
      " 13%|██████▋                                             | 4/31 [00:56<06:25, 14.27s/it]"
     ]
    },
    {
     "name": "stdout",
     "output_type": "stream",
     "text": [
      "Received data\n",
      "(9740, 8) where 7695 unique users and 826 unique SKU\n",
      "from 2019-12-05 00:00:00 to 2019-12-05 00:00:00\n",
      "POST status: ok\n"
     ]
    },
    {
     "name": "stderr",
     "output_type": "stream",
     "text": [
      " 16%|████████▍                                           | 5/31 [01:15<07:02, 16.24s/it]"
     ]
    },
    {
     "name": "stdout",
     "output_type": "stream",
     "text": [
      "Received data\n",
      "(9737, 8) where 7751 unique users and 826 unique SKU\n",
      "from 2019-12-06 00:00:00 to 2019-12-06 00:00:00\n",
      "POST status: ok\n"
     ]
    },
    {
     "name": "stderr",
     "output_type": "stream",
     "text": [
      " 19%|██████████                                          | 6/31 [01:30<06:32, 15.68s/it]"
     ]
    },
    {
     "name": "stdout",
     "output_type": "stream",
     "text": [
      "Received data\n",
      "(9737, 8) where 7775 unique users and 826 unique SKU\n",
      "from 2019-12-07 00:00:00 to 2019-12-07 00:00:00\n",
      "POST status: ok\n"
     ]
    },
    {
     "name": "stderr",
     "output_type": "stream",
     "text": [
      " 23%|███████████▋                                        | 7/31 [01:44<06:05, 15.22s/it]"
     ]
    },
    {
     "name": "stdout",
     "output_type": "stream",
     "text": [
      "Received data\n",
      "(9718, 8) where 7709 unique users and 824 unique SKU\n",
      "from 2019-12-08 00:00:00 to 2019-12-08 00:00:00\n",
      "POST status: ok\n"
     ]
    },
    {
     "name": "stderr",
     "output_type": "stream",
     "text": [
      " 26%|█████████████▍                                      | 8/31 [02:05<06:26, 16.80s/it]"
     ]
    },
    {
     "name": "stdout",
     "output_type": "stream",
     "text": [
      "Received data\n",
      "(9696, 8) where 7676 unique users and 822 unique SKU\n",
      "from 2019-12-09 00:00:00 to 2019-12-09 00:00:00\n",
      "POST status: ok\n"
     ]
    },
    {
     "name": "stderr",
     "output_type": "stream",
     "text": [
      " 29%|███████████████                                     | 9/31 [02:20<06:02, 16.46s/it]"
     ]
    },
    {
     "name": "stdout",
     "output_type": "stream",
     "text": [
      "Received data\n",
      "(9696, 8) where 7707 unique users and 822 unique SKU\n",
      "from 2019-12-10 00:00:00 to 2019-12-10 00:00:00\n",
      "POST status: ok\n"
     ]
    },
    {
     "name": "stderr",
     "output_type": "stream",
     "text": [
      " 32%|████████████████▍                                  | 10/31 [02:35<05:33, 15.86s/it]"
     ]
    },
    {
     "name": "stdout",
     "output_type": "stream",
     "text": [
      "Received data\n",
      "(9699, 8) where 7719 unique users and 822 unique SKU\n",
      "from 2019-12-11 00:00:00 to 2019-12-11 00:00:00\n",
      "POST status: ok\n"
     ]
    },
    {
     "name": "stderr",
     "output_type": "stream",
     "text": [
      " 35%|██████████████████                                 | 11/31 [02:49<05:07, 15.38s/it]"
     ]
    },
    {
     "name": "stdout",
     "output_type": "stream",
     "text": [
      "Received data\n",
      "(9685, 8) where 7632 unique users and 820 unique SKU\n",
      "from 2019-12-12 00:00:00 to 2019-12-12 00:00:00\n",
      "POST status: ok\n"
     ]
    },
    {
     "name": "stderr",
     "output_type": "stream",
     "text": [
      " 39%|███████████████████▋                               | 12/31 [03:03<04:45, 15.00s/it]"
     ]
    },
    {
     "name": "stdout",
     "output_type": "stream",
     "text": [
      "Received data\n",
      "(9669, 8) where 7669 unique users and 819 unique SKU\n",
      "from 2019-12-13 00:00:00 to 2019-12-13 00:00:00\n",
      "POST status: ok\n"
     ]
    },
    {
     "name": "stderr",
     "output_type": "stream",
     "text": [
      " 42%|█████████████████████▍                             | 13/31 [03:24<05:03, 16.88s/it]"
     ]
    },
    {
     "name": "stdout",
     "output_type": "stream",
     "text": [
      "Received data\n",
      "(9674, 8) where 7648 unique users and 819 unique SKU\n",
      "from 2019-12-14 00:00:00 to 2019-12-14 00:00:00\n",
      "POST status: ok\n"
     ]
    },
    {
     "name": "stderr",
     "output_type": "stream",
     "text": [
      " 45%|███████████████████████                            | 14/31 [03:39<04:36, 16.26s/it]"
     ]
    },
    {
     "name": "stdout",
     "output_type": "stream",
     "text": [
      "Received data\n",
      "(9673, 8) where 7664 unique users and 819 unique SKU\n",
      "from 2019-12-15 00:00:00 to 2019-12-15 00:00:00\n",
      "POST status: ok\n"
     ]
    },
    {
     "name": "stderr",
     "output_type": "stream",
     "text": [
      " 48%|████████████████████████▋                          | 15/31 [03:53<04:09, 15.60s/it]"
     ]
    },
    {
     "name": "stdout",
     "output_type": "stream",
     "text": [
      "Received data\n",
      "(9658, 8) where 7570 unique users and 818 unique SKU\n",
      "from 2019-12-16 00:00:00 to 2019-12-16 00:00:00\n",
      "POST status: ok\n"
     ]
    },
    {
     "name": "stderr",
     "output_type": "stream",
     "text": [
      " 52%|██████████████████████████▎                        | 16/31 [04:10<03:59, 15.96s/it]"
     ]
    },
    {
     "name": "stdout",
     "output_type": "stream",
     "text": [
      "Received data\n",
      "(9657, 8) where 7621 unique users and 818 unique SKU\n",
      "from 2019-12-17 00:00:00 to 2019-12-17 00:00:00\n",
      "POST status: ok\n"
     ]
    },
    {
     "name": "stderr",
     "output_type": "stream",
     "text": [
      " 55%|███████████████████████████▉                       | 17/31 [04:25<03:37, 15.52s/it]"
     ]
    },
    {
     "name": "stdout",
     "output_type": "stream",
     "text": [
      "Received data\n",
      "(9658, 8) where 7671 unique users and 818 unique SKU\n",
      "from 2019-12-18 00:00:00 to 2019-12-18 00:00:00\n",
      "POST status: ok\n"
     ]
    },
    {
     "name": "stderr",
     "output_type": "stream",
     "text": [
      " 58%|█████████████████████████████▌                     | 18/31 [04:39<03:17, 15.17s/it]"
     ]
    },
    {
     "name": "stdout",
     "output_type": "stream",
     "text": [
      "Received data\n",
      "(9659, 8) where 7590 unique users and 818 unique SKU\n",
      "from 2019-12-19 00:00:00 to 2019-12-19 00:00:00\n",
      "POST status: ok\n"
     ]
    },
    {
     "name": "stderr",
     "output_type": "stream",
     "text": [
      " 61%|███████████████████████████████▎                   | 19/31 [04:53<02:57, 14.76s/it]"
     ]
    },
    {
     "name": "stdout",
     "output_type": "stream",
     "text": [
      "Received data\n",
      "(9636, 8) where 7693 unique users and 816 unique SKU\n",
      "from 2019-12-20 00:00:00 to 2019-12-20 00:00:00\n",
      "POST status: ok\n"
     ]
    },
    {
     "name": "stderr",
     "output_type": "stream",
     "text": [
      " 65%|████████████████████████████████▉                  | 20/31 [05:16<03:09, 17.21s/it]"
     ]
    },
    {
     "name": "stdout",
     "output_type": "stream",
     "text": [
      "Received data\n",
      "(9633, 8) where 7587 unique users and 816 unique SKU\n",
      "from 2019-12-21 00:00:00 to 2019-12-21 00:00:00\n",
      "POST status: ok\n"
     ]
    },
    {
     "name": "stderr",
     "output_type": "stream",
     "text": [
      " 68%|██████████████████████████████████▌                | 21/31 [05:34<02:56, 17.66s/it]"
     ]
    },
    {
     "name": "stdout",
     "output_type": "stream",
     "text": [
      "Received data\n",
      "(9617, 8) where 7682 unique users and 814 unique SKU\n",
      "from 2019-12-22 00:00:00 to 2019-12-22 00:00:00\n",
      "POST status: ok\n"
     ]
    },
    {
     "name": "stderr",
     "output_type": "stream",
     "text": [
      " 71%|████████████████████████████████████▏              | 22/31 [05:49<02:30, 16.74s/it]"
     ]
    },
    {
     "name": "stdout",
     "output_type": "stream",
     "text": [
      "Received data\n",
      "(9617, 8) where 7668 unique users and 814 unique SKU\n",
      "from 2019-12-23 00:00:00 to 2019-12-23 00:00:00\n",
      "POST status: ok\n"
     ]
    },
    {
     "name": "stderr",
     "output_type": "stream",
     "text": [
      " 74%|█████████████████████████████████████▊             | 23/31 [06:03<02:06, 15.87s/it]"
     ]
    },
    {
     "name": "stdout",
     "output_type": "stream",
     "text": [
      "Received data\n",
      "(9616, 8) where 7622 unique users and 814 unique SKU\n",
      "from 2019-12-24 00:00:00 to 2019-12-24 00:00:00\n",
      "POST status: ok\n"
     ]
    },
    {
     "name": "stderr",
     "output_type": "stream",
     "text": [
      " 77%|███████████████████████████████████████▍           | 24/31 [06:23<02:01, 17.31s/it]"
     ]
    },
    {
     "name": "stdout",
     "output_type": "stream",
     "text": [
      "Received data\n",
      "(9614, 8) where 7602 unique users and 814 unique SKU\n",
      "from 2019-12-25 00:00:00 to 2019-12-25 00:00:00\n",
      "POST status: ok\n"
     ]
    },
    {
     "name": "stderr",
     "output_type": "stream",
     "text": [
      " 81%|█████████████████████████████████████████▏         | 25/31 [06:39<01:39, 16.63s/it]"
     ]
    },
    {
     "name": "stdout",
     "output_type": "stream",
     "text": [
      "Received data\n",
      "(9616, 8) where 7601 unique users and 814 unique SKU\n",
      "from 2019-12-26 00:00:00 to 2019-12-26 00:00:00\n",
      "POST status: ok\n"
     ]
    },
    {
     "name": "stderr",
     "output_type": "stream",
     "text": [
      " 84%|██████████████████████████████████████████▊        | 26/31 [06:53<01:20, 16.08s/it]"
     ]
    },
    {
     "name": "stdout",
     "output_type": "stream",
     "text": [
      "Received data\n",
      "(9607, 8) where 7618 unique users and 813 unique SKU\n",
      "from 2019-12-27 00:00:00 to 2019-12-27 00:00:00\n",
      "POST status: ok\n"
     ]
    },
    {
     "name": "stderr",
     "output_type": "stream",
     "text": [
      " 87%|████████████████████████████████████████████▍      | 27/31 [07:09<01:03, 15.84s/it]"
     ]
    },
    {
     "name": "stdout",
     "output_type": "stream",
     "text": [
      "Received data\n",
      "(9602, 8) where 7662 unique users and 813 unique SKU\n",
      "from 2019-12-28 00:00:00 to 2019-12-28 00:00:00\n",
      "POST status: ok\n"
     ]
    },
    {
     "name": "stderr",
     "output_type": "stream",
     "text": [
      " 90%|██████████████████████████████████████████████     | 28/31 [07:29<00:51, 17.32s/it]"
     ]
    },
    {
     "name": "stdout",
     "output_type": "stream",
     "text": [
      "Received data\n",
      "(9593, 8) where 7626 unique users and 812 unique SKU\n",
      "from 2019-12-29 00:00:00 to 2019-12-29 00:00:00\n"
     ]
    }
   ],
   "source": [
    "%%time\n",
    "reload(eu)\n",
    "\n",
    "n_days=31\n",
    "try:\n",
    "    for _ in tqdm(range(n_days), total = n_days):\n",
    "        # Get data\n",
    "        response_send = requests.get(URL_TASK_DATA_GET.format(uuid=UUID))\n",
    "        if type(response_send.json()) == dict:\n",
    "            status = response_send.json().get('status')\n",
    "            print('GET status:', status)\n",
    "            if 'finished' in status:\n",
    "                break #batch processing finished\n",
    "        else:\n",
    "            print(\"Received data\")\n",
    "        # Post data\n",
    "        df = pd.read_json(response_send.json())\n",
    "        df = eu.extend_date(df)\n",
    "        report_user_sku(df)\n",
    "        df = df.merge(whole_sales_fin, how='left', on=['SKU', 'year', 'week_num', 'month'])\n",
    "        \n",
    "        df['price'] = df.cost_price * 1.14\n",
    "        df.dates = df.dates.dt.strftime('%Y-%m-%d')\n",
    "        response_receive = requests.post(URL_TASK_RESULT_POST.format(uuid=UUID),\n",
    "                                         data=df[['dates', 'SKU', 'user_id', 'price']].to_json(orient='records'))\n",
    "        print('POST status:', response_receive.json().get('status'))\n",
    "        time.sleep(1)\n",
    "except Exception as e:\n",
    "    print('Error:', e)\n",
    "    response_lms = requests.get(URL_LMS_TASK_RESULT_GET.format(uuid=UUID))\n",
    "    print(\"LMS:\", response_lms.json())"
   ]
  },
  {
   "cell_type": "markdown",
   "metadata": {},
   "source": [
    "<br></br><br></br>"
   ]
  },
  {
   "cell_type": "markdown",
   "metadata": {},
   "source": [
    "## Подход моделирования на основе трендов, груп  сезонности и индикаторов эластичности по SKU"
   ]
  },
  {
   "cell_type": "code",
   "execution_count": null,
   "metadata": {},
   "outputs": [],
   "source": [
    "transactions_aggr = pd.read_csv('transactions_aggr_new.csv')\n",
    "transactions_aggr.dates = pd.to_datetime(transactions_aggr.dates)"
   ]
  },
  {
   "cell_type": "code",
   "execution_count": null,
   "metadata": {},
   "outputs": [],
   "source": [
    "transactions_aggr['week_day'] = transactions_aggr.dates.dt.weekday\n",
    "transactions_aggr['week_num'] = transactions_aggr.dates.dt.weekday\n",
    "transactions_aggr['year'] = transactions_aggr.dates.dt.year\n",
    "transactions_aggr['month'] = transactions_aggr.dates.dt.month\n",
    "transactions_aggr['dates_int'] = transactions_aggr.dates.astype(int)\n",
    "transactions_aggr"
   ]
  },
  {
   "cell_type": "code",
   "execution_count": null,
   "metadata": {},
   "outputs": [],
   "source": [
    "dummies = pd.get_dummies(df['SKU'])\n",
    "df = pd.concat([df, pd.get_dummies(df.SKU)], axis=1)"
   ]
  },
  {
   "cell_type": "code",
   "execution_count": null,
   "metadata": {},
   "outputs": [],
   "source": [
    "model_dict = {}\n",
    "dummy_sku_dicts = {}\n",
    "cols = ['dates_int', 'SKU', 'week_num', 'year', 'elastic', 'week_day', 'month','price']\n",
    "for season in transactions_aggr.season.unique():\n",
    "    df = transactions_aggr[transactions_aggr.season==season][cols]\n",
    "    dummies = pd.get_dummies(df['SKU'])\n",
    "    df = pd.concat([df, pd.get_dummies(df.SKU)], axis=1)\n",
    "    sku_list = [c for c in df.columns if c not in cols]\n",
    "    dummy_sku_dicts[season] = sku_list\n",
    "    xgb_train = xgb.DMatrix(df.drop(['SKU','price'], axis=1)\n",
    "                        , df['price']\n",
    "                        , feature_names = [str(i) for i in df.drop(['SKU','price'], axis=1).columns])\n",
    "    model = xgb.train(params = xgb_params\n",
    "                  , dtrain = xgb_train\n",
    "                  , num_boost_round = 1000)\n",
    "    model_dict[season] = model"
   ]
  },
  {
   "cell_type": "code",
   "execution_count": null,
   "metadata": {},
   "outputs": [],
   "source": [
    "model_dict"
   ]
  },
  {
   "cell_type": "code",
   "execution_count": null,
   "metadata": {},
   "outputs": [],
   "source": [
    "model_dict[0].feature_names"
   ]
  },
  {
   "cell_type": "markdown",
   "metadata": {},
   "source": [
    "<br></br><br></br><br></br><br></br>"
   ]
  },
  {
   "cell_type": "code",
   "execution_count": 316,
   "metadata": {},
   "outputs": [
    {
     "data": {
      "text/plain": [
       "<AxesSubplot:>"
      ]
     },
     "execution_count": 316,
     "metadata": {},
     "output_type": "execute_result"
    },
    {
     "data": {
      "image/png": "[encoded data removed]",
      "text/plain": [
       "<Figure size 432x288 with 1 Axes>"
      ]
     },
     "metadata": {
      "needs_background": "light"
     },
     "output_type": "display_data"
    }
   ],
   "source": [
    "dftr.user_id.value_counts().hist(bins=30)"
   ]
  },
  {
   "cell_type": "code",
   "execution_count": 304,
   "metadata": {},
   "outputs": [],
   "source": [
    "user_aggr = dftr.groupby('user_id').price.count().reset_index().rename(columns={'price':'num_purchases'})"
   ]
  },
  {
   "cell_type": "code",
   "execution_count": 305,
   "metadata": {},
   "outputs": [],
   "source": [
    "user_aggr['freq_group'] = 0\n",
    "user_aggr.loc[user_aggr.num_purchases >80, 'freq_group'] = 1\n",
    "user_aggr.loc[user_aggr.num_purchases >200, 'freq_group'] = 2"
   ]
  },
  {
   "cell_type": "code",
   "execution_count": 306,
   "metadata": {},
   "outputs": [
    {
     "data": {
      "text/html": [
       "<div>\n",
       "<style scoped>\n",
       "    .dataframe tbody tr th:only-of-type {\n",
       "        vertical-align: middle;\n",
       "    }\n",
       "\n",
       "    .dataframe tbody tr th {\n",
       "        vertical-align: top;\n",
       "    }\n",
       "\n",
       "    .dataframe thead th {\n",
       "        text-align: right;\n",
       "    }\n",
       "</style>\n",
       "<table border=\"1\" class=\"dataframe\">\n",
       "  <thead>\n",
       "    <tr style=\"text-align: right;\">\n",
       "      <th></th>\n",
       "      <th>user_id</th>\n",
       "      <th>num_purchases</th>\n",
       "      <th>freq_group</th>\n",
       "    </tr>\n",
       "  </thead>\n",
       "  <tbody>\n",
       "    <tr>\n",
       "      <th>0</th>\n",
       "      <td>10002</td>\n",
       "      <td>41</td>\n",
       "      <td>0</td>\n",
       "    </tr>\n",
       "    <tr>\n",
       "      <th>1</th>\n",
       "      <td>10003</td>\n",
       "      <td>449</td>\n",
       "      <td>2</td>\n",
       "    </tr>\n",
       "    <tr>\n",
       "      <th>2</th>\n",
       "      <td>10006</td>\n",
       "      <td>37</td>\n",
       "      <td>0</td>\n",
       "    </tr>\n",
       "    <tr>\n",
       "      <th>3</th>\n",
       "      <td>10008</td>\n",
       "      <td>45</td>\n",
       "      <td>0</td>\n",
       "    </tr>\n",
       "    <tr>\n",
       "      <th>4</th>\n",
       "      <td>10009</td>\n",
       "      <td>132</td>\n",
       "      <td>1</td>\n",
       "    </tr>\n",
       "    <tr>\n",
       "      <th>...</th>\n",
       "      <td>...</td>\n",
       "      <td>...</td>\n",
       "      <td>...</td>\n",
       "    </tr>\n",
       "    <tr>\n",
       "      <th>11057</th>\n",
       "      <td>49992</td>\n",
       "      <td>39</td>\n",
       "      <td>0</td>\n",
       "    </tr>\n",
       "    <tr>\n",
       "      <th>11058</th>\n",
       "      <td>49993</td>\n",
       "      <td>128</td>\n",
       "      <td>1</td>\n",
       "    </tr>\n",
       "    <tr>\n",
       "      <th>11059</th>\n",
       "      <td>49994</td>\n",
       "      <td>38</td>\n",
       "      <td>0</td>\n",
       "    </tr>\n",
       "    <tr>\n",
       "      <th>11060</th>\n",
       "      <td>49995</td>\n",
       "      <td>43</td>\n",
       "      <td>0</td>\n",
       "    </tr>\n",
       "    <tr>\n",
       "      <th>11061</th>\n",
       "      <td>49999</td>\n",
       "      <td>116</td>\n",
       "      <td>1</td>\n",
       "    </tr>\n",
       "  </tbody>\n",
       "</table>\n",
       "<p>11062 rows × 3 columns</p>\n",
       "</div>"
      ],
      "text/plain": [
       "       user_id  num_purchases  freq_group\n",
       "0        10002             41           0\n",
       "1        10003            449           2\n",
       "2        10006             37           0\n",
       "3        10008             45           0\n",
       "4        10009            132           1\n",
       "...        ...            ...         ...\n",
       "11057    49992             39           0\n",
       "11058    49993            128           1\n",
       "11059    49994             38           0\n",
       "11060    49995             43           0\n",
       "11061    49999            116           1\n",
       "\n",
       "[11062 rows x 3 columns]"
      ]
     },
     "execution_count": 306,
     "metadata": {},
     "output_type": "execute_result"
    }
   ],
   "source": [
    "user_aggr"
   ]
  },
  {
   "cell_type": "markdown",
   "metadata": {},
   "source": [
    "<br></br><br></br><br></br><br></br>"
   ]
  },
  {
   "cell_type": "code",
   "execution_count": null,
   "metadata": {},
   "outputs": [],
   "source": [
    "reload(eu)\n",
    "df = eu.extend_date(df)\n",
    "df.types"
   ]
  },
  {
   "cell_type": "code",
   "execution_count": null,
   "metadata": {},
   "outputs": [],
   "source": [
    "season_elastic_mapping = transactions_aggr.groupby(['SKU'])['season','elastic'].max().reset_index()"
   ]
  },
  {
   "cell_type": "code",
   "execution_count": null,
   "metadata": {},
   "outputs": [],
   "source": [
    "season_elastic_mapping"
   ]
  },
  {
   "cell_type": "code",
   "execution_count": null,
   "metadata": {},
   "outputs": [],
   "source": [
    "df = df.merge(season_elastic_mapping, how='left', on='SKU')"
   ]
  },
  {
   "cell_type": "code",
   "execution_count": null,
   "metadata": {},
   "outputs": [],
   "source": [
    "df.columns"
   ]
  },
  {
   "cell_type": "code",
   "execution_count": null,
   "metadata": {},
   "outputs": [],
   "source": [
    "df_w_price =pd.DataFrame() \n",
    "for season in df.season.unique():\n",
    "    print(season)\n",
    "    model = model_dict[season]\n",
    "    right_order = model.feature_names\n",
    "    pre_xgb = df[df.season == season]\\\n",
    "    [['SKU', 'user_id', 'week_day', 'week_num', 'year','month', 'dates_int', 'elastic']]\n",
    "    dummies = pd.get_dummies(pre_xgb['SKU'])\n",
    "    pre_xgb = pd.concat([pre_xgb, pd.get_dummies(pre_xgb.SKU)], axis=1)\n",
    "    # fill dummies\n",
    "    for dummy_col in dummy_sku_dicts[season]:\n",
    "        if dummy_col not in pre_xgb.columns:\n",
    "            pre_xgb[dummy_col] = 0\n",
    "            \n",
    "    pre_xgb.columns = [str(i) for i in pre_xgb.columns]\n",
    "\n",
    "    \n",
    "    xgb_test = xgb.DMatrix(pre_xgb.drop(['SKU','user_id'], axis=1)[right_order]\n",
    "                        , feature_names = pre_xgb.drop(['SKU','user_id'], axis=1)[right_order].columns)\n",
    "    pre_xgb['price'] = model.predict(xgb_test)\n",
    "    df_w_price = pd.concat([df_w_price, pre_xgb[['SKU','dates_int', 'price','user_id']]])"
   ]
  },
  {
   "cell_type": "code",
   "execution_count": null,
   "metadata": {},
   "outputs": [],
   "source": [
    "df_w_price"
   ]
  },
  {
   "cell_type": "code",
   "execution_count": null,
   "metadata": {},
   "outputs": [],
   "source": [
    "df = df.merge(df_w_price, how='left', on=['SKU','user_id', 'dates_int'])"
   ]
  },
  {
   "cell_type": "code",
   "execution_count": null,
   "metadata": {},
   "outputs": [],
   "source": [
    "df.dates = df.dates.dt.strftime('%Y-%m-%d')\n",
    "df[['dates', 'SKU', 'user_id', 'price']]"
   ]
  },
  {
   "cell_type": "code",
   "execution_count": null,
   "metadata": {},
   "outputs": [],
   "source": [
    "df['price'] = df['price'] * 0.9"
   ]
  },
  {
   "cell_type": "code",
   "execution_count": null,
   "metadata": {},
   "outputs": [],
   "source": [
    "response = requests.post(URL_TASK_RESULT_POST.format(uuid=UUID),\n",
    "                                 data=df[['dates', 'SKU', 'user_id', 'price']].to_json(orient='records'))"
   ]
  },
  {
   "cell_type": "code",
   "execution_count": null,
   "metadata": {},
   "outputs": [],
   "source": [
    "response.json()"
   ]
  },
  {
   "cell_type": "code",
   "execution_count": null,
   "metadata": {},
   "outputs": [],
   "source": [
    "response = requests.get(URL_LMS_TASK_RESULT_GET.format(uuid=UUID))"
   ]
  },
  {
   "cell_type": "code",
   "execution_count": null,
   "metadata": {},
   "outputs": [],
   "source": [
    "response.json()"
   ]
  },
  {
   "cell_type": "code",
   "execution_count": null,
   "metadata": {},
   "outputs": [],
   "source": [
    "5418051 "
   ]
  },
  {
   "cell_type": "code",
   "execution_count": null,
   "metadata": {},
   "outputs": [],
   "source": [
    "11456008 - 5418051 "
   ]
  },
  {
   "cell_type": "code",
   "execution_count": null,
   "metadata": {},
   "outputs": [],
   "source": [
    "18770384 - 11456008"
   ]
  },
  {
   "cell_type": "markdown",
   "metadata": {},
   "source": [
    "<br></br><br></br><br></br><br></br>"
   ]
  },
  {
   "cell_type": "code",
   "execution_count": null,
   "metadata": {},
   "outputs": [],
   "source": [
    "response = requests.get(URL_TASK_DATA_GET.format(uuid=UUID))\n",
    "df = pd.read_json(response.json())\n",
    "df.dates = pd.to_datetime(df.dates)\n",
    "df['week_day'] = df.dates.dt.weekday\n",
    "df['week_num'] = df.dates.dt.week\n",
    "df['year'] = df.dates.dt.year\n",
    "df['month'] = df.dates.dt.month\n",
    "df['dates_int'] = df.dates.astype(int)\n",
    "season_elastic_mapping = transactions_aggr.groupby(['SKU'])['season','elastic'].max().reset_index()\n",
    "df = df.merge(season_elastic_mapping, how='left', on='SKU')\n",
    "\n",
    "df_latest = pd.read_json(response.json())\n",
    "df_latest = df_latest.merge(last_price, how='left', on='SKU')\n",
    "df_latest['price'] = df_latest['price'] * 0.83\n",
    "\n",
    "\n",
    "df_w_price =pd.DataFrame() \n",
    "\n",
    "for season in df.season.unique():\n",
    "    print(season)\n",
    "    model = model_dict[season]\n",
    "    right_order = model.feature_names\n",
    "    pre_xgb = df[df.season == season]\\\n",
    "    [['SKU', 'user_id', 'week_day', 'week_num', 'year','month', 'dates_int', 'elastic']]\n",
    "    dummies = pd.get_dummies(pre_xgb['SKU'])\n",
    "    pre_xgb = pd.concat([pre_xgb, pd.get_dummies(pre_xgb.SKU)], axis=1)\n",
    "    # fill dummies\n",
    "    for dummy_col in dummy_sku_dicts[season]:\n",
    "        if dummy_col not in pre_xgb.columns:\n",
    "            pre_xgb[dummy_col] = 0\n",
    "            \n",
    "    pre_xgb.columns = [str(i) for i in pre_xgb.columns]\n",
    "\n",
    "    \n",
    "    xgb_test = xgb.DMatrix(pre_xgb.drop(['SKU','user_id'], axis=1)[right_order]\n",
    "                        , feature_names = pre_xgb.drop(['SKU','user_id'], axis=1)[right_order].columns)\n",
    "    pre_xgb['price'] = model.predict(xgb_test)\n",
    "    df_w_price = pd.concat([df_w_price, pre_xgb[['SKU','dates_int', 'price','user_id']]])\n",
    "df = df.merge(df_w_price, how='left', on=['SKU','user_id', 'dates_int'])\n",
    "df.dates = df.dates.dt.strftime('%Y-%m-%d')\n",
    "xgb_df = df[['dates', 'SKU', 'user_id', 'price']]\n",
    "\n",
    "\n"
   ]
  },
  {
   "cell_type": "code",
   "execution_count": null,
   "metadata": {},
   "outputs": [],
   "source": [
    "df_mean = xgb_df.merge(df_latest, how='left', on=['SKU', 'dates', 'user_id'])\n",
    "df_mean['price'] = (df_mean.price_x + df_mean.price_y)/2"
   ]
  },
  {
   "cell_type": "code",
   "execution_count": null,
   "metadata": {},
   "outputs": [],
   "source": [
    "df_mean"
   ]
  },
  {
   "cell_type": "code",
   "execution_count": null,
   "metadata": {},
   "outputs": [],
   "source": [
    "df_mean['pred_price'] = df_mean.apply(lambda x: np.random.choice([x.price_x, x.price_y, x.price]), axis=1)"
   ]
  },
  {
   "cell_type": "code",
   "execution_count": null,
   "metadata": {},
   "outputs": [],
   "source": [
    "\n",
    "response = requests.post(URL_TASK_RESULT_POST.format(uuid=UUID),\n",
    "                                 data=df_mean[['SKU', 'dates', 'user_id', 'pred_price']].rename(columns={'pred_price': 'price'}).to_json(orient='records'))"
   ]
  },
  {
   "cell_type": "code",
   "execution_count": null,
   "metadata": {},
   "outputs": [],
   "source": [
    "response.json()"
   ]
  },
  {
   "cell_type": "code",
   "execution_count": null,
   "metadata": {},
   "outputs": [],
   "source": [
    "response = requests.get(URL_TASK_RESULT_GET.format(uuid=UUID))\n",
    "df_b = pd.read_json(response.json())"
   ]
  },
  {
   "cell_type": "code",
   "execution_count": null,
   "metadata": {},
   "outputs": [],
   "source": [
    "df_b"
   ]
  },
  {
   "cell_type": "markdown",
   "metadata": {},
   "source": [
    "<br></br><br></br><br></br><br></br>"
   ]
  },
  {
   "cell_type": "code",
   "execution_count": null,
   "metadata": {},
   "outputs": [],
   "source": [
    "transactions_aggr_new = pd.read_csv('transactions_aggr.csv')"
   ]
  },
  {
   "cell_type": "code",
   "execution_count": null,
   "metadata": {},
   "outputs": [],
   "source": [
    "transactions_aggr_new"
   ]
  },
  {
   "cell_type": "markdown",
   "metadata": {},
   "source": [
    "<br></br><br></br><br></br><br></br>"
   ]
  },
  {
   "cell_type": "code",
   "execution_count": null,
   "metadata": {},
   "outputs": [],
   "source": [
    "\"a.kim-1\";\"30608308\"\n",
    "\"a.latskov-1\";\"34320751\"\n",
    "\"a.oprish-1\";\"33503361\"\n",
    "\"a.ovsjannikova\";\"30861018\"\n",
    "\"a.sadykovich-1\";\"30221414\"\n",
    "\"a.serkov-1\";\"34806396\"\n",
    "\"a.shishkin-1\";\"34690717\"\n",
    "\"a.tolmach-1\";\"32887320\"\n",
    "\"b.ustjugov-1\";\"33104446\"\n",
    "\"d.zankov-1\";\"31189162\"\n",
    "\"e.kozhevnikov-1\";\"33656545\"\n",
    "\"i.koretskij-1\";\"32336324\"\n",
    "\"i.leuhin-1\";\"33846395\"\n",
    "\"i.moiseev-1\";\"28679809\"\n",
    "\"k.dokuchaev-1\";\"28441807\"\n",
    "\"k.porshnev-1\";\"30172939\"\n",
    "\"k.zatylkina-1\";\"31228483\"\n",
    "\"m.meleshkin-1\";\"32481889\"\n",
    "\"m.samsonov-1\";\"33619290\"\n",
    "\"p.pogozhij-1\";\"32078051\"\n",
    "\"stasgafarov\";\"32078051\"\n",
    "\"t.kutuzova-1\";\"31922397\"\n",
    "\"v.popov-1\";\"29967473\""
   ]
  }
 ],
 "metadata": {
  "kernelspec": {
   "display_name": "Python 3 (ipykernel)",
   "language": "python",
   "name": "python3"
  },
  "language_info": {
   "codemirror_mode": {
    "name": "ipython",
    "version": 3
   },
   "file_extension": ".py",
   "mimetype": "text/x-python",
   "name": "python",
   "nbconvert_exporter": "python",
   "pygments_lexer": "ipython3",
   "version": "3.8.12"
  }
 },
 "nbformat": 4,
 "nbformat_minor": 4
}
