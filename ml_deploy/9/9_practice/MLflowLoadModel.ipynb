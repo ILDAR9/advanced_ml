{
 "cells": [
  {
   "cell_type": "code",
   "execution_count": 1,
   "id": "6fb9894a",
   "metadata": {},
   "outputs": [],
   "source": [
    "import os\n",
    "import datetime\n",
    "import requests\n",
    "\n",
    "import pandas as pd\n",
    "import numpy as np\n",
    "\n",
    "import sklearn\n",
    "\n",
    "import mlflow\n",
    "import mlflow.sklearn\n",
    "from sklearn.ensemble import RandomForestRegressor\n",
    "from sklearn.metrics import mean_squared_error\n",
    "from sklearn.model_selection import train_test_split\n",
    "from sklearn import datasets\n",
    "\n",
    "from wrapper import SklearnModelWrapper"
   ]
  },
  {
   "cell_type": "code",
   "execution_count": 2,
   "id": "a628852d",
   "metadata": {},
   "outputs": [],
   "source": [
    "# !pip install mlflow minio scikit-learn pandas numpy boto3"
   ]
  },
  {
   "cell_type": "markdown",
   "id": "930586d6",
   "metadata": {},
   "source": [
    "## Запустим MLFlow клиент"
   ]
  },
  {
   "cell_type": "code",
   "execution_count": 3,
   "id": "ed85e46e",
   "metadata": {},
   "outputs": [],
   "source": [
    "tracking_uri = \"http://95.216.168.89:5000\"\n",
    "os.environ[\"MLFLOW_S3_ENDPOINT_URL\"] = \"http://95.216.168.89:19001\"\n",
    "os.environ[\"MLFLOW_TRACKING_URI\"] = tracking_uri\n",
    "os.environ[\"AWS_ACCESS_KEY_ID\"] = \"IAM_ACCESS_KEY\"\n",
    "os.environ[\"AWS_SECRET_ACCESS_KEY\"] = \"IAM_SECRET_KEY\"\n",
    "\n",
    "mlflow.set_tracking_uri(tracking_uri)\n",
    "client = mlflow.tracking.MlflowClient()"
   ]
  },
  {
   "cell_type": "code",
   "execution_count": 4,
   "id": "00990360",
   "metadata": {},
   "outputs": [],
   "source": [
    "MODEL_PATH = \"models:/iris_sklearn/production\"\n",
    "# MODEL_PATH = \"models:/iris_sklearn/staging\"\n",
    "model = mlflow.sklearn.load_model(MODEL_PATH)\n",
    "\n",
    "# MODEL_PATH = \"models:/iris_pyfunc/production\"\n",
    "# model = mlflow.pyfunc.load_model(MODEL_PATH)"
   ]
  },
  {
   "cell_type": "code",
   "execution_count": 6,
   "id": "c5ab1b7b",
   "metadata": {},
   "outputs": [
    {
     "data": {
      "text/plain": [
       "array([0.52])"
      ]
     },
     "execution_count": 6,
     "metadata": {},
     "output_type": "execute_result"
    }
   ],
   "source": [
    "x_array = np.array([[1,1]])\n",
    "# x_array = [1,1]\n",
    "model.predict(x_array)"
   ]
  },
  {
   "cell_type": "code",
   "execution_count": null,
   "id": "57b54813",
   "metadata": {},
   "outputs": [],
   "source": []
  }
 ],
 "metadata": {
  "kernelspec": {
   "display_name": "Python 3 (ipykernel)",
   "language": "python",
   "name": "python3"
  },
  "language_info": {
   "codemirror_mode": {
    "name": "ipython",
    "version": 3
   },
   "file_extension": ".py",
   "mimetype": "text/x-python",
   "name": "python",
   "nbconvert_exporter": "python",
   "pygments_lexer": "ipython3",
   "version": "3.8.10"
  }
 },
 "nbformat": 4,
 "nbformat_minor": 5
}
