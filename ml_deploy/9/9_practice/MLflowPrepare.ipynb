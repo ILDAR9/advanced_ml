{
 "cells": [
  {
   "cell_type": "code",
   "execution_count": null,
   "id": "6fb9894a",
   "metadata": {},
   "outputs": [],
   "source": [
    "import os\n",
    "import datetime\n",
    "import requests\n",
    "\n",
    "import pandas as pd\n",
    "import numpy as np\n",
    "\n",
    "import sklearn\n",
    "\n",
    "import mlflow\n",
    "import mlflow.sklearn\n",
    "from sklearn.ensemble import RandomForestRegressor\n",
    "from sklearn.metrics import mean_squared_error\n",
    "from sklearn.model_selection import train_test_split\n",
    "from sklearn import datasets\n",
    "\n",
    "from wrapper import SklearnModelWrapper"
   ]
  },
  {
   "cell_type": "code",
   "execution_count": null,
   "id": "a628852d",
   "metadata": {},
   "outputs": [],
   "source": [
    "# !pip install mlflow minio scikit-learn pandas numpy boto3"
   ]
  },
  {
   "cell_type": "markdown",
   "id": "930586d6",
   "metadata": {},
   "source": [
    "## Запустим MLFlow клиент"
   ]
  },
  {
   "cell_type": "code",
   "execution_count": null,
   "id": "ed85e46e",
   "metadata": {},
   "outputs": [],
   "source": [
    "tracking_uri = \"http://95.216.168.89:5000\"\n",
    "os.environ[\"MLFLOW_S3_ENDPOINT_URL\"] = \"http://95.216.168.89:19001\"\n",
    "os.environ[\"MLFLOW_TRACKING_URI\"] = tracking_uri\n",
    "os.environ[\"AWS_ACCESS_KEY_ID\"] = \"IAM_ACCESS_KEY\"\n",
    "os.environ[\"AWS_SECRET_ACCESS_KEY\"] = \"IAM_SECRET_KEY\"\n",
    "\n",
    "mlflow.set_tracking_uri(tracking_uri)\n",
    "client = mlflow.tracking.MlflowClient()"
   ]
  },
  {
   "cell_type": "markdown",
   "id": "0a18ec2f",
   "metadata": {},
   "source": [
    "### Получим эксперимент в который будет записываться все данные"
   ]
  },
  {
   "cell_type": "code",
   "execution_count": null,
   "id": "bb0a2e14",
   "metadata": {},
   "outputs": [],
   "source": [
    "# Явно в UI создадим то что будем использовать\n",
    "experiment = client.get_experiment_by_name(\"iris_sklearn\")\n",
    "# experiment = client.get_experiment_by_name(\"iris_pyfunc\")\n",
    "assert experiment is not None, \"Not found experiment\""
   ]
  },
  {
   "cell_type": "code",
   "execution_count": null,
   "id": "67e68aa1",
   "metadata": {},
   "outputs": [],
   "source": [
    "iris = datasets.load_iris()\n",
    "x = iris.data[:, 2:]\n",
    "y = iris.target\n",
    "X_train, X_test, y_train, y_test = train_test_split(x, y, test_size = 0.2, random_state=7)"
   ]
  },
  {
   "cell_type": "code",
   "execution_count": null,
   "id": "85250e37",
   "metadata": {},
   "outputs": [],
   "source": [
    "with mlflow.start_run(experiment_id=experiment.experiment_id, run_name='iris') as  run:\n",
    "    for num_estimators in [100, 120]:\n",
    "        with mlflow.start_run(experiment_id = experiment.experiment_id, nested=True) as  nested:\n",
    "            mlflow.log_param(\"num_estimators\", num_estimators)\n",
    "            \n",
    "            rf = RandomForestRegressor(n_estimators=num_estimators)\n",
    "            rf.fit(X_train, y_train)\n",
    "            predictions = rf.predict(X_test)\n",
    "            \n",
    "            rf_wrapper = SklearnModelWrapper(model=rf)\n",
    "            \n",
    "            # Artifact location if deafult\n",
    "            mlflow.sklearn.log_model(rf, \"random-forest-model\", registered_model_name=\"iris_sklearn\")\n",
    "#             mlflow.pyfunc.log_model(\"model\",\n",
    "#                                     python_model=rf_wrapper,\n",
    "#                                     code_path=[\"/root/9/9_practice/wrapper.py\"])\n",
    "            \n",
    "            mse = mean_squared_error(y_test, predictions)\n",
    "            mlflow.log_metric(\"mse\", mse)\n",
    "            "
   ]
  },
  {
   "cell_type": "code",
   "execution_count": null,
   "id": "00990360",
   "metadata": {},
   "outputs": [],
   "source": []
  }
 ],
 "metadata": {
  "kernelspec": {
   "display_name": "Python 3 (ipykernel)",
   "language": "python",
   "name": "python3"
  },
  "language_info": {
   "codemirror_mode": {
    "name": "ipython",
    "version": 3
   },
   "file_extension": ".py",
   "mimetype": "text/x-python",
   "name": "python",
   "nbconvert_exporter": "python",
   "pygments_lexer": "ipython3",
   "version": "3.8.10"
  }
 },
 "nbformat": 4,
 "nbformat_minor": 5
}
