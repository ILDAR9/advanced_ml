{
 "cells": [
  {
   "cell_type": "markdown",
   "metadata": {},
   "source": [
    "## Head"
   ]
  },
  {
   "cell_type": "code",
   "execution_count": 1,
   "metadata": {
    "ExecuteTime": {
     "end_time": "2021-05-31T15:13:45.056337Z",
     "start_time": "2021-05-31T15:13:45.050380Z"
    }
   },
   "outputs": [],
   "source": [
    "import os\n",
    "import sys\n",
    "import pandas as pd\n",
    "import dask.dataframe as dd\n",
    "import sidetable\n",
    "import numpy as np"
   ]
  },
  {
   "cell_type": "code",
   "execution_count": 2,
   "metadata": {
    "ExecuteTime": {
     "end_time": "2021-05-31T15:22:37.689702Z",
     "start_time": "2021-05-31T15:22:37.687511Z"
    }
   },
   "outputs": [],
   "source": [
    "import matplotlib.pyplot as plt"
   ]
  },
  {
   "cell_type": "code",
   "execution_count": 3,
   "metadata": {
    "ExecuteTime": {
     "end_time": "2021-05-31T13:40:24.945374Z",
     "start_time": "2021-05-31T13:40:24.943237Z"
    }
   },
   "outputs": [],
   "source": [
    "import importlib"
   ]
  },
  {
   "cell_type": "code",
   "execution_count": 4,
   "metadata": {
    "ExecuteTime": {
     "end_time": "2021-05-31T14:00:46.607606Z",
     "start_time": "2021-05-31T14:00:46.605275Z"
    }
   },
   "outputs": [],
   "source": [
    "from typing import List, Dict, Union"
   ]
  },
  {
   "cell_type": "code",
   "execution_count": 5,
   "metadata": {
    "ExecuteTime": {
     "end_time": "2021-05-31T15:08:37.905113Z",
     "start_time": "2021-05-31T15:08:37.902938Z"
    }
   },
   "outputs": [],
   "source": [
    "import lightgbm as lgb"
   ]
  },
  {
   "cell_type": "code",
   "execution_count": 6,
   "metadata": {
    "ExecuteTime": {
     "end_time": "2021-05-31T15:08:24.085177Z",
     "start_time": "2021-05-31T15:08:20.407059Z"
    }
   },
   "outputs": [],
   "source": [
    "import causalml\n",
    "import causalml.metrics as cmetrics\n",
    "import causalml.inference.tree as ctree\n",
    "import causalml.inference.meta.rlearner as rlearner"
   ]
  },
  {
   "cell_type": "markdown",
   "metadata": {},
   "source": [
    "- Цена 1 г фисштеха равна 80 оренам. Себестоимость равна 52 оренам\n",
    "- Отправка одного сообщения вороном стоит 1 орен\n",
    "- покупатель не приобретает фисштех больше одного раза в день"
   ]
  },
  {
   "cell_type": "markdown",
   "metadata": {},
   "source": [
    "## Lib"
   ]
  },
  {
   "cell_type": "code",
   "execution_count": 7,
   "metadata": {
    "ExecuteTime": {
     "end_time": "2021-05-31T12:34:05.466041Z",
     "start_time": "2021-05-31T12:33:58.326401Z"
    }
   },
   "outputs": [],
   "source": [
    "import sys\n",
    "sys.path.append('../')\n",
    "import featurelib as fl"
   ]
  },
  {
   "cell_type": "code",
   "execution_count": 8,
   "metadata": {
    "ExecuteTime": {
     "end_time": "2021-05-31T14:00:48.307046Z",
     "start_time": "2021-05-31T14:00:48.302370Z"
    }
   },
   "outputs": [],
   "source": [
    "def dask_groupby(\n",
    "    data: dd.DataFrame,\n",
    "    by: List[str],\n",
    "    config: Dict[str, Union[str, List[str]]]\n",
    ") -> dd.DataFrame:\n",
    "    data_ = data.copy()\n",
    "    dask_agg_config = dict()\n",
    "\n",
    "    for col, aggs in config.items():\n",
    "        aggs = aggs if isinstance(aggs, list) else [aggs]\n",
    "        for agg in aggs:\n",
    "            fictious_col = f'{col}_{agg}'\n",
    "            data_ = data_.assign(**{fictious_col: lambda d: d[col]})\n",
    "            dask_agg_config[fictious_col] = agg\n",
    "\n",
    "    result = data_.groupby(by=by).agg(dask_agg_config)\n",
    "    return result\n"
   ]
  },
  {
   "cell_type": "code",
   "execution_count": 9,
   "metadata": {
    "ExecuteTime": {
     "end_time": "2021-05-31T14:04:58.073095Z",
     "start_time": "2021-05-31T14:04:58.066503Z"
    }
   },
   "outputs": [],
   "source": [
    "class ReceiptsBasicFeatureCalcer(fl.DateFeatureCalcer):\n",
    "    name = 'receipts_basic'\n",
    "    keys = ['customer_id']\n",
    "\n",
    "    def __init__(self, delta: int, **kwargs):\n",
    "        self.delta = delta\n",
    "        super().__init__(**kwargs)\n",
    "\n",
    "    def compute(self) -> dd.DataFrame:\n",
    "        receipts = self.engine.get_table('receipts')\n",
    "        \n",
    "        date_from = self.date_to - self.delta\n",
    "        date_mask = (receipts['date'] >= date_from) & (receipts['date'] < self.date_to)\n",
    "\n",
    "        features = receipts.loc[date_mask]\n",
    "        features = dask_groupby(\n",
    "            features,\n",
    "            by=['customer_id'],\n",
    "            config={\n",
    "                \"purchase_sum\": [\"sum\", \"max\", \"min\", \"mean\"],\n",
    "                \"discount\": [\"sum\"],\n",
    "                \"date\": [\"min\", \"max\", \"count\"],\n",
    "            }\n",
    "        )\n",
    "        features = (\n",
    "            features\n",
    "            .assign(\n",
    "                mean_time_interval=lambda d: (\n",
    "                    (d['date_max'] - d['date_min']) / (d['date_count'] - 1)\n",
    "                )\n",
    "            )\n",
    "            .assign(time_since_last=lambda d: self.date_to - d['date_max'])\n",
    "        )\n",
    "\n",
    "        features = features.reset_index()\n",
    "        features = features.rename(columns={\n",
    "            col: col + f'__{self.delta}d' for col in features.columns if col not in self.keys\n",
    "        })\n",
    "\n",
    "        return features"
   ]
  },
  {
   "cell_type": "code",
   "execution_count": 10,
   "metadata": {
    "ExecuteTime": {
     "end_time": "2021-05-31T14:05:00.718207Z",
     "start_time": "2021-05-31T14:05:00.714949Z"
    }
   },
   "outputs": [],
   "source": [
    "class AgeGeoCalcer(fl.FeatureCalcer):\n",
    "    name = 'age_geo'\n",
    "    keys = ['customer_id']\n",
    "\n",
    "    def compute(self) -> dd.DataFrame:\n",
    "        customers_info = self.engine.get_table('customers')\n",
    "        return customers_info[self.keys + ['age', 'location']]"
   ]
  },
  {
   "cell_type": "code",
   "execution_count": 11,
   "metadata": {
    "ExecuteTime": {
     "end_time": "2021-05-31T14:05:00.933488Z",
     "start_time": "2021-05-31T14:05:00.929740Z"
    }
   },
   "outputs": [],
   "source": [
    "class CampaignInfoCalcer(fl.DateFeatureCalcer):\n",
    "    name = 'campaigns_info'\n",
    "    keys = ['customer_id']\n",
    "    \n",
    "    def compute(self) -> dd.DataFrame:\n",
    "        campaigns = self.engine.get_table('campaigns')\n",
    "        date_mask = campaigns['date'] == self.date_to\n",
    "\n",
    "        result = (\n",
    "            self.engine.get_table('campaigns')\n",
    "            .loc[date_mask]\n",
    "            [[\n",
    "                'customer_id',\n",
    "                'n_offer_days', 'target_group_flag', 'date'\n",
    "            ]]\n",
    "            .rename(columns={'date': 'campaign_date'})\n",
    "        )\n",
    "        return result\n"
   ]
  },
  {
   "cell_type": "code",
   "execution_count": 12,
   "metadata": {
    "ExecuteTime": {
     "end_time": "2021-05-31T14:05:13.539833Z",
     "start_time": "2021-05-31T14:05:13.537186Z"
    }
   },
   "outputs": [],
   "source": [
    "fl.register_calcer(ReceiptsBasicFeatureCalcer)\n",
    "fl.register_calcer(AgeGeoCalcer)\n",
    "fl.register_calcer(CampaignInfoCalcer)"
   ]
  },
  {
   "cell_type": "code",
   "execution_count": null,
   "metadata": {},
   "outputs": [],
   "source": []
  },
  {
   "cell_type": "markdown",
   "metadata": {},
   "source": [
    "## Load'n'cook"
   ]
  },
  {
   "cell_type": "code",
   "execution_count": 13,
   "metadata": {
    "ExecuteTime": {
     "end_time": "2021-05-31T13:32:13.356674Z",
     "start_time": "2021-05-31T13:32:12.305189Z"
    }
   },
   "outputs": [],
   "source": [
    "engine = fl.Engine(tables={\n",
    "    'receipts': dd.read_parquet('../data/final/receipts.parquet'),\n",
    "    'customers': dd.read_csv('../data/final/customers.csv'),\n",
    "    'campaigns': dd.read_csv('../data/final/campaigns.csv'),\n",
    "})"
   ]
  },
  {
   "cell_type": "markdown",
   "metadata": {},
   "source": [
    "### train"
   ]
  },
  {
   "cell_type": "markdown",
   "metadata": {},
   "source": [
    "#### load"
   ]
  },
  {
   "cell_type": "code",
   "execution_count": 14,
   "metadata": {
    "ExecuteTime": {
     "end_time": "2021-05-31T14:10:24.915040Z",
     "start_time": "2021-05-31T14:10:24.910357Z"
    }
   },
   "outputs": [],
   "source": [
    "calcers_config = [\n",
    "    {\n",
    "        'name': 'receipts_basic',\n",
    "        'args': {\n",
    "            'date_to': 102, 'delta': 5\n",
    "        }\n",
    "    },\n",
    "    {\n",
    "        'name': 'receipts_basic',\n",
    "        'args': {\n",
    "            'date_to': 102, 'delta': 15\n",
    "        }\n",
    "    },\n",
    "    {\n",
    "        'name': 'receipts_basic',\n",
    "        'args': {\n",
    "            'date_to': 102, 'delta': 50\n",
    "        }\n",
    "    },\n",
    "    {\n",
    "        'name': 'receipts_basic',\n",
    "        'args': {\n",
    "            'date_to': 102, 'delta': 100\n",
    "        }\n",
    "    },\n",
    "    { # target period\n",
    "        'name': 'receipts_basic',\n",
    "        'args': {\n",
    "            'date_to': 132, 'delta': 30\n",
    "        }\n",
    "    },\n",
    "    { # offer period\n",
    "        'name': 'receipts_basic',\n",
    "        'args': {\n",
    "            'date_to': 109, 'delta': 7\n",
    "        }\n",
    "    },\n",
    "    {\n",
    "        'name': 'age_geo',\n",
    "        'args': {}\n",
    "    },\n",
    "    {\n",
    "        'name': 'campaigns_info',\n",
    "        'args': {'date_to': 102}\n",
    "    }\n",
    "]"
   ]
  },
  {
   "cell_type": "code",
   "execution_count": 15,
   "metadata": {
    "ExecuteTime": {
     "end_time": "2021-05-31T14:10:25.772468Z",
     "start_time": "2021-05-31T14:10:25.241100Z"
    }
   },
   "outputs": [],
   "source": [
    "raw_data_train = fl.compute_features(engine, features_config=calcers_config)"
   ]
  },
  {
   "cell_type": "code",
   "execution_count": 16,
   "metadata": {
    "ExecuteTime": {
     "end_time": "2021-05-31T14:11:24.340276Z",
     "start_time": "2021-05-31T14:10:25.774248Z"
    }
   },
   "outputs": [],
   "source": [
    "raw_data_train = raw_data_train.compute()"
   ]
  },
  {
   "cell_type": "code",
   "execution_count": 17,
   "metadata": {
    "ExecuteTime": {
     "end_time": "2021-05-31T14:11:24.347061Z",
     "start_time": "2021-05-31T14:11:24.343219Z"
    }
   },
   "outputs": [
    {
     "data": {
      "text/plain": [
       "(2000000, 66)"
      ]
     },
     "execution_count": 17,
     "metadata": {},
     "output_type": "execute_result"
    }
   ],
   "source": [
    "raw_data_train.shape"
   ]
  },
  {
   "cell_type": "markdown",
   "metadata": {},
   "source": [
    "#### transform"
   ]
  },
  {
   "cell_type": "code",
   "execution_count": 18,
   "metadata": {
    "ExecuteTime": {
     "end_time": "2021-05-31T14:17:17.307526Z",
     "start_time": "2021-05-31T14:17:17.302562Z"
    }
   },
   "outputs": [],
   "source": [
    "def fix_column_names(data: pd.DataFrame) -> pd.DataFrame:\n",
    "    for _days in [30, 7]:\n",
    "        for col_name in [\n",
    "            f'purchase_sum_sum__{_days}d',\n",
    "            f'purchase_sum_max__{_days}d',\n",
    "            f'purchase_sum_min__{_days}d',\n",
    "            f'purchase_sum_mean__{_days}d',\n",
    "            f'discount_sum__{_days}d',\n",
    "            f'date_min__{_days}d',\n",
    "            f'date_max__{_days}d',\n",
    "            f'date_count__{_days}d',\n",
    "            f'mean_time_interval__{_days}d',\n",
    "            f'time_since_last__{_days}d'\n",
    "        ]:\n",
    "            data = data.rename(columns={col_name: 'target__' + col_name})\n",
    "    return data"
   ]
  },
  {
   "cell_type": "code",
   "execution_count": 19,
   "metadata": {
    "ExecuteTime": {
     "end_time": "2021-05-31T15:19:50.057063Z",
     "start_time": "2021-05-31T15:19:50.053197Z"
    }
   },
   "outputs": [],
   "source": [
    "MARGIN_RATE = 0.35\n",
    "MESSAGE_COST = 1.0\n",
    "\n",
    "\n",
    "def _transform(data: pd.DataFrame) -> pd.DataFrame:\n",
    "    data.fillna({'target_group_flag': 0}, inplace=True)\n",
    "    data['target_profit'] = (\n",
    "        MARGIN_RATE * data['target__purchase_sum_sum__30d'].fillna(0.0)\n",
    "        - MESSAGE_COST * data['target_group_flag'].fillna(0)\n",
    "        - data['target__discount_sum__30d'].fillna(0)\n",
    "    )\n",
    "    return data"
   ]
  },
  {
   "cell_type": "code",
   "execution_count": 20,
   "metadata": {
    "ExecuteTime": {
     "end_time": "2021-05-31T14:47:45.634350Z",
     "start_time": "2021-05-31T14:47:33.598263Z"
    }
   },
   "outputs": [],
   "source": [
    "data_train = fix_column_names(raw_data_train)\n",
    "data_train = _transform(data_train)"
   ]
  },
  {
   "cell_type": "code",
   "execution_count": 21,
   "metadata": {
    "ExecuteTime": {
     "end_time": "2021-05-31T15:19:53.785985Z",
     "start_time": "2021-05-31T15:19:53.758587Z"
    }
   },
   "outputs": [
    {
     "data": {
      "text/html": [
       "<div>\n",
       "<style scoped>\n",
       "    .dataframe tbody tr th:only-of-type {\n",
       "        vertical-align: middle;\n",
       "    }\n",
       "\n",
       "    .dataframe tbody tr th {\n",
       "        vertical-align: top;\n",
       "    }\n",
       "\n",
       "    .dataframe thead th {\n",
       "        text-align: right;\n",
       "    }\n",
       "</style>\n",
       "<table border=\"1\" class=\"dataframe\">\n",
       "  <thead>\n",
       "    <tr style=\"text-align: right;\">\n",
       "      <th></th>\n",
       "      <th>customer_id</th>\n",
       "      <th>purchase_sum_sum__5d</th>\n",
       "      <th>purchase_sum_max__5d</th>\n",
       "      <th>purchase_sum_min__5d</th>\n",
       "      <th>purchase_sum_mean__5d</th>\n",
       "      <th>discount_sum__5d</th>\n",
       "      <th>date_min__5d</th>\n",
       "      <th>date_max__5d</th>\n",
       "      <th>date_count__5d</th>\n",
       "      <th>mean_time_interval__5d</th>\n",
       "      <th>...</th>\n",
       "      <th>target__date_max__7d</th>\n",
       "      <th>target__date_count__7d</th>\n",
       "      <th>target__mean_time_interval__7d</th>\n",
       "      <th>target__time_since_last__7d</th>\n",
       "      <th>age</th>\n",
       "      <th>location</th>\n",
       "      <th>n_offer_days</th>\n",
       "      <th>target_group_flag</th>\n",
       "      <th>campaign_date</th>\n",
       "      <th>target_profit</th>\n",
       "    </tr>\n",
       "  </thead>\n",
       "  <tbody>\n",
       "    <tr>\n",
       "      <th>0</th>\n",
       "      <td>11</td>\n",
       "      <td>1487.705672</td>\n",
       "      <td>1487.705672</td>\n",
       "      <td>1487.705672</td>\n",
       "      <td>1487.705672</td>\n",
       "      <td>0.0</td>\n",
       "      <td>100.0</td>\n",
       "      <td>100.0</td>\n",
       "      <td>1.0</td>\n",
       "      <td>NaN</td>\n",
       "      <td>...</td>\n",
       "      <td>NaN</td>\n",
       "      <td>NaN</td>\n",
       "      <td>NaN</td>\n",
       "      <td>NaN</td>\n",
       "      <td>57</td>\n",
       "      <td>Novigrad</td>\n",
       "      <td>7.0</td>\n",
       "      <td>1.0</td>\n",
       "      <td>102.0</td>\n",
       "      <td>753.619862</td>\n",
       "    </tr>\n",
       "    <tr>\n",
       "      <th>1</th>\n",
       "      <td>13</td>\n",
       "      <td>1079.160515</td>\n",
       "      <td>1079.160515</td>\n",
       "      <td>1079.160515</td>\n",
       "      <td>1079.160515</td>\n",
       "      <td>0.0</td>\n",
       "      <td>101.0</td>\n",
       "      <td>101.0</td>\n",
       "      <td>1.0</td>\n",
       "      <td>NaN</td>\n",
       "      <td>...</td>\n",
       "      <td>NaN</td>\n",
       "      <td>NaN</td>\n",
       "      <td>NaN</td>\n",
       "      <td>NaN</td>\n",
       "      <td>63</td>\n",
       "      <td>Kaer_Trolde</td>\n",
       "      <td>7.0</td>\n",
       "      <td>1.0</td>\n",
       "      <td>102.0</td>\n",
       "      <td>-1.000000</td>\n",
       "    </tr>\n",
       "    <tr>\n",
       "      <th>2</th>\n",
       "      <td>18</td>\n",
       "      <td>2784.746810</td>\n",
       "      <td>2784.746810</td>\n",
       "      <td>2784.746810</td>\n",
       "      <td>2784.746810</td>\n",
       "      <td>0.0</td>\n",
       "      <td>97.0</td>\n",
       "      <td>97.0</td>\n",
       "      <td>1.0</td>\n",
       "      <td>NaN</td>\n",
       "      <td>...</td>\n",
       "      <td>NaN</td>\n",
       "      <td>NaN</td>\n",
       "      <td>NaN</td>\n",
       "      <td>NaN</td>\n",
       "      <td>64</td>\n",
       "      <td>Kaer_Trolde</td>\n",
       "      <td>7.0</td>\n",
       "      <td>1.0</td>\n",
       "      <td>102.0</td>\n",
       "      <td>586.967591</td>\n",
       "    </tr>\n",
       "    <tr>\n",
       "      <th>3</th>\n",
       "      <td>19</td>\n",
       "      <td>1215.343668</td>\n",
       "      <td>1215.343668</td>\n",
       "      <td>1215.343668</td>\n",
       "      <td>1215.343668</td>\n",
       "      <td>0.0</td>\n",
       "      <td>100.0</td>\n",
       "      <td>100.0</td>\n",
       "      <td>1.0</td>\n",
       "      <td>NaN</td>\n",
       "      <td>...</td>\n",
       "      <td>104.0</td>\n",
       "      <td>2.0</td>\n",
       "      <td>2.0</td>\n",
       "      <td>5.0</td>\n",
       "      <td>25</td>\n",
       "      <td>Novigrad</td>\n",
       "      <td>7.0</td>\n",
       "      <td>1.0</td>\n",
       "      <td>102.0</td>\n",
       "      <td>1830.142625</td>\n",
       "    </tr>\n",
       "    <tr>\n",
       "      <th>4</th>\n",
       "      <td>22</td>\n",
       "      <td>943.251812</td>\n",
       "      <td>943.251812</td>\n",
       "      <td>943.251812</td>\n",
       "      <td>943.251812</td>\n",
       "      <td>0.0</td>\n",
       "      <td>97.0</td>\n",
       "      <td>97.0</td>\n",
       "      <td>1.0</td>\n",
       "      <td>NaN</td>\n",
       "      <td>...</td>\n",
       "      <td>105.0</td>\n",
       "      <td>1.0</td>\n",
       "      <td>NaN</td>\n",
       "      <td>4.0</td>\n",
       "      <td>36</td>\n",
       "      <td>Hindarsfjall</td>\n",
       "      <td>7.0</td>\n",
       "      <td>1.0</td>\n",
       "      <td>102.0</td>\n",
       "      <td>1246.848085</td>\n",
       "    </tr>\n",
       "  </tbody>\n",
       "</table>\n",
       "<p>5 rows × 67 columns</p>\n",
       "</div>"
      ],
      "text/plain": [
       "   customer_id  purchase_sum_sum__5d  purchase_sum_max__5d  \\\n",
       "0           11           1487.705672           1487.705672   \n",
       "1           13           1079.160515           1079.160515   \n",
       "2           18           2784.746810           2784.746810   \n",
       "3           19           1215.343668           1215.343668   \n",
       "4           22            943.251812            943.251812   \n",
       "\n",
       "   purchase_sum_min__5d  purchase_sum_mean__5d  discount_sum__5d  \\\n",
       "0           1487.705672            1487.705672               0.0   \n",
       "1           1079.160515            1079.160515               0.0   \n",
       "2           2784.746810            2784.746810               0.0   \n",
       "3           1215.343668            1215.343668               0.0   \n",
       "4            943.251812             943.251812               0.0   \n",
       "\n",
       "   date_min__5d  date_max__5d  date_count__5d  mean_time_interval__5d  ...  \\\n",
       "0         100.0         100.0             1.0                     NaN  ...   \n",
       "1         101.0         101.0             1.0                     NaN  ...   \n",
       "2          97.0          97.0             1.0                     NaN  ...   \n",
       "3         100.0         100.0             1.0                     NaN  ...   \n",
       "4          97.0          97.0             1.0                     NaN  ...   \n",
       "\n",
       "   target__date_max__7d  target__date_count__7d  \\\n",
       "0                   NaN                     NaN   \n",
       "1                   NaN                     NaN   \n",
       "2                   NaN                     NaN   \n",
       "3                 104.0                     2.0   \n",
       "4                 105.0                     1.0   \n",
       "\n",
       "   target__mean_time_interval__7d  target__time_since_last__7d  age  \\\n",
       "0                             NaN                          NaN   57   \n",
       "1                             NaN                          NaN   63   \n",
       "2                             NaN                          NaN   64   \n",
       "3                             2.0                          5.0   25   \n",
       "4                             NaN                          4.0   36   \n",
       "\n",
       "       location  n_offer_days  target_group_flag  campaign_date  target_profit  \n",
       "0      Novigrad           7.0                1.0          102.0     753.619862  \n",
       "1   Kaer_Trolde           7.0                1.0          102.0      -1.000000  \n",
       "2   Kaer_Trolde           7.0                1.0          102.0     586.967591  \n",
       "3      Novigrad           7.0                1.0          102.0    1830.142625  \n",
       "4  Hindarsfjall           7.0                1.0          102.0    1246.848085  \n",
       "\n",
       "[5 rows x 67 columns]"
      ]
     },
     "execution_count": 21,
     "metadata": {},
     "output_type": "execute_result"
    }
   ],
   "source": [
    "data_train.head()"
   ]
  },
  {
   "cell_type": "code",
   "execution_count": null,
   "metadata": {},
   "outputs": [],
   "source": []
  },
  {
   "cell_type": "markdown",
   "metadata": {},
   "source": [
    "#### splits"
   ]
  },
  {
   "cell_type": "code",
   "execution_count": 22,
   "metadata": {
    "ExecuteTime": {
     "end_time": "2021-05-31T15:04:37.227340Z",
     "start_time": "2021-05-31T15:04:37.224833Z"
    }
   },
   "outputs": [],
   "source": [
    "from sklearn.model_selection import train_test_split"
   ]
  },
  {
   "cell_type": "code",
   "execution_count": 23,
   "metadata": {
    "ExecuteTime": {
     "end_time": "2021-05-31T15:04:38.789649Z",
     "start_time": "2021-05-31T15:04:38.660528Z"
    }
   },
   "outputs": [],
   "source": [
    "fit_index, val_index = train_test_split(data_train.index, test_size=0.5, random_state=165)"
   ]
  },
  {
   "cell_type": "code",
   "execution_count": null,
   "metadata": {},
   "outputs": [],
   "source": []
  },
  {
   "cell_type": "markdown",
   "metadata": {},
   "source": [
    "### serve"
   ]
  },
  {
   "cell_type": "markdown",
   "metadata": {},
   "source": [
    "#### load"
   ]
  },
  {
   "cell_type": "code",
   "execution_count": 24,
   "metadata": {
    "ExecuteTime": {
     "end_time": "2021-05-31T15:30:12.584649Z",
     "start_time": "2021-05-31T15:30:12.580501Z"
    }
   },
   "outputs": [],
   "source": [
    "calcers_config = [\n",
    "    {\n",
    "        'name': 'receipts_basic',\n",
    "        'args': {\n",
    "            'date_to': 250, 'delta': 5\n",
    "        }\n",
    "    },\n",
    "    {\n",
    "        'name': 'receipts_basic',\n",
    "        'args': {\n",
    "            'date_to': 250, 'delta': 15\n",
    "        }\n",
    "    },\n",
    "    {\n",
    "        'name': 'receipts_basic',\n",
    "        'args': {\n",
    "            'date_to': 250, 'delta': 50\n",
    "        }\n",
    "    },\n",
    "    {\n",
    "        'name': 'receipts_basic',\n",
    "        'args': {\n",
    "            'date_to': 250, 'delta': 100\n",
    "        }\n",
    "    },\n",
    "#     { # target period\n",
    "#         'name': 'receipts_basic',\n",
    "#         'args': {\n",
    "#             'date_to': 132, 'delta': 30\n",
    "#         }\n",
    "#     },\n",
    "#     { # offer period\n",
    "#         'name': 'receipts_basic',\n",
    "#         'args': {\n",
    "#             'date_to': 109, 'delta': 7\n",
    "#         }\n",
    "#     },\n",
    "    {\n",
    "        'name': 'age_geo',\n",
    "        'args': {}\n",
    "    },\n",
    "#     {\n",
    "#         'name': 'campaigns_info',\n",
    "#         'args': {'date_to': 102}\n",
    "#     }\n",
    "]"
   ]
  },
  {
   "cell_type": "code",
   "execution_count": 25,
   "metadata": {
    "ExecuteTime": {
     "end_time": "2021-05-31T15:30:16.281341Z",
     "start_time": "2021-05-31T15:30:15.962825Z"
    }
   },
   "outputs": [],
   "source": [
    "raw_data_serve = fl.compute_features(engine, features_config=calcers_config)"
   ]
  },
  {
   "cell_type": "code",
   "execution_count": 26,
   "metadata": {
    "ExecuteTime": {
     "end_time": "2021-05-31T15:30:55.059092Z",
     "start_time": "2021-05-31T15:30:25.805945Z"
    }
   },
   "outputs": [],
   "source": [
    "raw_data_serve = raw_data_serve.compute()"
   ]
  },
  {
   "cell_type": "code",
   "execution_count": 27,
   "metadata": {
    "ExecuteTime": {
     "end_time": "2021-05-31T15:31:27.772595Z",
     "start_time": "2021-05-31T15:31:27.769134Z"
    }
   },
   "outputs": [
    {
     "data": {
      "text/plain": [
       "(2000000, 43)"
      ]
     },
     "execution_count": 27,
     "metadata": {},
     "output_type": "execute_result"
    }
   ],
   "source": [
    "raw_data_serve.shape"
   ]
  },
  {
   "cell_type": "markdown",
   "metadata": {},
   "source": [
    "#### transform"
   ]
  },
  {
   "cell_type": "code",
   "execution_count": 28,
   "metadata": {},
   "outputs": [],
   "source": [
    "data_serve = fix_column_names(raw_data_serve)"
   ]
  },
  {
   "cell_type": "markdown",
   "metadata": {
    "heading_collapsed": true
   },
   "source": [
    "### column sets"
   ]
  },
  {
   "cell_type": "code",
   "execution_count": 29,
   "metadata": {
    "ExecuteTime": {
     "end_time": "2021-05-31T15:36:27.690729Z",
     "start_time": "2021-05-31T15:36:27.687939Z"
    },
    "hidden": true
   },
   "outputs": [],
   "source": [
    "cols_features_n1 = [\n",
    "    'date_count__100d',\n",
    "    'purchase_sum_sum__100d',\n",
    "    'purchase_sum_max__100d',\n",
    "    'purchase_sum_min__100d',\n",
    "    'purchase_sum_mean__100d',\n",
    "    'mean_time_interval__100d',\n",
    "    'time_since_last__100d',\n",
    "    'date_count__5d',\n",
    "    'purchase_sum_sum__5d',\n",
    "    'purchase_sum_max__5d',\n",
    "    'purchase_sum_min__5d',\n",
    "    'purchase_sum_mean__5d',\n",
    "    'mean_time_interval__5d',\n",
    "    'age'\n",
    "]"
   ]
  },
  {
   "cell_type": "code",
   "execution_count": null,
   "metadata": {
    "hidden": true
   },
   "outputs": [],
   "source": []
  },
  {
   "cell_type": "markdown",
   "metadata": {},
   "source": [
    "## Main"
   ]
  },
  {
   "cell_type": "markdown",
   "metadata": {},
   "source": [
    "### EDA"
   ]
  },
  {
   "cell_type": "code",
   "execution_count": 30,
   "metadata": {
    "ExecuteTime": {
     "end_time": "2021-05-31T15:04:55.164475Z",
     "start_time": "2021-05-31T15:04:51.679712Z"
    }
   },
   "outputs": [
    {
     "data": {
      "text/html": [
       "<div>\n",
       "<style scoped>\n",
       "    .dataframe tbody tr th:only-of-type {\n",
       "        vertical-align: middle;\n",
       "    }\n",
       "\n",
       "    .dataframe tbody tr th {\n",
       "        vertical-align: top;\n",
       "    }\n",
       "\n",
       "    .dataframe thead th {\n",
       "        text-align: right;\n",
       "    }\n",
       "</style>\n",
       "<table border=\"1\" class=\"dataframe\">\n",
       "  <thead>\n",
       "    <tr style=\"text-align: right;\">\n",
       "      <th></th>\n",
       "      <th>target_profit</th>\n",
       "      <th>target__purchase_sum_sum__30d</th>\n",
       "      <th>target__discount_sum__30d</th>\n",
       "      <th>customer_id</th>\n",
       "    </tr>\n",
       "    <tr>\n",
       "      <th>target_group_flag</th>\n",
       "      <th></th>\n",
       "      <th></th>\n",
       "      <th></th>\n",
       "      <th></th>\n",
       "    </tr>\n",
       "  </thead>\n",
       "  <tbody>\n",
       "    <tr>\n",
       "      <th>0.0</th>\n",
       "      <td>877.656473</td>\n",
       "      <td>3087.472949</td>\n",
       "      <td>0.000000</td>\n",
       "      <td>1499361</td>\n",
       "    </tr>\n",
       "    <tr>\n",
       "      <th>1.0</th>\n",
       "      <td>874.963284</td>\n",
       "      <td>3083.327417</td>\n",
       "      <td>21.905052</td>\n",
       "      <td>500083</td>\n",
       "    </tr>\n",
       "  </tbody>\n",
       "</table>\n",
       "</div>"
      ],
      "text/plain": [
       "                   target_profit  target__purchase_sum_sum__30d  \\\n",
       "target_group_flag                                                 \n",
       "0.0                   877.656473                    3087.472949   \n",
       "1.0                   874.963284                    3083.327417   \n",
       "\n",
       "                   target__discount_sum__30d  customer_id  \n",
       "target_group_flag                                          \n",
       "0.0                                 0.000000      1499361  \n",
       "1.0                                21.905052       500083  "
      ]
     },
     "execution_count": 30,
     "metadata": {},
     "output_type": "execute_result"
    }
   ],
   "source": [
    "data_train.loc[fit_index].groupby(by=['target_group_flag']).agg({\n",
    "    'target_profit': 'mean',\n",
    "    'target__purchase_sum_sum__30d': 'mean',\n",
    "    'target__discount_sum__30d': 'mean',\n",
    "    'customer_id': 'count',\n",
    "})"
   ]
  },
  {
   "cell_type": "code",
   "execution_count": 31,
   "metadata": {
    "ExecuteTime": {
     "end_time": "2021-05-31T15:18:54.749615Z",
     "start_time": "2021-05-31T15:18:54.256343Z"
    }
   },
   "outputs": [
    {
     "data": {
      "text/html": [
       "<div>\n",
       "<style scoped>\n",
       "    .dataframe tbody tr th:only-of-type {\n",
       "        vertical-align: middle;\n",
       "    }\n",
       "\n",
       "    .dataframe tbody tr th {\n",
       "        vertical-align: top;\n",
       "    }\n",
       "\n",
       "    .dataframe thead th {\n",
       "        text-align: right;\n",
       "    }\n",
       "</style>\n",
       "<table border=\"1\" class=\"dataframe\">\n",
       "  <thead>\n",
       "    <tr style=\"text-align: right;\">\n",
       "      <th></th>\n",
       "      <th>missing</th>\n",
       "      <th>total</th>\n",
       "      <th>percent</th>\n",
       "    </tr>\n",
       "  </thead>\n",
       "  <tbody>\n",
       "    <tr>\n",
       "      <th>mean_time_interval__5d</th>\n",
       "      <td>1970933</td>\n",
       "      <td>2000000</td>\n",
       "      <td>98.54665</td>\n",
       "    </tr>\n",
       "    <tr>\n",
       "      <th>target__mean_time_interval__7d</th>\n",
       "      <td>1922763</td>\n",
       "      <td>2000000</td>\n",
       "      <td>96.13815</td>\n",
       "    </tr>\n",
       "    <tr>\n",
       "      <th>n_offer_days</th>\n",
       "      <td>1500000</td>\n",
       "      <td>2000000</td>\n",
       "      <td>75.00000</td>\n",
       "    </tr>\n",
       "    <tr>\n",
       "      <th>campaign_date</th>\n",
       "      <td>1500000</td>\n",
       "      <td>2000000</td>\n",
       "      <td>75.00000</td>\n",
       "    </tr>\n",
       "    <tr>\n",
       "      <th>mean_time_interval__15d</th>\n",
       "      <td>1499398</td>\n",
       "      <td>2000000</td>\n",
       "      <td>74.96990</td>\n",
       "    </tr>\n",
       "    <tr>\n",
       "      <th>...</th>\n",
       "      <td>...</td>\n",
       "      <td>...</td>\n",
       "      <td>...</td>\n",
       "    </tr>\n",
       "    <tr>\n",
       "      <th>target_group_flag</th>\n",
       "      <td>0</td>\n",
       "      <td>2000000</td>\n",
       "      <td>0.00000</td>\n",
       "    </tr>\n",
       "    <tr>\n",
       "      <th>customer_id</th>\n",
       "      <td>0</td>\n",
       "      <td>2000000</td>\n",
       "      <td>0.00000</td>\n",
       "    </tr>\n",
       "    <tr>\n",
       "      <th>location</th>\n",
       "      <td>0</td>\n",
       "      <td>2000000</td>\n",
       "      <td>0.00000</td>\n",
       "    </tr>\n",
       "    <tr>\n",
       "      <th>age</th>\n",
       "      <td>0</td>\n",
       "      <td>2000000</td>\n",
       "      <td>0.00000</td>\n",
       "    </tr>\n",
       "    <tr>\n",
       "      <th>target_profit</th>\n",
       "      <td>0</td>\n",
       "      <td>2000000</td>\n",
       "      <td>0.00000</td>\n",
       "    </tr>\n",
       "  </tbody>\n",
       "</table>\n",
       "<p>67 rows × 3 columns</p>\n",
       "</div>"
      ],
      "text/plain": [
       "                                missing    total   percent\n",
       "mean_time_interval__5d          1970933  2000000  98.54665\n",
       "target__mean_time_interval__7d  1922763  2000000  96.13815\n",
       "n_offer_days                    1500000  2000000  75.00000\n",
       "campaign_date                   1500000  2000000  75.00000\n",
       "mean_time_interval__15d         1499398  2000000  74.96990\n",
       "...                                 ...      ...       ...\n",
       "target_group_flag                     0  2000000   0.00000\n",
       "customer_id                           0  2000000   0.00000\n",
       "location                              0  2000000   0.00000\n",
       "age                                   0  2000000   0.00000\n",
       "target_profit                         0  2000000   0.00000\n",
       "\n",
       "[67 rows x 3 columns]"
      ]
     },
     "execution_count": 31,
     "metadata": {},
     "output_type": "execute_result"
    }
   ],
   "source": [
    "data_train.stb.missing()"
   ]
  },
  {
   "cell_type": "code",
   "execution_count": null,
   "metadata": {},
   "outputs": [],
   "source": []
  },
  {
   "cell_type": "markdown",
   "metadata": {},
   "source": [
    "### model"
   ]
  },
  {
   "cell_type": "code",
   "execution_count": 32,
   "metadata": {
    "ExecuteTime": {
     "end_time": "2021-05-31T15:01:46.835960Z",
     "start_time": "2021-05-31T15:01:46.833702Z"
    }
   },
   "outputs": [],
   "source": [
    "col_target = 'target_profit'\n",
    "col_treatment = 'target_group_flag'"
   ]
  },
  {
   "cell_type": "code",
   "execution_count": 33,
   "metadata": {
    "ExecuteTime": {
     "end_time": "2021-05-31T15:12:59.211482Z",
     "start_time": "2021-05-31T15:12:59.209003Z"
    }
   },
   "outputs": [],
   "source": [
    "cols_features = cols_features_n1"
   ]
  },
  {
   "cell_type": "code",
   "execution_count": 34,
   "metadata": {
    "ExecuteTime": {
     "end_time": "2021-05-31T15:21:12.359703Z",
     "start_time": "2021-05-31T15:21:12.356771Z"
    }
   },
   "outputs": [],
   "source": [
    "model_n1 = rlearner.BaseRRegressor(\n",
    "    learner=lgb.LGBMRegressor(),\n",
    "    control_name=0,\n",
    "    n_fold=4,\n",
    "    random_state=165\n",
    ")"
   ]
  },
  {
   "cell_type": "code",
   "execution_count": 36,
   "metadata": {},
   "outputs": [
    {
     "data": {
      "text/plain": [
       "1000000"
      ]
     },
     "execution_count": 36,
     "metadata": {},
     "output_type": "execute_result"
    }
   ],
   "source": [
    "len(fit_index)"
   ]
  },
  {
   "cell_type": "code",
   "execution_count": 59,
   "metadata": {
    "ExecuteTime": {
     "end_time": "2021-05-31T15:21:24.168437Z",
     "start_time": "2021-05-31T15:21:12.580042Z"
    }
   },
   "outputs": [],
   "source": [
    "_p_score_const = data_train.loc[fit_index, col_treatment].value_counts(normalize=True).loc[1]\n",
    "_p_scores = pd.Series(data=_p_score_const, index=fit_index)\n",
    "model_n1.fit(\n",
    "    X=data_train.iloc[fit_index].loc[:,cols_features].fillna(0).values,\n",
    "    treatment=data_train.iloc[fit_index].loc[:,col_treatment].values,\n",
    "    y=data_train.iloc[fit_index].loc[:,col_target].values,\n",
    "    p=_p_scores\n",
    ")"
   ]
  },
  {
   "cell_type": "code",
   "execution_count": null,
   "metadata": {},
   "outputs": [],
   "source": []
  },
  {
   "cell_type": "markdown",
   "metadata": {},
   "source": [
    "#### evaluate model"
   ]
  },
  {
   "cell_type": "code",
   "execution_count": 60,
   "metadata": {
    "ExecuteTime": {
     "end_time": "2021-05-31T15:22:19.029677Z",
     "start_time": "2021-05-31T15:22:18.078191Z"
    }
   },
   "outputs": [],
   "source": [
    "_eval_data = data_train.iloc[val_index].loc[:, cols_features + [col_treatment, col_target]]\n",
    "_eval_data['score'] = model_n1.predict(_eval_data[cols_features])\n",
    "_eval_data = _eval_data[['score', col_treatment, col_target]]"
   ]
  },
  {
   "cell_type": "code",
   "execution_count": 61,
   "metadata": {
    "ExecuteTime": {
     "end_time": "2021-05-31T15:22:44.984338Z",
     "start_time": "2021-05-31T15:22:44.636127Z"
    }
   },
   "outputs": [
    {
     "data": {
      "image/png": "[encoded data removed]",
      "text/plain": [
       "<Figure size 720x432 with 1 Axes>"
      ]
     },
     "metadata": {},
     "output_type": "display_data"
    }
   ],
   "source": [
    "plt.figure(figsize=(10, 6))\n",
    "plt.hist(_eval_data['score'], bins=20)\n",
    "plt.show()"
   ]
  },
  {
   "cell_type": "code",
   "execution_count": 62,
   "metadata": {
    "ExecuteTime": {
     "end_time": "2021-05-31T15:23:07.569371Z",
     "start_time": "2021-05-31T15:23:07.297117Z"
    }
   },
   "outputs": [
    {
     "data": {
      "image/png": "[encoded data removed]",
      "text/plain": [
       "<Figure size 720x432 with 1 Axes>"
      ]
     },
     "metadata": {},
     "output_type": "display_data"
    }
   ],
   "source": [
    "plt.figure(figsize=(10, 6))\n",
    "plt.hist(_eval_data['score'], bins=100, range=(-50, 50))\n",
    "plt.show()"
   ]
  },
  {
   "cell_type": "code",
   "execution_count": 63,
   "metadata": {
    "ExecuteTime": {
     "end_time": "2021-05-31T15:23:19.225781Z",
     "start_time": "2021-05-31T15:23:19.204783Z"
    }
   },
   "outputs": [
    {
     "data": {
      "text/plain": [
       "-31.249961337362432"
      ]
     },
     "execution_count": 63,
     "metadata": {},
     "output_type": "execute_result"
    }
   ],
   "source": [
    "np.percentile(_eval_data['score'], 5)"
   ]
  },
  {
   "cell_type": "code",
   "execution_count": 64,
   "metadata": {
    "ExecuteTime": {
     "end_time": "2021-05-31T15:23:20.746242Z",
     "start_time": "2021-05-31T15:23:20.734618Z"
    }
   },
   "outputs": [
    {
     "data": {
      "text/plain": [
       "38.4425324978422"
      ]
     },
     "execution_count": 64,
     "metadata": {},
     "output_type": "execute_result"
    }
   ],
   "source": [
    "np.percentile(_eval_data['score'], 95)"
   ]
  },
  {
   "cell_type": "code",
   "execution_count": 65,
   "metadata": {
    "ExecuteTime": {
     "end_time": "2021-05-31T15:23:53.834157Z",
     "start_time": "2021-05-31T15:23:53.789686Z"
    }
   },
   "outputs": [
    {
     "data": {
      "text/plain": [
       "count    1000000.000000\n",
       "mean          -2.042876\n",
       "std           36.629920\n",
       "min         -934.262402\n",
       "25%          -19.524706\n",
       "50%           -2.838634\n",
       "75%            9.922089\n",
       "max          997.870561\n",
       "Name: score, dtype: float64"
      ]
     },
     "execution_count": 65,
     "metadata": {},
     "output_type": "execute_result"
    }
   ],
   "source": [
    "_eval_data['score'].describe()"
   ]
  },
  {
   "cell_type": "code",
   "execution_count": 66,
   "metadata": {
    "ExecuteTime": {
     "end_time": "2021-05-31T15:24:03.423751Z",
     "start_time": "2021-05-31T15:23:59.255618Z"
    }
   },
   "outputs": [
    {
     "data": {
      "image/png": "[encoded data removed]",
      "text/plain": [
       "<Figure size 576x576 with 1 Axes>"
      ]
     },
     "metadata": {},
     "output_type": "display_data"
    }
   ],
   "source": [
    "cmetrics.plot_gain(\n",
    "    _eval_data,\n",
    "    treatment_col=col_treatment,\n",
    "    outcome_col=col_target,\n",
    ")"
   ]
  },
  {
   "cell_type": "code",
   "execution_count": null,
   "metadata": {},
   "outputs": [],
   "source": []
  },
  {
   "cell_type": "markdown",
   "metadata": {},
   "source": [
    "### decisions"
   ]
  },
  {
   "cell_type": "code",
   "execution_count": 67,
   "metadata": {
    "ExecuteTime": {
     "end_time": "2021-05-31T15:39:20.289335Z",
     "start_time": "2021-05-31T15:39:19.393822Z"
    }
   },
   "outputs": [],
   "source": [
    "data_serve['model_n1_pred'] = model_n1.predict(data_serve[cols_features_n1])"
   ]
  },
  {
   "cell_type": "code",
   "execution_count": 68,
   "metadata": {
    "ExecuteTime": {
     "end_time": "2021-05-31T16:32:22.219410Z",
     "start_time": "2021-05-31T16:32:22.095674Z"
    }
   },
   "outputs": [
    {
     "data": {
      "text/plain": [
       "count    2.000000e+06\n",
       "mean    -2.024943e+00\n",
       "std      3.659533e+01\n",
       "min     -9.873743e+02\n",
       "25%     -1.961459e+01\n",
       "50%     -2.860439e+00\n",
       "75%      9.922089e+00\n",
       "max      9.364955e+02\n",
       "Name: model_n1_pred, dtype: float64"
      ]
     },
     "execution_count": 68,
     "metadata": {},
     "output_type": "execute_result"
    }
   ],
   "source": [
    "data_serve['model_n1_pred'].describe()"
   ]
  },
  {
   "cell_type": "code",
   "execution_count": 69,
   "metadata": {
    "ExecuteTime": {
     "end_time": "2021-05-31T15:39:23.548539Z",
     "start_time": "2021-05-31T15:39:23.281422Z"
    }
   },
   "outputs": [
    {
     "data": {
      "image/png": "[encoded data removed]",
      "text/plain": [
       "<Figure size 720x432 with 1 Axes>"
      ]
     },
     "metadata": {},
     "output_type": "display_data"
    }
   ],
   "source": [
    "plt.figure(figsize=(10, 6))\n",
    "plt.hist(data_serve['model_n1_pred'], bins=100, range=(-50, 50))\n",
    "plt.show()"
   ]
  },
  {
   "cell_type": "code",
   "execution_count": 70,
   "metadata": {
    "ExecuteTime": {
     "end_time": "2021-05-31T15:39:30.248229Z",
     "start_time": "2021-05-31T15:39:30.240207Z"
    }
   },
   "outputs": [
    {
     "data": {
      "text/plain": [
       "0.3806555"
      ]
     },
     "execution_count": 70,
     "metadata": {},
     "output_type": "execute_result"
    }
   ],
   "source": [
    "(data_serve['model_n1_pred'] > 5.0).mean()"
   ]
  },
  {
   "cell_type": "code",
   "execution_count": 71,
   "metadata": {
    "ExecuteTime": {
     "end_time": "2021-05-31T15:42:48.412873Z",
     "start_time": "2021-05-31T15:42:47.412407Z"
    }
   },
   "outputs": [],
   "source": [
    "data_serve[data_serve['model_n1_pred'] > 5.0]['customer_id'].to_csv('submission_n1.csv', index=None)"
   ]
  },
  {
   "cell_type": "code",
   "execution_count": null,
   "metadata": {},
   "outputs": [],
   "source": []
  }
 ],
 "metadata": {
  "kernelspec": {
   "display_name": "Python 3 (ipykernel)",
   "language": "python",
   "name": "python3"
  },
  "language_info": {
   "codemirror_mode": {
    "name": "ipython",
    "version": 3
   },
   "file_extension": ".py",
   "mimetype": "text/x-python",
   "name": "python",
   "nbconvert_exporter": "python",
   "pygments_lexer": "ipython3",
   "version": "3.8.12"
  },
  "toc": {
   "base_numbering": 1,
   "nav_menu": {},
   "number_sections": true,
   "sideBar": true,
   "skip_h1_title": false,
   "title_cell": "Table of Contents",
   "title_sidebar": "Contents",
   "toc_cell": false,
   "toc_position": {},
   "toc_section_display": true,
   "toc_window_display": true
  }
 },
 "nbformat": 4,
 "nbformat_minor": 4
}
