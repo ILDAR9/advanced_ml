{
 "cells": [
  {
   "cell_type": "markdown",
   "metadata": {},
   "source": [
    "## Head"
   ]
  },
  {
   "cell_type": "code",
   "execution_count": 1,
   "metadata": {
    "ExecuteTime": {
     "end_time": "2021-05-10T03:01:17.381062Z",
     "start_time": "2021-05-10T03:01:16.386647Z"
    }
   },
   "outputs": [],
   "source": [
    "import os\n",
    "import sys\n",
    "sys.path.append('/Users/vavbrs/Documents/karpov/lessons/L5_app_live/uplift-campaign/')\n",
    "\n",
    "import pandas as pd\n",
    "import numpy as np\n",
    "import dask.dataframe as dd\n",
    "import pickle\n",
    "import json\n",
    "import sklearn.base as skbase\n",
    "import sklearn.pipeline as skpipe\n",
    "import datetime\n",
    "import matplotlib.pyplot as plt"
   ]
  },
  {
   "cell_type": "code",
   "execution_count": 2,
   "metadata": {
    "ExecuteTime": {
     "end_time": "2021-05-10T03:01:17.463964Z",
     "start_time": "2021-05-10T03:01:17.382951Z"
    }
   },
   "outputs": [],
   "source": [
    "import upcampaign.datalib as datalib\n",
    "import upcampaign.datalib.connection as connection\n",
    "import upcampaign.datalib.features.compute as fcompute\n",
    "# import upcampaign.model_utils as mu"
   ]
  },
  {
   "cell_type": "code",
   "execution_count": 3,
   "metadata": {
    "ExecuteTime": {
     "end_time": "2021-05-10T03:01:18.480081Z",
     "start_time": "2021-05-10T03:01:17.466146Z"
    }
   },
   "outputs": [],
   "source": [
    "import lightgbm as lgb\n",
    "import causalml.metrics as cmetrics\n",
    "import causalml.inference.meta.rlearner as rlearner\n",
    "\n",
    "from sklearn.model_selection import train_test_split"
   ]
  },
  {
   "cell_type": "code",
   "execution_count": null,
   "metadata": {},
   "outputs": [],
   "source": []
  },
  {
   "cell_type": "markdown",
   "metadata": {},
   "source": [
    "## Load'n'cook"
   ]
  },
  {
   "cell_type": "markdown",
   "metadata": {},
   "source": [
    "### engine"
   ]
  },
  {
   "cell_type": "code",
   "execution_count": 4,
   "metadata": {
    "ExecuteTime": {
     "end_time": "2021-05-10T03:01:20.532531Z",
     "start_time": "2021-05-10T03:01:20.289316Z"
    }
   },
   "outputs": [],
   "source": [
    "data_root_path = '../../lessons/L4_feature_store/data/light/'\n",
    "\n",
    "receipts = dd.read_parquet(os.path.join(data_root_path, 'receipts.parquet'))\n",
    "campaigns = dd.read_csv(os.path.join(data_root_path, 'campaigns.csv'))\n",
    "client_profile = dd.read_csv(os.path.join(data_root_path, 'client_profile.csv'))\n",
    "purchases = dd.read_parquet(os.path.join(data_root_path, 'purchases.parquet/'))\n",
    "products = dd.read_csv(os.path.join(data_root_path, 'products.csv'))"
   ]
  },
  {
   "cell_type": "code",
   "execution_count": 5,
   "metadata": {
    "ExecuteTime": {
     "end_time": "2021-05-10T03:01:20.536753Z",
     "start_time": "2021-05-10T03:01:20.534445Z"
    }
   },
   "outputs": [],
   "source": [
    "engine = connection.Engine(tables={\n",
    "    'receipts': receipts,\n",
    "    'campaigns': campaigns,\n",
    "    'client_profile': client_profile,\n",
    "    'purchases': purchases,\n",
    "    'products': products\n",
    "})"
   ]
  },
  {
   "cell_type": "code",
   "execution_count": null,
   "metadata": {},
   "outputs": [],
   "source": []
  },
  {
   "cell_type": "markdown",
   "metadata": {},
   "source": [
    "### extract & transform features"
   ]
  },
  {
   "cell_type": "code",
   "execution_count": 6,
   "metadata": {
    "ExecuteTime": {
     "end_time": "2021-05-10T03:01:23.276883Z",
     "start_time": "2021-05-10T03:01:23.271810Z"
    },
    "code_folding": []
   },
   "outputs": [],
   "source": [
    "MARGIN_RATE = 0.2\n",
    "POINT_TO_RUB = 0.1\n",
    "COMMUNICATION_COST = 1.5\n",
    "\n",
    "data_config = {\n",
    "    'extract': [\n",
    "        {\n",
    "            'name': 'receipts_basic',\n",
    "            'args': {'delta': 60, 'date_to': datetime.date(2019, 3, 19)}\n",
    "        },\n",
    "        {\n",
    "            'name': 'receipts_basic',\n",
    "            'args': {'delta': 15, 'date_to': datetime.date(2019, 3, 19)}\n",
    "        },\n",
    "        {\n",
    "            'name': 'age_gender',\n",
    "            'args': {}\n",
    "        },\n",
    "        {\n",
    "            'name': 'unique_categories',\n",
    "            'args': {\n",
    "                'col_category': 'level_3',\n",
    "                'delta': 60,\n",
    "                'date_to': datetime.date(2019, 3, 19)\n",
    "            }\n",
    "        },\n",
    "        {\n",
    "            'name': 'target_from_campaigns',\n",
    "            'args': {'date_to': datetime.date(2019, 3, 21)}\n",
    "        }\n",
    "    ],\n",
    "    'transform': [\n",
    "        {\n",
    "            'name': 'expression',\n",
    "            'args': {\n",
    "                'expression': f\"{{d}}['target_purchases_sum'] * {MARGIN_RATE} - {{d}}['target_campaign_points_spent'] * {POINT_TO_RUB} - {{d}}['treatment_flg'] * {COMMUNICATION_COST}\",\n",
    "                'col_result': 'target_profit'\n",
    "            }\n",
    "        },\n",
    "        {\n",
    "            'name': 'expression',\n",
    "            'args': {\n",
    "                'expression': \"{d}['purchase_sum_sum__60d'] / {d}['unique_level_3__60d']\",\n",
    "                'col_result': 'purchase_sum_per_category_level_3__60d'\n",
    "            }\n",
    "        },\n",
    "        {\n",
    "            'name': 'one_hot_encode',\n",
    "            'args': {\n",
    "                'cols': ['gender']\n",
    "            }\n",
    "        }\n",
    "    ]\n",
    "}"
   ]
  },
  {
   "cell_type": "code",
   "execution_count": 7,
   "metadata": {
    "ExecuteTime": {
     "end_time": "2021-05-10T03:01:24.959718Z",
     "start_time": "2021-05-10T03:01:24.555291Z"
    },
    "scrolled": true
   },
   "outputs": [
    {
     "name": "stderr",
     "output_type": "stream",
     "text": [
      "\n",
      "You did not provide metadata, so Dask is running your function on a small dataset to guess output types. It is possible that Dask will guess incorrectly.\n",
      "To provide an explicit output types or to silence this message, please provide the `meta=` keyword, as described in the map or apply function that you are using.\n",
      "  Before: .apply(func)\n",
      "  After:  .apply(func, meta=(None, 'float64'))\n",
      "\n",
      "\n",
      "You did not provide metadata, so Dask is running your function on a small dataset to guess output types. It is possible that Dask will guess incorrectly.\n",
      "To provide an explicit output types or to silence this message, please provide the `meta=` keyword, as described in the map or apply function that you are using.\n",
      "  Before: .apply(func)\n",
      "  After:  .apply(func, meta=('transaction_datetime_max', 'float64'))\n",
      "\n",
      "\n",
      "You did not provide metadata, so Dask is running your function on a small dataset to guess output types. It is possible that Dask will guess incorrectly.\n",
      "To provide an explicit output types or to silence this message, please provide the `meta=` keyword, as described in the map or apply function that you are using.\n",
      "  Before: .apply(func)\n",
      "  After:  .apply(func, meta=(None, 'float64'))\n",
      "\n",
      "\n",
      "You did not provide metadata, so Dask is running your function on a small dataset to guess output types. It is possible that Dask will guess incorrectly.\n",
      "To provide an explicit output types or to silence this message, please provide the `meta=` keyword, as described in the map or apply function that you are using.\n",
      "  Before: .apply(func)\n",
      "  After:  .apply(func, meta=('transaction_datetime_max', 'float64'))\n",
      "\n"
     ]
    }
   ],
   "source": [
    "raw_data = fcompute.extract_features(engine, config=data_config['extract'])"
   ]
  },
  {
   "cell_type": "code",
   "execution_count": 9,
   "metadata": {
    "ExecuteTime": {
     "end_time": "2021-05-10T03:15:59.740585Z",
     "start_time": "2021-05-10T03:02:19.453711Z"
    }
   },
   "outputs": [],
   "source": [
    "raw_data = raw_data.compute()"
   ]
  },
  {
   "cell_type": "code",
   "execution_count": 12,
   "metadata": {
    "ExecuteTime": {
     "end_time": "2021-05-10T03:23:07.300036Z",
     "start_time": "2021-05-10T03:23:07.296539Z"
    }
   },
   "outputs": [
    {
     "data": {
      "text/plain": [
       "(500000, 44)"
      ]
     },
     "execution_count": 12,
     "metadata": {},
     "output_type": "execute_result"
    }
   ],
   "source": [
    "raw_data.shape"
   ]
  },
  {
   "cell_type": "code",
   "execution_count": 13,
   "metadata": {
    "ExecuteTime": {
     "end_time": "2021-05-10T03:23:15.878293Z",
     "start_time": "2021-05-10T03:23:15.845292Z"
    }
   },
   "outputs": [
    {
     "data": {
      "text/html": [
       "<div>\n",
       "<style scoped>\n",
       "    .dataframe tbody tr th:only-of-type {\n",
       "        vertical-align: middle;\n",
       "    }\n",
       "\n",
       "    .dataframe tbody tr th {\n",
       "        vertical-align: top;\n",
       "    }\n",
       "\n",
       "    .dataframe thead th {\n",
       "        text-align: right;\n",
       "    }\n",
       "</style>\n",
       "<table border=\"1\" class=\"dataframe\">\n",
       "  <thead>\n",
       "    <tr style=\"text-align: right;\">\n",
       "      <th></th>\n",
       "      <th>client_id</th>\n",
       "      <th>transaction_id_count__60d</th>\n",
       "      <th>purchase_sum_sum__60d</th>\n",
       "      <th>purchase_sum_max__60d</th>\n",
       "      <th>purchase_sum_min__60d</th>\n",
       "      <th>purchase_sum_mean__60d</th>\n",
       "      <th>regular_points_spent_sum__60d</th>\n",
       "      <th>regular_points_spent_max__60d</th>\n",
       "      <th>express_points_spent_sum__60d</th>\n",
       "      <th>express_points_spent_max__60d</th>\n",
       "      <th>...</th>\n",
       "      <th>express_points_spent_flag_sum__15d</th>\n",
       "      <th>mean_time_interval__15d</th>\n",
       "      <th>time_since_last__15d</th>\n",
       "      <th>age</th>\n",
       "      <th>gender</th>\n",
       "      <th>unique_level_3__60d</th>\n",
       "      <th>treatment_flg</th>\n",
       "      <th>target_purchases_sum</th>\n",
       "      <th>target_purchases_count</th>\n",
       "      <th>target_campaign_points_spent</th>\n",
       "    </tr>\n",
       "  </thead>\n",
       "  <tbody>\n",
       "    <tr>\n",
       "      <th>0</th>\n",
       "      <td>0</td>\n",
       "      <td>2</td>\n",
       "      <td>1222.00</td>\n",
       "      <td>803.0</td>\n",
       "      <td>419.0</td>\n",
       "      <td>611.000000</td>\n",
       "      <td>0.0</td>\n",
       "      <td>0.0</td>\n",
       "      <td>0.0</td>\n",
       "      <td>0.0</td>\n",
       "      <td>...</td>\n",
       "      <td>0.0</td>\n",
       "      <td>6.201204</td>\n",
       "      <td>4.373762</td>\n",
       "      <td>45</td>\n",
       "      <td>U</td>\n",
       "      <td>14.0</td>\n",
       "      <td>0</td>\n",
       "      <td>909.0</td>\n",
       "      <td>1</td>\n",
       "      <td>0.0</td>\n",
       "    </tr>\n",
       "    <tr>\n",
       "      <th>1</th>\n",
       "      <td>1</td>\n",
       "      <td>18</td>\n",
       "      <td>5366.00</td>\n",
       "      <td>561.0</td>\n",
       "      <td>58.0</td>\n",
       "      <td>298.111111</td>\n",
       "      <td>0.0</td>\n",
       "      <td>0.0</td>\n",
       "      <td>0.0</td>\n",
       "      <td>0.0</td>\n",
       "      <td>...</td>\n",
       "      <td>0.0</td>\n",
       "      <td>5.969728</td>\n",
       "      <td>1.562766</td>\n",
       "      <td>72</td>\n",
       "      <td>F</td>\n",
       "      <td>31.0</td>\n",
       "      <td>1</td>\n",
       "      <td>791.0</td>\n",
       "      <td>2</td>\n",
       "      <td>-0.0</td>\n",
       "    </tr>\n",
       "    <tr>\n",
       "      <th>2</th>\n",
       "      <td>2</td>\n",
       "      <td>5</td>\n",
       "      <td>2569.00</td>\n",
       "      <td>1204.0</td>\n",
       "      <td>113.0</td>\n",
       "      <td>513.800000</td>\n",
       "      <td>0.0</td>\n",
       "      <td>0.0</td>\n",
       "      <td>0.0</td>\n",
       "      <td>0.0</td>\n",
       "      <td>...</td>\n",
       "      <td>0.0</td>\n",
       "      <td>NaN</td>\n",
       "      <td>6.563669</td>\n",
       "      <td>68</td>\n",
       "      <td>F</td>\n",
       "      <td>12.0</td>\n",
       "      <td>0</td>\n",
       "      <td>0.0</td>\n",
       "      <td>0</td>\n",
       "      <td>0.0</td>\n",
       "    </tr>\n",
       "    <tr>\n",
       "      <th>3</th>\n",
       "      <td>3</td>\n",
       "      <td>2</td>\n",
       "      <td>1446.00</td>\n",
       "      <td>739.0</td>\n",
       "      <td>707.0</td>\n",
       "      <td>723.000000</td>\n",
       "      <td>0.0</td>\n",
       "      <td>0.0</td>\n",
       "      <td>0.0</td>\n",
       "      <td>0.0</td>\n",
       "      <td>...</td>\n",
       "      <td>0.0</td>\n",
       "      <td>NaN</td>\n",
       "      <td>9.679317</td>\n",
       "      <td>48</td>\n",
       "      <td>U</td>\n",
       "      <td>15.0</td>\n",
       "      <td>1</td>\n",
       "      <td>654.0</td>\n",
       "      <td>1</td>\n",
       "      <td>-0.0</td>\n",
       "    </tr>\n",
       "    <tr>\n",
       "      <th>4</th>\n",
       "      <td>4</td>\n",
       "      <td>10</td>\n",
       "      <td>5820.37</td>\n",
       "      <td>1017.0</td>\n",
       "      <td>154.0</td>\n",
       "      <td>582.037000</td>\n",
       "      <td>0.0</td>\n",
       "      <td>0.0</td>\n",
       "      <td>0.0</td>\n",
       "      <td>0.0</td>\n",
       "      <td>...</td>\n",
       "      <td>0.0</td>\n",
       "      <td>NaN</td>\n",
       "      <td>2.596285</td>\n",
       "      <td>60</td>\n",
       "      <td>F</td>\n",
       "      <td>24.0</td>\n",
       "      <td>1</td>\n",
       "      <td>0.0</td>\n",
       "      <td>0</td>\n",
       "      <td>-0.0</td>\n",
       "    </tr>\n",
       "  </tbody>\n",
       "</table>\n",
       "<p>5 rows × 44 columns</p>\n",
       "</div>"
      ],
      "text/plain": [
       "   client_id  transaction_id_count__60d  purchase_sum_sum__60d  \\\n",
       "0          0                          2                1222.00   \n",
       "1          1                         18                5366.00   \n",
       "2          2                          5                2569.00   \n",
       "3          3                          2                1446.00   \n",
       "4          4                         10                5820.37   \n",
       "\n",
       "   purchase_sum_max__60d  purchase_sum_min__60d  purchase_sum_mean__60d  \\\n",
       "0                  803.0                  419.0              611.000000   \n",
       "1                  561.0                   58.0              298.111111   \n",
       "2                 1204.0                  113.0              513.800000   \n",
       "3                  739.0                  707.0              723.000000   \n",
       "4                 1017.0                  154.0              582.037000   \n",
       "\n",
       "   regular_points_spent_sum__60d  regular_points_spent_max__60d  \\\n",
       "0                            0.0                            0.0   \n",
       "1                            0.0                            0.0   \n",
       "2                            0.0                            0.0   \n",
       "3                            0.0                            0.0   \n",
       "4                            0.0                            0.0   \n",
       "\n",
       "   express_points_spent_sum__60d  express_points_spent_max__60d  ...  \\\n",
       "0                            0.0                            0.0  ...   \n",
       "1                            0.0                            0.0  ...   \n",
       "2                            0.0                            0.0  ...   \n",
       "3                            0.0                            0.0  ...   \n",
       "4                            0.0                            0.0  ...   \n",
       "\n",
       "  express_points_spent_flag_sum__15d mean_time_interval__15d  \\\n",
       "0                                0.0                6.201204   \n",
       "1                                0.0                5.969728   \n",
       "2                                0.0                     NaN   \n",
       "3                                0.0                     NaN   \n",
       "4                                0.0                     NaN   \n",
       "\n",
       "   time_since_last__15d  age  gender  unique_level_3__60d  treatment_flg  \\\n",
       "0              4.373762   45       U                 14.0              0   \n",
       "1              1.562766   72       F                 31.0              1   \n",
       "2              6.563669   68       F                 12.0              0   \n",
       "3              9.679317   48       U                 15.0              1   \n",
       "4              2.596285   60       F                 24.0              1   \n",
       "\n",
       "   target_purchases_sum  target_purchases_count  target_campaign_points_spent  \n",
       "0                 909.0                       1                           0.0  \n",
       "1                 791.0                       2                          -0.0  \n",
       "2                   0.0                       0                           0.0  \n",
       "3                 654.0                       1                          -0.0  \n",
       "4                   0.0                       0                          -0.0  \n",
       "\n",
       "[5 rows x 44 columns]"
      ]
     },
     "execution_count": 13,
     "metadata": {},
     "output_type": "execute_result"
    }
   ],
   "source": [
    "raw_data.head()"
   ]
  },
  {
   "cell_type": "code",
   "execution_count": null,
   "metadata": {},
   "outputs": [],
   "source": []
  },
  {
   "cell_type": "code",
   "execution_count": 23,
   "metadata": {
    "ExecuteTime": {
     "end_time": "2021-05-10T03:28:18.483901Z",
     "start_time": "2021-05-10T03:28:18.481396Z"
    }
   },
   "outputs": [],
   "source": [
    "transform_pipeline = fcompute.create_pipeline(data_config['transform'])"
   ]
  },
  {
   "cell_type": "code",
   "execution_count": 24,
   "metadata": {
    "ExecuteTime": {
     "end_time": "2021-05-10T03:28:20.996998Z",
     "start_time": "2021-05-10T03:28:20.528544Z"
    }
   },
   "outputs": [],
   "source": [
    "data = transform_pipeline.fit_transform(raw_data.copy())"
   ]
  },
  {
   "cell_type": "code",
   "execution_count": 25,
   "metadata": {
    "ExecuteTime": {
     "end_time": "2021-05-10T03:28:23.553436Z",
     "start_time": "2021-05-10T03:28:23.502529Z"
    },
    "scrolled": true
   },
   "outputs": [
    {
     "data": {
      "text/html": [
       "<div>\n",
       "<style scoped>\n",
       "    .dataframe tbody tr th:only-of-type {\n",
       "        vertical-align: middle;\n",
       "    }\n",
       "\n",
       "    .dataframe tbody tr th {\n",
       "        vertical-align: top;\n",
       "    }\n",
       "\n",
       "    .dataframe thead th {\n",
       "        text-align: right;\n",
       "    }\n",
       "</style>\n",
       "<table border=\"1\" class=\"dataframe\">\n",
       "  <thead>\n",
       "    <tr style=\"text-align: right;\">\n",
       "      <th></th>\n",
       "      <th>client_id</th>\n",
       "      <th>transaction_id_count__60d</th>\n",
       "      <th>purchase_sum_sum__60d</th>\n",
       "      <th>purchase_sum_max__60d</th>\n",
       "      <th>purchase_sum_min__60d</th>\n",
       "      <th>purchase_sum_mean__60d</th>\n",
       "      <th>regular_points_spent_sum__60d</th>\n",
       "      <th>regular_points_spent_max__60d</th>\n",
       "      <th>express_points_spent_sum__60d</th>\n",
       "      <th>express_points_spent_max__60d</th>\n",
       "      <th>...</th>\n",
       "      <th>unique_level_3__60d</th>\n",
       "      <th>treatment_flg</th>\n",
       "      <th>target_purchases_sum</th>\n",
       "      <th>target_purchases_count</th>\n",
       "      <th>target_campaign_points_spent</th>\n",
       "      <th>target_profit</th>\n",
       "      <th>purchase_sum_per_category_level_3__60d</th>\n",
       "      <th>ohe__gender__F</th>\n",
       "      <th>ohe__gender__M</th>\n",
       "      <th>ohe__gender__U</th>\n",
       "    </tr>\n",
       "  </thead>\n",
       "  <tbody>\n",
       "    <tr>\n",
       "      <th>0</th>\n",
       "      <td>0</td>\n",
       "      <td>2</td>\n",
       "      <td>1222.00</td>\n",
       "      <td>803.00</td>\n",
       "      <td>419.00</td>\n",
       "      <td>611.000000</td>\n",
       "      <td>0.0</td>\n",
       "      <td>0.0</td>\n",
       "      <td>0.0</td>\n",
       "      <td>0.0</td>\n",
       "      <td>...</td>\n",
       "      <td>14.0</td>\n",
       "      <td>0</td>\n",
       "      <td>909.00</td>\n",
       "      <td>1</td>\n",
       "      <td>0.0</td>\n",
       "      <td>181.800</td>\n",
       "      <td>87.285714</td>\n",
       "      <td>0.0</td>\n",
       "      <td>0.0</td>\n",
       "      <td>1.0</td>\n",
       "    </tr>\n",
       "    <tr>\n",
       "      <th>1</th>\n",
       "      <td>1</td>\n",
       "      <td>18</td>\n",
       "      <td>5366.00</td>\n",
       "      <td>561.00</td>\n",
       "      <td>58.00</td>\n",
       "      <td>298.111111</td>\n",
       "      <td>0.0</td>\n",
       "      <td>0.0</td>\n",
       "      <td>0.0</td>\n",
       "      <td>0.0</td>\n",
       "      <td>...</td>\n",
       "      <td>31.0</td>\n",
       "      <td>1</td>\n",
       "      <td>791.00</td>\n",
       "      <td>2</td>\n",
       "      <td>-0.0</td>\n",
       "      <td>156.700</td>\n",
       "      <td>173.096774</td>\n",
       "      <td>1.0</td>\n",
       "      <td>0.0</td>\n",
       "      <td>0.0</td>\n",
       "    </tr>\n",
       "    <tr>\n",
       "      <th>2</th>\n",
       "      <td>2</td>\n",
       "      <td>5</td>\n",
       "      <td>2569.00</td>\n",
       "      <td>1204.00</td>\n",
       "      <td>113.00</td>\n",
       "      <td>513.800000</td>\n",
       "      <td>0.0</td>\n",
       "      <td>0.0</td>\n",
       "      <td>0.0</td>\n",
       "      <td>0.0</td>\n",
       "      <td>...</td>\n",
       "      <td>12.0</td>\n",
       "      <td>0</td>\n",
       "      <td>0.00</td>\n",
       "      <td>0</td>\n",
       "      <td>0.0</td>\n",
       "      <td>0.000</td>\n",
       "      <td>214.083333</td>\n",
       "      <td>1.0</td>\n",
       "      <td>0.0</td>\n",
       "      <td>0.0</td>\n",
       "    </tr>\n",
       "    <tr>\n",
       "      <th>3</th>\n",
       "      <td>3</td>\n",
       "      <td>2</td>\n",
       "      <td>1446.00</td>\n",
       "      <td>739.00</td>\n",
       "      <td>707.00</td>\n",
       "      <td>723.000000</td>\n",
       "      <td>0.0</td>\n",
       "      <td>0.0</td>\n",
       "      <td>0.0</td>\n",
       "      <td>0.0</td>\n",
       "      <td>...</td>\n",
       "      <td>15.0</td>\n",
       "      <td>1</td>\n",
       "      <td>654.00</td>\n",
       "      <td>1</td>\n",
       "      <td>-0.0</td>\n",
       "      <td>129.300</td>\n",
       "      <td>96.400000</td>\n",
       "      <td>0.0</td>\n",
       "      <td>0.0</td>\n",
       "      <td>1.0</td>\n",
       "    </tr>\n",
       "    <tr>\n",
       "      <th>4</th>\n",
       "      <td>4</td>\n",
       "      <td>10</td>\n",
       "      <td>5820.37</td>\n",
       "      <td>1017.00</td>\n",
       "      <td>154.00</td>\n",
       "      <td>582.037000</td>\n",
       "      <td>0.0</td>\n",
       "      <td>0.0</td>\n",
       "      <td>0.0</td>\n",
       "      <td>0.0</td>\n",
       "      <td>...</td>\n",
       "      <td>24.0</td>\n",
       "      <td>1</td>\n",
       "      <td>0.00</td>\n",
       "      <td>0</td>\n",
       "      <td>-0.0</td>\n",
       "      <td>-1.500</td>\n",
       "      <td>242.515417</td>\n",
       "      <td>1.0</td>\n",
       "      <td>0.0</td>\n",
       "      <td>0.0</td>\n",
       "    </tr>\n",
       "    <tr>\n",
       "      <th>5</th>\n",
       "      <td>5</td>\n",
       "      <td>3</td>\n",
       "      <td>1800.84</td>\n",
       "      <td>1043.84</td>\n",
       "      <td>377.00</td>\n",
       "      <td>600.280000</td>\n",
       "      <td>0.0</td>\n",
       "      <td>0.0</td>\n",
       "      <td>0.0</td>\n",
       "      <td>0.0</td>\n",
       "      <td>...</td>\n",
       "      <td>16.0</td>\n",
       "      <td>1</td>\n",
       "      <td>374.76</td>\n",
       "      <td>1</td>\n",
       "      <td>-0.0</td>\n",
       "      <td>73.452</td>\n",
       "      <td>112.552500</td>\n",
       "      <td>0.0</td>\n",
       "      <td>0.0</td>\n",
       "      <td>1.0</td>\n",
       "    </tr>\n",
       "    <tr>\n",
       "      <th>6</th>\n",
       "      <td>6</td>\n",
       "      <td>15</td>\n",
       "      <td>3718.55</td>\n",
       "      <td>555.95</td>\n",
       "      <td>25.99</td>\n",
       "      <td>247.903333</td>\n",
       "      <td>-127.0</td>\n",
       "      <td>0.0</td>\n",
       "      <td>0.0</td>\n",
       "      <td>0.0</td>\n",
       "      <td>...</td>\n",
       "      <td>26.0</td>\n",
       "      <td>0</td>\n",
       "      <td>155.97</td>\n",
       "      <td>1</td>\n",
       "      <td>0.0</td>\n",
       "      <td>31.194</td>\n",
       "      <td>143.021154</td>\n",
       "      <td>1.0</td>\n",
       "      <td>0.0</td>\n",
       "      <td>0.0</td>\n",
       "    </tr>\n",
       "    <tr>\n",
       "      <th>7</th>\n",
       "      <td>7</td>\n",
       "      <td>21</td>\n",
       "      <td>9166.66</td>\n",
       "      <td>1454.00</td>\n",
       "      <td>124.12</td>\n",
       "      <td>436.507619</td>\n",
       "      <td>-92.0</td>\n",
       "      <td>0.0</td>\n",
       "      <td>0.0</td>\n",
       "      <td>0.0</td>\n",
       "      <td>...</td>\n",
       "      <td>34.0</td>\n",
       "      <td>0</td>\n",
       "      <td>1036.00</td>\n",
       "      <td>1</td>\n",
       "      <td>0.0</td>\n",
       "      <td>207.200</td>\n",
       "      <td>269.607647</td>\n",
       "      <td>0.0</td>\n",
       "      <td>0.0</td>\n",
       "      <td>1.0</td>\n",
       "    </tr>\n",
       "    <tr>\n",
       "      <th>8</th>\n",
       "      <td>8</td>\n",
       "      <td>19</td>\n",
       "      <td>5175.83</td>\n",
       "      <td>587.17</td>\n",
       "      <td>46.00</td>\n",
       "      <td>272.412105</td>\n",
       "      <td>0.0</td>\n",
       "      <td>0.0</td>\n",
       "      <td>0.0</td>\n",
       "      <td>0.0</td>\n",
       "      <td>...</td>\n",
       "      <td>27.0</td>\n",
       "      <td>1</td>\n",
       "      <td>784.67</td>\n",
       "      <td>3</td>\n",
       "      <td>300.0</td>\n",
       "      <td>125.434</td>\n",
       "      <td>191.697407</td>\n",
       "      <td>0.0</td>\n",
       "      <td>0.0</td>\n",
       "      <td>1.0</td>\n",
       "    </tr>\n",
       "    <tr>\n",
       "      <th>9</th>\n",
       "      <td>9</td>\n",
       "      <td>4</td>\n",
       "      <td>3270.63</td>\n",
       "      <td>1965.00</td>\n",
       "      <td>247.00</td>\n",
       "      <td>817.657500</td>\n",
       "      <td>0.0</td>\n",
       "      <td>0.0</td>\n",
       "      <td>0.0</td>\n",
       "      <td>0.0</td>\n",
       "      <td>...</td>\n",
       "      <td>17.0</td>\n",
       "      <td>1</td>\n",
       "      <td>1455.48</td>\n",
       "      <td>4</td>\n",
       "      <td>300.0</td>\n",
       "      <td>259.596</td>\n",
       "      <td>192.390000</td>\n",
       "      <td>0.0</td>\n",
       "      <td>1.0</td>\n",
       "      <td>0.0</td>\n",
       "    </tr>\n",
       "    <tr>\n",
       "      <th>10</th>\n",
       "      <td>10</td>\n",
       "      <td>31</td>\n",
       "      <td>8908.08</td>\n",
       "      <td>948.75</td>\n",
       "      <td>44.00</td>\n",
       "      <td>287.357419</td>\n",
       "      <td>0.0</td>\n",
       "      <td>0.0</td>\n",
       "      <td>0.0</td>\n",
       "      <td>0.0</td>\n",
       "      <td>...</td>\n",
       "      <td>31.0</td>\n",
       "      <td>1</td>\n",
       "      <td>232.46</td>\n",
       "      <td>1</td>\n",
       "      <td>-0.0</td>\n",
       "      <td>44.992</td>\n",
       "      <td>287.357419</td>\n",
       "      <td>0.0</td>\n",
       "      <td>0.0</td>\n",
       "      <td>1.0</td>\n",
       "    </tr>\n",
       "    <tr>\n",
       "      <th>11</th>\n",
       "      <td>11</td>\n",
       "      <td>16</td>\n",
       "      <td>1798.22</td>\n",
       "      <td>442.00</td>\n",
       "      <td>20.00</td>\n",
       "      <td>112.388750</td>\n",
       "      <td>0.0</td>\n",
       "      <td>0.0</td>\n",
       "      <td>0.0</td>\n",
       "      <td>0.0</td>\n",
       "      <td>...</td>\n",
       "      <td>11.0</td>\n",
       "      <td>0</td>\n",
       "      <td>180.00</td>\n",
       "      <td>2</td>\n",
       "      <td>0.0</td>\n",
       "      <td>36.000</td>\n",
       "      <td>163.474545</td>\n",
       "      <td>1.0</td>\n",
       "      <td>0.0</td>\n",
       "      <td>0.0</td>\n",
       "    </tr>\n",
       "    <tr>\n",
       "      <th>12</th>\n",
       "      <td>12</td>\n",
       "      <td>3</td>\n",
       "      <td>3768.95</td>\n",
       "      <td>2167.88</td>\n",
       "      <td>757.37</td>\n",
       "      <td>1256.316667</td>\n",
       "      <td>0.0</td>\n",
       "      <td>0.0</td>\n",
       "      <td>0.0</td>\n",
       "      <td>0.0</td>\n",
       "      <td>...</td>\n",
       "      <td>16.0</td>\n",
       "      <td>1</td>\n",
       "      <td>0.00</td>\n",
       "      <td>0</td>\n",
       "      <td>-0.0</td>\n",
       "      <td>-1.500</td>\n",
       "      <td>235.559375</td>\n",
       "      <td>1.0</td>\n",
       "      <td>0.0</td>\n",
       "      <td>0.0</td>\n",
       "    </tr>\n",
       "    <tr>\n",
       "      <th>13</th>\n",
       "      <td>13</td>\n",
       "      <td>26</td>\n",
       "      <td>1043.00</td>\n",
       "      <td>93.00</td>\n",
       "      <td>20.00</td>\n",
       "      <td>40.115385</td>\n",
       "      <td>-11.0</td>\n",
       "      <td>0.0</td>\n",
       "      <td>0.0</td>\n",
       "      <td>0.0</td>\n",
       "      <td>...</td>\n",
       "      <td>8.0</td>\n",
       "      <td>1</td>\n",
       "      <td>0.00</td>\n",
       "      <td>0</td>\n",
       "      <td>-0.0</td>\n",
       "      <td>-1.500</td>\n",
       "      <td>130.375000</td>\n",
       "      <td>0.0</td>\n",
       "      <td>0.0</td>\n",
       "      <td>1.0</td>\n",
       "    </tr>\n",
       "    <tr>\n",
       "      <th>14</th>\n",
       "      <td>14</td>\n",
       "      <td>11</td>\n",
       "      <td>3748.00</td>\n",
       "      <td>505.00</td>\n",
       "      <td>184.00</td>\n",
       "      <td>340.727273</td>\n",
       "      <td>0.0</td>\n",
       "      <td>0.0</td>\n",
       "      <td>0.0</td>\n",
       "      <td>0.0</td>\n",
       "      <td>...</td>\n",
       "      <td>17.0</td>\n",
       "      <td>1</td>\n",
       "      <td>155.00</td>\n",
       "      <td>1</td>\n",
       "      <td>-0.0</td>\n",
       "      <td>29.500</td>\n",
       "      <td>220.470588</td>\n",
       "      <td>0.0</td>\n",
       "      <td>0.0</td>\n",
       "      <td>1.0</td>\n",
       "    </tr>\n",
       "    <tr>\n",
       "      <th>15</th>\n",
       "      <td>15</td>\n",
       "      <td>11</td>\n",
       "      <td>3508.23</td>\n",
       "      <td>641.00</td>\n",
       "      <td>43.00</td>\n",
       "      <td>318.930000</td>\n",
       "      <td>0.0</td>\n",
       "      <td>0.0</td>\n",
       "      <td>0.0</td>\n",
       "      <td>0.0</td>\n",
       "      <td>...</td>\n",
       "      <td>25.0</td>\n",
       "      <td>1</td>\n",
       "      <td>1392.00</td>\n",
       "      <td>3</td>\n",
       "      <td>-0.0</td>\n",
       "      <td>276.900</td>\n",
       "      <td>140.329200</td>\n",
       "      <td>1.0</td>\n",
       "      <td>0.0</td>\n",
       "      <td>0.0</td>\n",
       "    </tr>\n",
       "    <tr>\n",
       "      <th>16</th>\n",
       "      <td>16</td>\n",
       "      <td>4</td>\n",
       "      <td>1560.00</td>\n",
       "      <td>627.00</td>\n",
       "      <td>236.00</td>\n",
       "      <td>390.000000</td>\n",
       "      <td>0.0</td>\n",
       "      <td>0.0</td>\n",
       "      <td>0.0</td>\n",
       "      <td>0.0</td>\n",
       "      <td>...</td>\n",
       "      <td>14.0</td>\n",
       "      <td>1</td>\n",
       "      <td>479.00</td>\n",
       "      <td>1</td>\n",
       "      <td>-0.0</td>\n",
       "      <td>94.300</td>\n",
       "      <td>111.428571</td>\n",
       "      <td>1.0</td>\n",
       "      <td>0.0</td>\n",
       "      <td>0.0</td>\n",
       "    </tr>\n",
       "    <tr>\n",
       "      <th>17</th>\n",
       "      <td>17</td>\n",
       "      <td>10</td>\n",
       "      <td>2980.56</td>\n",
       "      <td>686.15</td>\n",
       "      <td>22.00</td>\n",
       "      <td>298.056000</td>\n",
       "      <td>0.0</td>\n",
       "      <td>0.0</td>\n",
       "      <td>0.0</td>\n",
       "      <td>0.0</td>\n",
       "      <td>...</td>\n",
       "      <td>28.0</td>\n",
       "      <td>1</td>\n",
       "      <td>1364.84</td>\n",
       "      <td>5</td>\n",
       "      <td>-0.0</td>\n",
       "      <td>271.468</td>\n",
       "      <td>106.448571</td>\n",
       "      <td>1.0</td>\n",
       "      <td>0.0</td>\n",
       "      <td>0.0</td>\n",
       "    </tr>\n",
       "    <tr>\n",
       "      <th>18</th>\n",
       "      <td>18</td>\n",
       "      <td>11</td>\n",
       "      <td>13075.65</td>\n",
       "      <td>2141.64</td>\n",
       "      <td>89.00</td>\n",
       "      <td>1188.695455</td>\n",
       "      <td>-592.0</td>\n",
       "      <td>0.0</td>\n",
       "      <td>-30.0</td>\n",
       "      <td>0.0</td>\n",
       "      <td>...</td>\n",
       "      <td>30.0</td>\n",
       "      <td>1</td>\n",
       "      <td>1671.55</td>\n",
       "      <td>1</td>\n",
       "      <td>-0.0</td>\n",
       "      <td>332.810</td>\n",
       "      <td>435.855000</td>\n",
       "      <td>0.0</td>\n",
       "      <td>0.0</td>\n",
       "      <td>1.0</td>\n",
       "    </tr>\n",
       "    <tr>\n",
       "      <th>19</th>\n",
       "      <td>19</td>\n",
       "      <td>12</td>\n",
       "      <td>5769.08</td>\n",
       "      <td>1210.53</td>\n",
       "      <td>61.00</td>\n",
       "      <td>480.756667</td>\n",
       "      <td>0.0</td>\n",
       "      <td>0.0</td>\n",
       "      <td>0.0</td>\n",
       "      <td>0.0</td>\n",
       "      <td>...</td>\n",
       "      <td>28.0</td>\n",
       "      <td>0</td>\n",
       "      <td>199.00</td>\n",
       "      <td>1</td>\n",
       "      <td>0.0</td>\n",
       "      <td>39.800</td>\n",
       "      <td>206.038571</td>\n",
       "      <td>0.0</td>\n",
       "      <td>1.0</td>\n",
       "      <td>0.0</td>\n",
       "    </tr>\n",
       "    <tr>\n",
       "      <th>20</th>\n",
       "      <td>20</td>\n",
       "      <td>16</td>\n",
       "      <td>3813.76</td>\n",
       "      <td>1033.02</td>\n",
       "      <td>29.00</td>\n",
       "      <td>238.360000</td>\n",
       "      <td>-48.0</td>\n",
       "      <td>0.0</td>\n",
       "      <td>0.0</td>\n",
       "      <td>0.0</td>\n",
       "      <td>...</td>\n",
       "      <td>25.0</td>\n",
       "      <td>1</td>\n",
       "      <td>925.53</td>\n",
       "      <td>3</td>\n",
       "      <td>300.0</td>\n",
       "      <td>153.606</td>\n",
       "      <td>152.550400</td>\n",
       "      <td>0.0</td>\n",
       "      <td>0.0</td>\n",
       "      <td>1.0</td>\n",
       "    </tr>\n",
       "    <tr>\n",
       "      <th>21</th>\n",
       "      <td>21</td>\n",
       "      <td>10</td>\n",
       "      <td>2953.19</td>\n",
       "      <td>754.67</td>\n",
       "      <td>23.00</td>\n",
       "      <td>295.319000</td>\n",
       "      <td>0.0</td>\n",
       "      <td>0.0</td>\n",
       "      <td>0.0</td>\n",
       "      <td>0.0</td>\n",
       "      <td>...</td>\n",
       "      <td>28.0</td>\n",
       "      <td>0</td>\n",
       "      <td>864.26</td>\n",
       "      <td>4</td>\n",
       "      <td>0.0</td>\n",
       "      <td>172.852</td>\n",
       "      <td>105.471071</td>\n",
       "      <td>0.0</td>\n",
       "      <td>0.0</td>\n",
       "      <td>1.0</td>\n",
       "    </tr>\n",
       "    <tr>\n",
       "      <th>22</th>\n",
       "      <td>22</td>\n",
       "      <td>26</td>\n",
       "      <td>6490.00</td>\n",
       "      <td>761.00</td>\n",
       "      <td>35.00</td>\n",
       "      <td>249.615385</td>\n",
       "      <td>-199.0</td>\n",
       "      <td>0.0</td>\n",
       "      <td>-30.0</td>\n",
       "      <td>0.0</td>\n",
       "      <td>...</td>\n",
       "      <td>31.0</td>\n",
       "      <td>1</td>\n",
       "      <td>1264.00</td>\n",
       "      <td>3</td>\n",
       "      <td>-0.0</td>\n",
       "      <td>251.300</td>\n",
       "      <td>209.354839</td>\n",
       "      <td>0.0</td>\n",
       "      <td>0.0</td>\n",
       "      <td>1.0</td>\n",
       "    </tr>\n",
       "    <tr>\n",
       "      <th>23</th>\n",
       "      <td>23</td>\n",
       "      <td>28</td>\n",
       "      <td>8644.89</td>\n",
       "      <td>1328.31</td>\n",
       "      <td>74.00</td>\n",
       "      <td>308.746071</td>\n",
       "      <td>-60.0</td>\n",
       "      <td>0.0</td>\n",
       "      <td>0.0</td>\n",
       "      <td>0.0</td>\n",
       "      <td>...</td>\n",
       "      <td>36.0</td>\n",
       "      <td>0</td>\n",
       "      <td>1079.76</td>\n",
       "      <td>4</td>\n",
       "      <td>0.0</td>\n",
       "      <td>215.952</td>\n",
       "      <td>240.135833</td>\n",
       "      <td>1.0</td>\n",
       "      <td>0.0</td>\n",
       "      <td>0.0</td>\n",
       "    </tr>\n",
       "    <tr>\n",
       "      <th>24</th>\n",
       "      <td>24</td>\n",
       "      <td>13</td>\n",
       "      <td>2722.42</td>\n",
       "      <td>642.39</td>\n",
       "      <td>55.00</td>\n",
       "      <td>209.416923</td>\n",
       "      <td>-2.0</td>\n",
       "      <td>0.0</td>\n",
       "      <td>0.0</td>\n",
       "      <td>0.0</td>\n",
       "      <td>...</td>\n",
       "      <td>14.0</td>\n",
       "      <td>1</td>\n",
       "      <td>0.00</td>\n",
       "      <td>0</td>\n",
       "      <td>-0.0</td>\n",
       "      <td>-1.500</td>\n",
       "      <td>194.458571</td>\n",
       "      <td>1.0</td>\n",
       "      <td>0.0</td>\n",
       "      <td>0.0</td>\n",
       "    </tr>\n",
       "    <tr>\n",
       "      <th>25</th>\n",
       "      <td>25</td>\n",
       "      <td>12</td>\n",
       "      <td>9789.30</td>\n",
       "      <td>2495.26</td>\n",
       "      <td>66.00</td>\n",
       "      <td>815.775000</td>\n",
       "      <td>0.0</td>\n",
       "      <td>0.0</td>\n",
       "      <td>0.0</td>\n",
       "      <td>0.0</td>\n",
       "      <td>...</td>\n",
       "      <td>28.0</td>\n",
       "      <td>0</td>\n",
       "      <td>246.43</td>\n",
       "      <td>1</td>\n",
       "      <td>0.0</td>\n",
       "      <td>49.286</td>\n",
       "      <td>349.617857</td>\n",
       "      <td>1.0</td>\n",
       "      <td>0.0</td>\n",
       "      <td>0.0</td>\n",
       "    </tr>\n",
       "    <tr>\n",
       "      <th>26</th>\n",
       "      <td>26</td>\n",
       "      <td>1</td>\n",
       "      <td>299.00</td>\n",
       "      <td>299.00</td>\n",
       "      <td>299.00</td>\n",
       "      <td>299.000000</td>\n",
       "      <td>0.0</td>\n",
       "      <td>0.0</td>\n",
       "      <td>0.0</td>\n",
       "      <td>0.0</td>\n",
       "      <td>...</td>\n",
       "      <td>1.0</td>\n",
       "      <td>0</td>\n",
       "      <td>0.00</td>\n",
       "      <td>0</td>\n",
       "      <td>0.0</td>\n",
       "      <td>0.000</td>\n",
       "      <td>299.000000</td>\n",
       "      <td>0.0</td>\n",
       "      <td>0.0</td>\n",
       "      <td>1.0</td>\n",
       "    </tr>\n",
       "    <tr>\n",
       "      <th>27</th>\n",
       "      <td>27</td>\n",
       "      <td>4</td>\n",
       "      <td>2896.39</td>\n",
       "      <td>1026.66</td>\n",
       "      <td>564.64</td>\n",
       "      <td>724.097500</td>\n",
       "      <td>0.0</td>\n",
       "      <td>0.0</td>\n",
       "      <td>0.0</td>\n",
       "      <td>0.0</td>\n",
       "      <td>...</td>\n",
       "      <td>24.0</td>\n",
       "      <td>1</td>\n",
       "      <td>0.00</td>\n",
       "      <td>0</td>\n",
       "      <td>-0.0</td>\n",
       "      <td>-1.500</td>\n",
       "      <td>120.682917</td>\n",
       "      <td>1.0</td>\n",
       "      <td>0.0</td>\n",
       "      <td>0.0</td>\n",
       "    </tr>\n",
       "    <tr>\n",
       "      <th>28</th>\n",
       "      <td>28</td>\n",
       "      <td>3</td>\n",
       "      <td>1791.94</td>\n",
       "      <td>786.00</td>\n",
       "      <td>240.00</td>\n",
       "      <td>597.313333</td>\n",
       "      <td>-8.0</td>\n",
       "      <td>0.0</td>\n",
       "      <td>-30.0</td>\n",
       "      <td>0.0</td>\n",
       "      <td>...</td>\n",
       "      <td>16.0</td>\n",
       "      <td>0</td>\n",
       "      <td>0.00</td>\n",
       "      <td>0</td>\n",
       "      <td>0.0</td>\n",
       "      <td>0.000</td>\n",
       "      <td>111.996250</td>\n",
       "      <td>0.0</td>\n",
       "      <td>0.0</td>\n",
       "      <td>1.0</td>\n",
       "    </tr>\n",
       "    <tr>\n",
       "      <th>29</th>\n",
       "      <td>29</td>\n",
       "      <td>4</td>\n",
       "      <td>1103.00</td>\n",
       "      <td>642.00</td>\n",
       "      <td>76.00</td>\n",
       "      <td>275.750000</td>\n",
       "      <td>0.0</td>\n",
       "      <td>0.0</td>\n",
       "      <td>0.0</td>\n",
       "      <td>0.0</td>\n",
       "      <td>...</td>\n",
       "      <td>15.0</td>\n",
       "      <td>0</td>\n",
       "      <td>0.00</td>\n",
       "      <td>0</td>\n",
       "      <td>0.0</td>\n",
       "      <td>0.000</td>\n",
       "      <td>73.533333</td>\n",
       "      <td>0.0</td>\n",
       "      <td>0.0</td>\n",
       "      <td>1.0</td>\n",
       "    </tr>\n",
       "  </tbody>\n",
       "</table>\n",
       "<p>30 rows × 49 columns</p>\n",
       "</div>"
      ],
      "text/plain": [
       "    client_id  transaction_id_count__60d  purchase_sum_sum__60d  \\\n",
       "0           0                          2                1222.00   \n",
       "1           1                         18                5366.00   \n",
       "2           2                          5                2569.00   \n",
       "3           3                          2                1446.00   \n",
       "4           4                         10                5820.37   \n",
       "5           5                          3                1800.84   \n",
       "6           6                         15                3718.55   \n",
       "7           7                         21                9166.66   \n",
       "8           8                         19                5175.83   \n",
       "9           9                          4                3270.63   \n",
       "10         10                         31                8908.08   \n",
       "11         11                         16                1798.22   \n",
       "12         12                          3                3768.95   \n",
       "13         13                         26                1043.00   \n",
       "14         14                         11                3748.00   \n",
       "15         15                         11                3508.23   \n",
       "16         16                          4                1560.00   \n",
       "17         17                         10                2980.56   \n",
       "18         18                         11               13075.65   \n",
       "19         19                         12                5769.08   \n",
       "20         20                         16                3813.76   \n",
       "21         21                         10                2953.19   \n",
       "22         22                         26                6490.00   \n",
       "23         23                         28                8644.89   \n",
       "24         24                         13                2722.42   \n",
       "25         25                         12                9789.30   \n",
       "26         26                          1                 299.00   \n",
       "27         27                          4                2896.39   \n",
       "28         28                          3                1791.94   \n",
       "29         29                          4                1103.00   \n",
       "\n",
       "    purchase_sum_max__60d  purchase_sum_min__60d  purchase_sum_mean__60d  \\\n",
       "0                  803.00                 419.00              611.000000   \n",
       "1                  561.00                  58.00              298.111111   \n",
       "2                 1204.00                 113.00              513.800000   \n",
       "3                  739.00                 707.00              723.000000   \n",
       "4                 1017.00                 154.00              582.037000   \n",
       "5                 1043.84                 377.00              600.280000   \n",
       "6                  555.95                  25.99              247.903333   \n",
       "7                 1454.00                 124.12              436.507619   \n",
       "8                  587.17                  46.00              272.412105   \n",
       "9                 1965.00                 247.00              817.657500   \n",
       "10                 948.75                  44.00              287.357419   \n",
       "11                 442.00                  20.00              112.388750   \n",
       "12                2167.88                 757.37             1256.316667   \n",
       "13                  93.00                  20.00               40.115385   \n",
       "14                 505.00                 184.00              340.727273   \n",
       "15                 641.00                  43.00              318.930000   \n",
       "16                 627.00                 236.00              390.000000   \n",
       "17                 686.15                  22.00              298.056000   \n",
       "18                2141.64                  89.00             1188.695455   \n",
       "19                1210.53                  61.00              480.756667   \n",
       "20                1033.02                  29.00              238.360000   \n",
       "21                 754.67                  23.00              295.319000   \n",
       "22                 761.00                  35.00              249.615385   \n",
       "23                1328.31                  74.00              308.746071   \n",
       "24                 642.39                  55.00              209.416923   \n",
       "25                2495.26                  66.00              815.775000   \n",
       "26                 299.00                 299.00              299.000000   \n",
       "27                1026.66                 564.64              724.097500   \n",
       "28                 786.00                 240.00              597.313333   \n",
       "29                 642.00                  76.00              275.750000   \n",
       "\n",
       "    regular_points_spent_sum__60d  regular_points_spent_max__60d  \\\n",
       "0                             0.0                            0.0   \n",
       "1                             0.0                            0.0   \n",
       "2                             0.0                            0.0   \n",
       "3                             0.0                            0.0   \n",
       "4                             0.0                            0.0   \n",
       "5                             0.0                            0.0   \n",
       "6                          -127.0                            0.0   \n",
       "7                           -92.0                            0.0   \n",
       "8                             0.0                            0.0   \n",
       "9                             0.0                            0.0   \n",
       "10                            0.0                            0.0   \n",
       "11                            0.0                            0.0   \n",
       "12                            0.0                            0.0   \n",
       "13                          -11.0                            0.0   \n",
       "14                            0.0                            0.0   \n",
       "15                            0.0                            0.0   \n",
       "16                            0.0                            0.0   \n",
       "17                            0.0                            0.0   \n",
       "18                         -592.0                            0.0   \n",
       "19                            0.0                            0.0   \n",
       "20                          -48.0                            0.0   \n",
       "21                            0.0                            0.0   \n",
       "22                         -199.0                            0.0   \n",
       "23                          -60.0                            0.0   \n",
       "24                           -2.0                            0.0   \n",
       "25                            0.0                            0.0   \n",
       "26                            0.0                            0.0   \n",
       "27                            0.0                            0.0   \n",
       "28                           -8.0                            0.0   \n",
       "29                            0.0                            0.0   \n",
       "\n",
       "    express_points_spent_sum__60d  express_points_spent_max__60d  ...  \\\n",
       "0                             0.0                            0.0  ...   \n",
       "1                             0.0                            0.0  ...   \n",
       "2                             0.0                            0.0  ...   \n",
       "3                             0.0                            0.0  ...   \n",
       "4                             0.0                            0.0  ...   \n",
       "5                             0.0                            0.0  ...   \n",
       "6                             0.0                            0.0  ...   \n",
       "7                             0.0                            0.0  ...   \n",
       "8                             0.0                            0.0  ...   \n",
       "9                             0.0                            0.0  ...   \n",
       "10                            0.0                            0.0  ...   \n",
       "11                            0.0                            0.0  ...   \n",
       "12                            0.0                            0.0  ...   \n",
       "13                            0.0                            0.0  ...   \n",
       "14                            0.0                            0.0  ...   \n",
       "15                            0.0                            0.0  ...   \n",
       "16                            0.0                            0.0  ...   \n",
       "17                            0.0                            0.0  ...   \n",
       "18                          -30.0                            0.0  ...   \n",
       "19                            0.0                            0.0  ...   \n",
       "20                            0.0                            0.0  ...   \n",
       "21                            0.0                            0.0  ...   \n",
       "22                          -30.0                            0.0  ...   \n",
       "23                            0.0                            0.0  ...   \n",
       "24                            0.0                            0.0  ...   \n",
       "25                            0.0                            0.0  ...   \n",
       "26                            0.0                            0.0  ...   \n",
       "27                            0.0                            0.0  ...   \n",
       "28                          -30.0                            0.0  ...   \n",
       "29                            0.0                            0.0  ...   \n",
       "\n",
       "   unique_level_3__60d treatment_flg  target_purchases_sum  \\\n",
       "0                 14.0             0                909.00   \n",
       "1                 31.0             1                791.00   \n",
       "2                 12.0             0                  0.00   \n",
       "3                 15.0             1                654.00   \n",
       "4                 24.0             1                  0.00   \n",
       "5                 16.0             1                374.76   \n",
       "6                 26.0             0                155.97   \n",
       "7                 34.0             0               1036.00   \n",
       "8                 27.0             1                784.67   \n",
       "9                 17.0             1               1455.48   \n",
       "10                31.0             1                232.46   \n",
       "11                11.0             0                180.00   \n",
       "12                16.0             1                  0.00   \n",
       "13                 8.0             1                  0.00   \n",
       "14                17.0             1                155.00   \n",
       "15                25.0             1               1392.00   \n",
       "16                14.0             1                479.00   \n",
       "17                28.0             1               1364.84   \n",
       "18                30.0             1               1671.55   \n",
       "19                28.0             0                199.00   \n",
       "20                25.0             1                925.53   \n",
       "21                28.0             0                864.26   \n",
       "22                31.0             1               1264.00   \n",
       "23                36.0             0               1079.76   \n",
       "24                14.0             1                  0.00   \n",
       "25                28.0             0                246.43   \n",
       "26                 1.0             0                  0.00   \n",
       "27                24.0             1                  0.00   \n",
       "28                16.0             0                  0.00   \n",
       "29                15.0             0                  0.00   \n",
       "\n",
       "    target_purchases_count  target_campaign_points_spent  target_profit  \\\n",
       "0                        1                           0.0        181.800   \n",
       "1                        2                          -0.0        156.700   \n",
       "2                        0                           0.0          0.000   \n",
       "3                        1                          -0.0        129.300   \n",
       "4                        0                          -0.0         -1.500   \n",
       "5                        1                          -0.0         73.452   \n",
       "6                        1                           0.0         31.194   \n",
       "7                        1                           0.0        207.200   \n",
       "8                        3                         300.0        125.434   \n",
       "9                        4                         300.0        259.596   \n",
       "10                       1                          -0.0         44.992   \n",
       "11                       2                           0.0         36.000   \n",
       "12                       0                          -0.0         -1.500   \n",
       "13                       0                          -0.0         -1.500   \n",
       "14                       1                          -0.0         29.500   \n",
       "15                       3                          -0.0        276.900   \n",
       "16                       1                          -0.0         94.300   \n",
       "17                       5                          -0.0        271.468   \n",
       "18                       1                          -0.0        332.810   \n",
       "19                       1                           0.0         39.800   \n",
       "20                       3                         300.0        153.606   \n",
       "21                       4                           0.0        172.852   \n",
       "22                       3                          -0.0        251.300   \n",
       "23                       4                           0.0        215.952   \n",
       "24                       0                          -0.0         -1.500   \n",
       "25                       1                           0.0         49.286   \n",
       "26                       0                           0.0          0.000   \n",
       "27                       0                          -0.0         -1.500   \n",
       "28                       0                           0.0          0.000   \n",
       "29                       0                           0.0          0.000   \n",
       "\n",
       "    purchase_sum_per_category_level_3__60d  ohe__gender__F  ohe__gender__M  \\\n",
       "0                                87.285714             0.0             0.0   \n",
       "1                               173.096774             1.0             0.0   \n",
       "2                               214.083333             1.0             0.0   \n",
       "3                                96.400000             0.0             0.0   \n",
       "4                               242.515417             1.0             0.0   \n",
       "5                               112.552500             0.0             0.0   \n",
       "6                               143.021154             1.0             0.0   \n",
       "7                               269.607647             0.0             0.0   \n",
       "8                               191.697407             0.0             0.0   \n",
       "9                               192.390000             0.0             1.0   \n",
       "10                              287.357419             0.0             0.0   \n",
       "11                              163.474545             1.0             0.0   \n",
       "12                              235.559375             1.0             0.0   \n",
       "13                              130.375000             0.0             0.0   \n",
       "14                              220.470588             0.0             0.0   \n",
       "15                              140.329200             1.0             0.0   \n",
       "16                              111.428571             1.0             0.0   \n",
       "17                              106.448571             1.0             0.0   \n",
       "18                              435.855000             0.0             0.0   \n",
       "19                              206.038571             0.0             1.0   \n",
       "20                              152.550400             0.0             0.0   \n",
       "21                              105.471071             0.0             0.0   \n",
       "22                              209.354839             0.0             0.0   \n",
       "23                              240.135833             1.0             0.0   \n",
       "24                              194.458571             1.0             0.0   \n",
       "25                              349.617857             1.0             0.0   \n",
       "26                              299.000000             0.0             0.0   \n",
       "27                              120.682917             1.0             0.0   \n",
       "28                              111.996250             0.0             0.0   \n",
       "29                               73.533333             0.0             0.0   \n",
       "\n",
       "    ohe__gender__U  \n",
       "0              1.0  \n",
       "1              0.0  \n",
       "2              0.0  \n",
       "3              1.0  \n",
       "4              0.0  \n",
       "5              1.0  \n",
       "6              0.0  \n",
       "7              1.0  \n",
       "8              1.0  \n",
       "9              0.0  \n",
       "10             1.0  \n",
       "11             0.0  \n",
       "12             0.0  \n",
       "13             1.0  \n",
       "14             1.0  \n",
       "15             0.0  \n",
       "16             0.0  \n",
       "17             0.0  \n",
       "18             1.0  \n",
       "19             0.0  \n",
       "20             1.0  \n",
       "21             1.0  \n",
       "22             1.0  \n",
       "23             0.0  \n",
       "24             0.0  \n",
       "25             0.0  \n",
       "26             1.0  \n",
       "27             0.0  \n",
       "28             1.0  \n",
       "29             1.0  \n",
       "\n",
       "[30 rows x 49 columns]"
      ]
     },
     "execution_count": 25,
     "metadata": {},
     "output_type": "execute_result"
    }
   ],
   "source": [
    "data.head(30)"
   ]
  },
  {
   "cell_type": "code",
   "execution_count": null,
   "metadata": {},
   "outputs": [],
   "source": []
  },
  {
   "cell_type": "markdown",
   "metadata": {},
   "source": [
    "### splits"
   ]
  },
  {
   "cell_type": "code",
   "execution_count": 32,
   "metadata": {
    "ExecuteTime": {
     "end_time": "2021-05-10T03:30:27.714864Z",
     "start_time": "2021-05-10T03:30:27.696358Z"
    }
   },
   "outputs": [],
   "source": [
    "fit_index, val_index = train_test_split(data.index, test_size=0.5, random_state=165)"
   ]
  },
  {
   "cell_type": "code",
   "execution_count": null,
   "metadata": {},
   "outputs": [],
   "source": []
  },
  {
   "cell_type": "markdown",
   "metadata": {},
   "source": [
    "### column sets"
   ]
  },
  {
   "cell_type": "code",
   "execution_count": 26,
   "metadata": {
    "ExecuteTime": {
     "end_time": "2021-05-10T03:29:53.410893Z",
     "start_time": "2021-05-10T03:29:53.406643Z"
    }
   },
   "outputs": [
    {
     "data": {
      "text/plain": [
       "Index(['client_id', 'transaction_id_count__60d', 'purchase_sum_sum__60d',\n",
       "       'purchase_sum_max__60d', 'purchase_sum_min__60d',\n",
       "       'purchase_sum_mean__60d', 'regular_points_spent_sum__60d',\n",
       "       'regular_points_spent_max__60d', 'express_points_spent_sum__60d',\n",
       "       'express_points_spent_max__60d', 'transaction_datetime_min__60d',\n",
       "       'transaction_datetime_max__60d', 'trn_sum_from_red_sum__60d',\n",
       "       'trn_sum_from_red_max__60d', 'trn_sum_from_red_mean__60d',\n",
       "       'points_spent_flag_sum__60d', 'express_points_spent_flag_sum__60d',\n",
       "       'mean_time_interval__60d', 'time_since_last__60d',\n",
       "       'transaction_id_count__15d', 'purchase_sum_sum__15d',\n",
       "       'purchase_sum_max__15d', 'purchase_sum_min__15d',\n",
       "       'purchase_sum_mean__15d', 'regular_points_spent_sum__15d',\n",
       "       'regular_points_spent_max__15d', 'express_points_spent_sum__15d',\n",
       "       'express_points_spent_max__15d', 'transaction_datetime_min__15d',\n",
       "       'transaction_datetime_max__15d', 'trn_sum_from_red_sum__15d',\n",
       "       'trn_sum_from_red_max__15d', 'trn_sum_from_red_mean__15d',\n",
       "       'points_spent_flag_sum__15d', 'express_points_spent_flag_sum__15d',\n",
       "       'mean_time_interval__15d', 'time_since_last__15d', 'age', 'gender',\n",
       "       'unique_level_3__60d', 'treatment_flg', 'target_purchases_sum',\n",
       "       'target_purchases_count', 'target_campaign_points_spent',\n",
       "       'target_profit', 'purchase_sum_per_category_level_3__60d',\n",
       "       'ohe__gender__F', 'ohe__gender__M', 'ohe__gender__U'],\n",
       "      dtype='object')"
      ]
     },
     "execution_count": 26,
     "metadata": {},
     "output_type": "execute_result"
    }
   ],
   "source": [
    "data.columns"
   ]
  },
  {
   "cell_type": "code",
   "execution_count": 27,
   "metadata": {
    "ExecuteTime": {
     "end_time": "2021-05-10T03:29:56.346593Z",
     "start_time": "2021-05-10T03:29:56.343669Z"
    }
   },
   "outputs": [],
   "source": [
    "cols_features_n1 = [\n",
    "    'transaction_id_count__60d',\n",
    "    'purchase_sum_sum__60d',\n",
    "    'purchase_sum_max__60d',\n",
    "    'purchase_sum_min__60d',\n",
    "    'purchase_sum_mean__60d',\n",
    "    'regular_points_spent_sum__60d',\n",
    "    'regular_points_spent_max__60d',\n",
    "    'express_points_spent_sum__60d',\n",
    "    'express_points_spent_max__60d',\n",
    "    'trn_sum_from_red_sum__60d',\n",
    "    'trn_sum_from_red_max__60d',\n",
    "    'trn_sum_from_red_mean__60d',\n",
    "    'points_spent_flag_sum__60d',\n",
    "    'express_points_spent_flag_sum__60d',\n",
    "    'mean_time_interval__60d',\n",
    "    'time_since_last__60d',\n",
    "    'purchase_sum_per_category_level_3__60d',\n",
    "    'age',\n",
    "    'ohe__gender__F',\n",
    "    'ohe__gender__M'\n",
    "]"
   ]
  },
  {
   "cell_type": "code",
   "execution_count": null,
   "metadata": {},
   "outputs": [],
   "source": []
  },
  {
   "cell_type": "markdown",
   "metadata": {},
   "source": [
    "## Model"
   ]
  },
  {
   "cell_type": "markdown",
   "metadata": {},
   "source": [
    "#### build model"
   ]
  },
  {
   "cell_type": "code",
   "execution_count": 28,
   "metadata": {
    "ExecuteTime": {
     "end_time": "2021-05-10T03:30:09.209119Z",
     "start_time": "2021-05-10T03:30:09.206753Z"
    }
   },
   "outputs": [],
   "source": [
    "col_target = 'target_profit'\n",
    "col_treatment = 'treatment_flg'"
   ]
  },
  {
   "cell_type": "code",
   "execution_count": 29,
   "metadata": {
    "ExecuteTime": {
     "end_time": "2021-05-10T03:30:10.260756Z",
     "start_time": "2021-05-10T03:30:10.258477Z"
    }
   },
   "outputs": [],
   "source": [
    "cols_features = cols_features_n1"
   ]
  },
  {
   "cell_type": "code",
   "execution_count": 30,
   "metadata": {
    "ExecuteTime": {
     "end_time": "2021-05-10T03:30:14.511393Z",
     "start_time": "2021-05-10T03:30:14.506848Z"
    }
   },
   "outputs": [],
   "source": [
    "model_n1 = rlearner.BaseRRegressor(\n",
    "    learner=lgb.LGBMRegressor(),\n",
    "    control_name=0,\n",
    "    n_fold=4,\n",
    "    random_state=165\n",
    ")"
   ]
  },
  {
   "cell_type": "code",
   "execution_count": 33,
   "metadata": {
    "ExecuteTime": {
     "end_time": "2021-05-10T03:30:34.945387Z",
     "start_time": "2021-05-10T03:30:30.926250Z"
    }
   },
   "outputs": [],
   "source": [
    "_p_score_const = data.loc[fit_index, col_treatment].value_counts(normalize=True).loc[1]\n",
    "_p_scores = pd.Series(data=_p_score_const, index=fit_index)\n",
    "model_n1.fit(\n",
    "    X=data.loc[fit_index, cols_features].values,\n",
    "    treatment=data.loc[fit_index, col_treatment].values,\n",
    "    y=data.loc[fit_index, col_target].values,\n",
    "    p=_p_scores\n",
    ")"
   ]
  },
  {
   "cell_type": "code",
   "execution_count": null,
   "metadata": {},
   "outputs": [],
   "source": []
  },
  {
   "cell_type": "markdown",
   "metadata": {},
   "source": [
    "#### evaluate model"
   ]
  },
  {
   "cell_type": "code",
   "execution_count": 34,
   "metadata": {
    "ExecuteTime": {
     "end_time": "2021-05-10T03:30:38.262716Z",
     "start_time": "2021-05-10T03:30:37.993991Z"
    }
   },
   "outputs": [],
   "source": [
    "_eval_data = data.loc[val_index, cols_features + [col_treatment, col_target]]\n",
    "_eval_data['score'] = model_n1.predict(_eval_data[cols_features])\n",
    "_eval_data = _eval_data[['score', col_treatment, col_target]]"
   ]
  },
  {
   "cell_type": "code",
   "execution_count": 35,
   "metadata": {
    "ExecuteTime": {
     "end_time": "2021-05-10T03:30:41.096968Z",
     "start_time": "2021-05-10T03:30:40.854591Z"
    },
    "scrolled": false
   },
   "outputs": [
    {
     "data": {
      "image/png": "[encoded data removed]",
      "text/plain": [
       "<Figure size 720x432 with 1 Axes>"
      ]
     },
     "metadata": {},
     "output_type": "display_data"
    }
   ],
   "source": [
    "plt.figure(figsize=(10, 6))\n",
    "plt.hist(_eval_data['score'], bins=20)\n",
    "plt.show()"
   ]
  },
  {
   "cell_type": "code",
   "execution_count": 36,
   "metadata": {
    "ExecuteTime": {
     "end_time": "2021-05-10T03:30:44.181970Z",
     "start_time": "2021-05-10T03:30:44.174938Z"
    }
   },
   "outputs": [
    {
     "data": {
      "text/plain": [
       "-9.46201540358517"
      ]
     },
     "execution_count": 36,
     "metadata": {},
     "output_type": "execute_result"
    }
   ],
   "source": [
    "np.percentile(_eval_data['score'], 5)"
   ]
  },
  {
   "cell_type": "code",
   "execution_count": 37,
   "metadata": {
    "ExecuteTime": {
     "end_time": "2021-05-10T03:30:46.058300Z",
     "start_time": "2021-05-10T03:30:46.053787Z"
    }
   },
   "outputs": [
    {
     "data": {
      "text/plain": [
       "5.797288346357485"
      ]
     },
     "execution_count": 37,
     "metadata": {},
     "output_type": "execute_result"
    }
   ],
   "source": [
    "np.percentile(_eval_data['score'], 95)"
   ]
  },
  {
   "cell_type": "code",
   "execution_count": 38,
   "metadata": {
    "ExecuteTime": {
     "end_time": "2021-05-10T03:30:50.062005Z",
     "start_time": "2021-05-10T03:30:49.904487Z"
    },
    "scrolled": false
   },
   "outputs": [
    {
     "data": {
      "image/png": "[encoded data removed]",
      "text/plain": [
       "<Figure size 720x432 with 1 Axes>"
      ]
     },
     "metadata": {},
     "output_type": "display_data"
    }
   ],
   "source": [
    "plt.figure(figsize=(10, 6))\n",
    "plt.hist(_eval_data['score'], range=(-10.0, 6.0), bins=16)\n",
    "plt.show()"
   ]
  },
  {
   "cell_type": "code",
   "execution_count": 39,
   "metadata": {
    "ExecuteTime": {
     "end_time": "2021-05-10T03:31:05.566663Z",
     "start_time": "2021-05-10T03:31:05.550944Z"
    }
   },
   "outputs": [
    {
     "data": {
      "text/plain": [
       "count    250000.000000\n",
       "mean         -0.989863\n",
       "std          33.647257\n",
       "min       -2265.973911\n",
       "25%          -3.281552\n",
       "50%          -1.705388\n",
       "75%          -0.171674\n",
       "max        1958.750116\n",
       "Name: score, dtype: float64"
      ]
     },
     "execution_count": 39,
     "metadata": {},
     "output_type": "execute_result"
    }
   ],
   "source": [
    "_eval_data['score'].describe()"
   ]
  },
  {
   "cell_type": "code",
   "execution_count": 40,
   "metadata": {
    "ExecuteTime": {
     "end_time": "2021-05-10T03:31:08.798973Z",
     "start_time": "2021-05-10T03:31:07.789633Z"
    }
   },
   "outputs": [
    {
     "data": {
      "image/png": "[encoded data removed]",
      "text/plain": [
       "<Figure size 576x576 with 1 Axes>"
      ]
     },
     "metadata": {},
     "output_type": "display_data"
    }
   ],
   "source": [
    "cmetrics.plot_gain(\n",
    "    _eval_data,\n",
    "    treatment_col=col_treatment,\n",
    "    outcome_col=col_target,\n",
    ")"
   ]
  },
  {
   "cell_type": "code",
   "execution_count": null,
   "metadata": {},
   "outputs": [],
   "source": []
  },
  {
   "cell_type": "markdown",
   "metadata": {},
   "source": [
    "Порог, по которому будем отсекать клиентов в кампании:"
   ]
  },
  {
   "cell_type": "code",
   "execution_count": 43,
   "metadata": {
    "ExecuteTime": {
     "end_time": "2021-05-10T03:32:09.881573Z",
     "start_time": "2021-05-10T03:32:09.874331Z"
    }
   },
   "outputs": [
    {
     "data": {
      "text/plain": [
       "-0.17167353077748457"
      ]
     },
     "execution_count": 43,
     "metadata": {},
     "output_type": "execute_result"
    }
   ],
   "source": [
    "np.percentile(_eval_data['score'], 75)"
   ]
  },
  {
   "cell_type": "code",
   "execution_count": null,
   "metadata": {},
   "outputs": [],
   "source": []
  },
  {
   "cell_type": "markdown",
   "metadata": {},
   "source": [
    "## Save for serving"
   ]
  },
  {
   "cell_type": "code",
   "execution_count": null,
   "metadata": {},
   "outputs": [],
   "source": []
  },
  {
   "cell_type": "code",
   "execution_count": 44,
   "metadata": {
    "ExecuteTime": {
     "end_time": "2021-05-10T03:32:41.519577Z",
     "start_time": "2021-05-10T03:32:41.517024Z"
    }
   },
   "outputs": [],
   "source": [
    "model_n1_keeper = mu.ModelKeeper(model_n1, column_set=cols_features)"
   ]
  },
  {
   "cell_type": "code",
   "execution_count": 45,
   "metadata": {
    "ExecuteTime": {
     "end_time": "2021-05-10T03:32:44.962748Z",
     "start_time": "2021-05-10T03:32:44.953557Z"
    }
   },
   "outputs": [],
   "source": [
    "model_n1_keeper.dump('artifacts/n1_exp300_model.pickle')"
   ]
  },
  {
   "cell_type": "code",
   "execution_count": null,
   "metadata": {},
   "outputs": [],
   "source": []
  },
  {
   "cell_type": "code",
   "execution_count": 46,
   "metadata": {
    "ExecuteTime": {
     "end_time": "2021-05-10T03:32:46.015432Z",
     "start_time": "2021-05-10T03:32:46.011058Z"
    }
   },
   "outputs": [
    {
     "data": {
      "text/plain": [
       "{'extract': [{'name': 'receipts_basic',\n",
       "   'args': {'delta': 60, 'date_to': datetime.date(2019, 3, 19)}},\n",
       "  {'name': 'receipts_basic',\n",
       "   'args': {'delta': 15, 'date_to': datetime.date(2019, 3, 19)}},\n",
       "  {'name': 'age_gender', 'args': {}},\n",
       "  {'name': 'unique_categories',\n",
       "   'args': {'col_category': 'level_3',\n",
       "    'delta': 60,\n",
       "    'date_to': datetime.date(2019, 3, 19)}},\n",
       "  {'name': 'target_from_campaigns',\n",
       "   'args': {'date_to': datetime.date(2019, 3, 21)}}],\n",
       " 'transform': [{'name': 'expression',\n",
       "   'args': {'expression': \"{d}['target_purchases_sum'] * 0.2 - {d}['target_campaign_points_spent'] * 0.1 - {d}['treatment_flg'] * 1.5\",\n",
       "    'col_result': 'target_profit'}},\n",
       "  {'name': 'expression',\n",
       "   'args': {'expression': \"{d}['purchase_sum_sum__60d'] / {d}['unique_level_3__60d']\",\n",
       "    'col_result': 'purchase_sum_per_category_level_3__60d'}},\n",
       "  {'name': 'one_hot_encode', 'args': {'cols': ['gender']}}]}"
      ]
     },
     "execution_count": 46,
     "metadata": {},
     "output_type": "execute_result"
    }
   ],
   "source": [
    "data_config"
   ]
  },
  {
   "cell_type": "markdown",
   "metadata": {},
   "source": [
    "Нужно\n",
    "* Убрать калкеры и трансформации, относящиеся к расчету таргета\n",
    "* Убрать date_to из конфигурации"
   ]
  },
  {
   "cell_type": "code",
   "execution_count": 47,
   "metadata": {
    "ExecuteTime": {
     "end_time": "2021-05-10T03:34:21.872619Z",
     "start_time": "2021-05-10T03:34:21.869389Z"
    }
   },
   "outputs": [],
   "source": [
    "serving_extract_config = [\n",
    "    {\n",
    "        'name': 'receipts_basic',\n",
    "        'args': {'delta': 60}\n",
    "    },\n",
    "    {\n",
    "        'name': 'receipts_basic',\n",
    "        'args': {'delta': 15}\n",
    "    },\n",
    "    {\n",
    "        'name': 'age_gender',\n",
    "        'args': {}\n",
    "    },\n",
    "    {\n",
    "        'name': 'unique_categories',\n",
    "        'args': {\n",
    "            'col_category': 'level_3',\n",
    "            'delta': 60\n",
    "        }\n",
    "    }\n",
    "]"
   ]
  },
  {
   "cell_type": "code",
   "execution_count": 49,
   "metadata": {
    "ExecuteTime": {
     "end_time": "2021-05-10T03:34:29.262716Z",
     "start_time": "2021-05-10T03:34:29.259739Z"
    }
   },
   "outputs": [],
   "source": [
    "with open('artifacts/n1_serving_extract_config.json', 'w') as file:\n",
    "    json.dump(serving_extract_config, file)"
   ]
  },
  {
   "cell_type": "code",
   "execution_count": null,
   "metadata": {},
   "outputs": [],
   "source": []
  },
  {
   "cell_type": "code",
   "execution_count": 50,
   "metadata": {
    "ExecuteTime": {
     "end_time": "2021-05-10T03:34:32.553714Z",
     "start_time": "2021-05-10T03:34:32.547505Z"
    },
    "scrolled": true
   },
   "outputs": [
    {
     "data": {
      "text/plain": [
       "[('stage_0',\n",
       "  FunctionalTransformer(function=functools.partial(<function expression_transformer at 0x140f8cc10>, expression=\"{d}['target_purchases_sum'] * 0.2 - {d}['target_campaign_points_spent'] * 0.1 - {d}['treatment_flg'] * 1.5\", col_result='target_profit'))),\n",
       " ('stage_1',\n",
       "  FunctionalTransformer(function=functools.partial(<function expression_transformer at 0x140f8cc10>, expression=\"{d}['purchase_sum_sum__60d'] / {d}['unique_level_3__60d']\", col_result='purchase_sum_per_category_level_3__60d'))),\n",
       " ('stage_2', OneHotEncoder(cols=['gender']))]"
      ]
     },
     "execution_count": 50,
     "metadata": {},
     "output_type": "execute_result"
    }
   ],
   "source": [
    "transform_pipeline.steps"
   ]
  },
  {
   "cell_type": "code",
   "execution_count": 51,
   "metadata": {
    "ExecuteTime": {
     "end_time": "2021-05-10T03:34:58.620081Z",
     "start_time": "2021-05-10T03:34:58.617516Z"
    }
   },
   "outputs": [],
   "source": [
    "serving_transform_pipeline = skpipe.Pipeline(transform_pipeline.steps[1: ])"
   ]
  },
  {
   "cell_type": "code",
   "execution_count": 52,
   "metadata": {
    "ExecuteTime": {
     "end_time": "2021-05-10T03:35:27.196217Z",
     "start_time": "2021-05-10T03:35:27.193151Z"
    }
   },
   "outputs": [],
   "source": [
    "with open('artifacts//n1_serving_transform_pipeline.pickle', 'wb') as file:\n",
    "    pickle.dump(serving_transform_pipeline, file)"
   ]
  },
  {
   "cell_type": "code",
   "execution_count": null,
   "metadata": {},
   "outputs": [],
   "source": []
  },
  {
   "cell_type": "markdown",
   "metadata": {},
   "source": [
    "В результате построения модели мы сохранили\n",
    "* Саму модель.\n",
    "* Колонки, необходимые для ее расчета.\n",
    "* Конфигурацию калкеров для извлечения признаков из БД.\n",
    "* Pipeline преобразования признаков."
   ]
  },
  {
   "cell_type": "code",
   "execution_count": null,
   "metadata": {},
   "outputs": [],
   "source": []
  },
  {
   "cell_type": "markdown",
   "metadata": {},
   "source": [
    "## backups"
   ]
  },
  {
   "cell_type": "code",
   "execution_count": 11,
   "metadata": {
    "ExecuteTime": {
     "end_time": "2021-05-10T03:22:44.325027Z",
     "start_time": "2021-05-10T03:22:43.144040Z"
    }
   },
   "outputs": [],
   "source": [
    "raw_data.to_parquet('junk/raw_data.parquet')"
   ]
  },
  {
   "cell_type": "code",
   "execution_count": 68,
   "metadata": {
    "ExecuteTime": {
     "end_time": "2021-05-10T09:30:42.990084Z",
     "start_time": "2021-05-10T09:30:41.261896Z"
    }
   },
   "outputs": [],
   "source": [
    "data.to_parquet('junk/data.parquet')"
   ]
  },
  {
   "cell_type": "code",
   "execution_count": null,
   "metadata": {},
   "outputs": [],
   "source": []
  }
 ],
 "metadata": {
  "kernelspec": {
   "display_name": "Python 3",
   "language": "python",
   "name": "python3"
  },
  "language_info": {
   "codemirror_mode": {
    "name": "ipython",
    "version": 3
   },
   "file_extension": ".py",
   "mimetype": "text/x-python",
   "name": "python",
   "nbconvert_exporter": "python",
   "pygments_lexer": "ipython3",
   "version": "3.8.7"
  },
  "toc": {
   "base_numbering": 1,
   "nav_menu": {},
   "number_sections": true,
   "sideBar": true,
   "skip_h1_title": false,
   "title_cell": "Table of Contents",
   "title_sidebar": "Contents",
   "toc_cell": false,
   "toc_position": {},
   "toc_section_display": true,
   "toc_window_display": true
  }
 },
 "nbformat": 4,
 "nbformat_minor": 4
}
