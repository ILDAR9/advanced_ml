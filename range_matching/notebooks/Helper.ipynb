{
 "cells": [
  {
   "cell_type": "code",
   "execution_count": 129,
   "id": "979572d4-43c7-4619-bb17-d62c55c0a7c9",
   "metadata": {},
   "outputs": [],
   "source": [
    "import torch\n",
    "import numpy as np\n",
    "import pandas as pd\n",
    "import sys\n",
    "import string\n",
    "from collections import Counter\n",
    "import nltk\n",
    "import math\n",
    "import torch\n",
    "import json\n",
    "import torch.nn.functional as F\n",
    "from tqdm.auto import tqdm\n",
    "import itertools as it\n",
    "import random\n",
    "import json, requests\n",
    "\n",
    "sys.path.append('../range_matching')\n",
    "# import faq_service as fs\n",
    "import knrm\n",
    "from importlib import reload"
   ]
  },
  {
   "cell_type": "code",
   "execution_count": 127,
   "id": "9c50982f-a617-472d-87e5-7356971ff859",
   "metadata": {
    "tags": []
   },
   "outputs": [
    {
     "data": {
      "text/html": [
       "<div>\n",
       "<style scoped>\n",
       "    .dataframe tbody tr th:only-of-type {\n",
       "        vertical-align: middle;\n",
       "    }\n",
       "\n",
       "    .dataframe tbody tr th {\n",
       "        vertical-align: top;\n",
       "    }\n",
       "\n",
       "    .dataframe thead th {\n",
       "        text-align: right;\n",
       "    }\n",
       "</style>\n",
       "<table border=\"1\" class=\"dataframe\">\n",
       "  <thead>\n",
       "    <tr style=\"text-align: right;\">\n",
       "      <th></th>\n",
       "      <th>id_left</th>\n",
       "      <th>id_right</th>\n",
       "      <th>text_left</th>\n",
       "      <th>text_right</th>\n",
       "      <th>label</th>\n",
       "    </tr>\n",
       "  </thead>\n",
       "  <tbody>\n",
       "    <tr>\n",
       "      <th>0</th>\n",
       "      <td>303345</td>\n",
       "      <td>303346</td>\n",
       "      <td>Why are African-Americans so beautiful?</td>\n",
       "      <td>Why are hispanics so beautiful?</td>\n",
       "      <td>0</td>\n",
       "    </tr>\n",
       "  </tbody>\n",
       "</table>\n",
       "</div>"
      ],
      "text/plain": [
       "   id_left  id_right                                text_left  \\\n",
       "0   303345    303346  Why are African-Americans so beautiful?   \n",
       "\n",
       "                        text_right  label  \n",
       "0  Why are hispanics so beautiful?      0  "
      ]
     },
     "execution_count": 127,
     "metadata": {},
     "output_type": "execute_result"
    }
   ],
   "source": [
    "reload(knrm)\n",
    "glue_qqp_dir = '/home/nur/projects/analysis/range_matching/data/QQP'\n",
    "glove_path = '/home/nur/projects/analysis/range_matching/data/glove.6B.50d.txt'\n",
    "\n",
    "def get_glue_df(glue_qqp_dir, partition_type: str) -> pd.DataFrame:\n",
    "    assert partition_type in ['dev', 'train']\n",
    "    glue_df = pd.read_csv(\n",
    "        glue_qqp_dir + f'/{partition_type}.tsv', sep='\\t', error_bad_lines=False, dtype=object)\n",
    "    glue_df = glue_df.dropna(axis=0, how='any').reset_index(drop=True)\n",
    "    glue_df_fin = pd.DataFrame({\n",
    "        'id_left': glue_df['qid1'].astype('int32'),\n",
    "        'id_right': glue_df['qid2'].astype('int32'),\n",
    "        'text_left': glue_df['question1'],\n",
    "        'text_right': glue_df['question2'],\n",
    "        'label': glue_df['is_duplicate'].astype('int32')\n",
    "    })\n",
    "    return glue_df_fin\n",
    "\n",
    "df = get_glue_df(glue_qqp_dir, 'dev')\n",
    "df.head(1)"
   ]
  },
  {
   "cell_type": "code",
   "execution_count": 154,
   "id": "da1a1dd8-1069-4d2d-9a83-379405b1ad1d",
   "metadata": {},
   "outputs": [
    {
     "data": {
      "application/vnd.jupyter.widget-view+json": {
       "model_id": "e60b2e0fec2b42f087c31948bc1a5f86",
       "version_major": 2,
       "version_minor": 0
      },
      "text/plain": [
       "  0%|          | 0/40430 [00:00<?, ?it/s]"
      ]
     },
     "metadata": {},
     "output_type": "display_data"
    },
    {
     "data": {
      "text/plain": [
       "73349"
      ]
     },
     "execution_count": 154,
     "metadata": {},
     "output_type": "execute_result"
    }
   ],
   "source": [
    "def gen_unique_text(dflist):\n",
    "    idset = set()\n",
    "    for df in dflist:\n",
    "        dfcut = df[~df.id_left.isin(idset) | ~df.id_right.isin(idset)]\n",
    "        for _, row in tqdm(dfcut.iterrows(), total=dfcut.shape[0]):\n",
    "            if row.id_left not in idset:\n",
    "                yield str(row.id_left), row.text_left\n",
    "                idset.add(row.id_left)\n",
    "            if row.id_right not in idset:\n",
    "                yield str(row.id_right), row.text_right\n",
    "                idset.add(row.id_right)\n",
    "\n",
    "gen = gen_unique_text([df])\n",
    "text_list = list(gen)\n",
    "len(text_list)"
   ]
  },
  {
   "cell_type": "code",
   "execution_count": 235,
   "id": "63320959-76d8-41bb-987c-70124d368919",
   "metadata": {},
   "outputs": [
    {
     "data": {
      "text/plain": [
       "(73249, 100)"
      ]
     },
     "execution_count": 235,
     "metadata": {},
     "output_type": "execute_result"
    }
   ],
   "source": [
    "num_query = 100\n",
    "num_index = len(text_list) - num_query\n",
    "random.shuffle(text_list)\n",
    "\n",
    "payload_index = {\"documents\": {idx: text for idx, text in text_list[:num_index]}}\n",
    "\n",
    "queries_idxs = [int(idx) for idx,_ in text_list[-num_query:]]\n",
    "payload_query = {\"queries\": [text for _, text in text_list[-num_query:]]}\n",
    "len(payload_index['documents']), len(payload_query['queries'])"
   ]
  },
  {
   "cell_type": "code",
   "execution_count": 250,
   "id": "050a1054-9460-4df3-9a2f-50a18ef28704",
   "metadata": {},
   "outputs": [
    {
     "data": {
      "text/plain": [
       "(<Response [200]>, b'{\"status\": \"ok\", \"index_size\": 73249}')"
      ]
     },
     "execution_count": 250,
     "metadata": {},
     "output_type": "execute_result"
    }
   ],
   "source": [
    "payload = req\n",
    "r = requests.post('http://localhost:11000/update_index', json=json.dumps(payload_index))\n",
    "r, r.content"
   ]
  },
  {
   "cell_type": "code",
   "execution_count": 251,
   "id": "ed18135a-92b7-4e48-aebc-ec840594e0e7",
   "metadata": {
    "tags": []
   },
   "outputs": [
    {
     "data": {
      "text/plain": [
       "<Response [200]>"
      ]
     },
     "execution_count": 251,
     "metadata": {},
     "output_type": "execute_result"
    }
   ],
   "source": [
    "payload = req\n",
    "r = requests.post('http://localhost:11000/query', json=json.dumps(payload_query))\n",
    "r"
   ]
  },
  {
   "cell_type": "code",
   "execution_count": 252,
   "id": "93eee9df-7097-4e99-b2e2-9fff030185b0",
   "metadata": {},
   "outputs": [
    {
     "data": {
      "text/plain": [
       "0.49"
      ]
     },
     "execution_count": 252,
     "metadata": {},
     "output_type": "execute_result"
    }
   ],
   "source": [
    "query_idx_hat = []\n",
    "for idx in queries_idxs:\n",
    "    a = df[df.id_left == idx].id_right.values.tolist()\n",
    "    b = df[df.id_right == idx].id_left.values.tolist()\n",
    "    query_idx_hat.append(a+b)\n",
    "\n",
    "\n",
    "def eval(r, query_idx_hat):\n",
    "    res = json.loads(r.content)['suggestions']\n",
    "    hit_count = 0\n",
    "    for suggest, y_hat in zip(res, query_idx_hat):\n",
    "        if not suggest:\n",
    "            continue\n",
    "        idx_set = {int(idx) for idx, _ in suggest} \n",
    "        if idx_set & set(y_hat):\n",
    "            hit_count +=1\n",
    "    return hit_count / len(res)\n",
    "\n",
    "eval(r, query_idx_hat)"
   ]
  },
  {
   "cell_type": "code",
   "execution_count": 200,
   "id": "ffa1426a-8a1e-44d7-9753-9069ef7da82b",
   "metadata": {},
   "outputs": [
    {
     "name": "stdout",
     "output_type": "stream",
     "text": [
      "What are some of the best videos you have ever seen?\n",
      "['31540', 'What are the most amazing photos you have ever taken?']\n",
      "['50766', 'What are some of the best movies of all times I should watch (animated are welcome)?']\n",
      "['89899', 'What are some best movies of all time?']\n",
      "['96077', 'What are some of the movies of Hollywood that you must watch?']\n",
      "['425694', 'What are some of the best background pictures ever taken?']\n",
      "['83946', 'Which are the best TV series that you have ever watched and why?']\n",
      "['87754', 'Why are so many people asking about what is the most epic picture ever taken?']\n",
      "['19508', 'What is the best movie you have seen that most people will probably never have heard of?']\n",
      "['8513', 'What are some of the best jokes?']\n",
      "['233777', 'What are some of the best start up business ideas that you have ever heard?']\n",
      "Expected [123142]\n",
      "['Which is the best video you have ever seen?']\n",
      "[]\n",
      "--------------------\n",
      "What if a university professor loses his students' exams before publishing grades?\n",
      "['286019', \"How do undergraduate college admission officers see if a student took AP courses/tests, is it only through the student's high school transcript?\"]\n",
      "['101169', 'What happens if a university professor loses all the exams he has to grade?']\n",
      "['245515', 'How can a B.A economics graduated student in India get an admission in Oxford or Cambridge for post graduation in economics?']\n",
      "['491801', 'Is it possible for a british BSc psychology student (at a Russell Group university) to start a neuroscience PhD straight after graduation? How?']\n",
      "['286018', 'How do undergraduate college admission officers see if a student took AP courses/tests, do they just look at the student’s high school transcript?']\n",
      "['30988', 'Is it possible to take an undergraduate at Harvard and then go to Harvard Medical School?']\n",
      "['268939', 'How does contacting a professor before applying factor into graduate admissions?']\n",
      "['408910', 'Should I go to 2-years college to become a dental hygienist after graduate from 4-years university? (Third year in univ. I am majoring in Chemistry)']\n",
      "['57451', 'How much does an Indian student, who has completed his/her MS in biotechnology from a US university, earn after completing his/her postgraduate degree in the USA?']\n",
      "['430300', 'What should I need to check before selecting a Distance Education university/college for a MBA?']\n",
      "Expected [101169]\n",
      "['What happens if a university professor loses all the exams he has to grade?']\n",
      "[]\n",
      "--------------------\n",
      "Is salicylic acid soluble in water?\n",
      "['525669', 'Is acetone soluble in water?']\n",
      "['74621', 'Why is sodium carbonate soluble in water?']\n",
      "['415561', 'Why sodium chloride is insoluble in benzene, but soluble in water?']\n",
      "['415562', 'Why is sodium chloride insoluble in benzene, but soluble in water?']\n",
      "['352428', 'Is sodium carbonate soluble in hydrochloric acid?']\n",
      "['376574', 'Why is 2-hydroxy benzoic acid more acidic than 2-methyl benzoic acid?']\n",
      "['413115', 'Is hydrogen peroxide soluble in water?']\n",
      "['75355', 'What happens when sodium carbonate is mixed with hydrochloric acid?']\n",
      "['376575', 'Why is o-methyl benzoic acid more acidic than p-methyl benzoic acid?']\n",
      "['125784', 'What is the reaction between magnesium oxide and hydrochloric acid?']\n",
      "Expected [324778]\n",
      "[]\n",
      "['Is mineral oil soluble in water?']\n",
      "--------------------\n",
      "Which is the future of ECM, Hadoop or NoSQL?\n",
      "['363490', 'Which is the best BI ETL tool in existence?']\n",
      "['186295', 'What is the purpose for the .asd sample analysis files created by Ableton?']\n",
      "['334671', 'May the autoencoder neural network be classified as a generative based model, such as RBM, GMM and Naive Bayes?']\n",
      "['427268', 'How is add verification code number like WhatsApp in Android studio project and how to integrate verification code like WhatsApp?']\n",
      "['326175', 'What is the method to force voLTE in Micromax mega 4G?']\n",
      "['248344', 'How ot use bootstrap framework in Java?']\n",
      "['285158', 'What is the process to edit Nikon RAW .nef files in GIMP?']\n",
      "['196627', 'Is MySQL the most favoured database for developing web applications in Python and Rails?']\n",
      "['170850', 'What are the 3 types of NoSql databases?']\n",
      "['513515', \"What are some applications of Posa's Lemma in graph theory?\"]\n",
      "Expected [109195]\n",
      "['Are there any web base online training available on Hadoop, Hbase, NoSQL....?']\n",
      "[]\n",
      "--------------------\n",
      "Can I manipulate a manipulator?\n"
     ]
    },
    {
     "ename": "TypeError",
     "evalue": "'NoneType' object is not iterable",
     "output_type": "error",
     "traceback": [
      "\u001b[0;31m--------------------------------------------------------------\u001b[0m",
      "\u001b[0;31mTypeError\u001b[0m                    Traceback (most recent call last)",
      "\u001b[0;32m<ipython-input-200-21c91bbc0ab6>\u001b[0m in \u001b[0;36m<module>\u001b[0;34m\u001b[0m\n\u001b[1;32m      1\u001b[0m \u001b[0;32mfor\u001b[0m \u001b[0mquery\u001b[0m\u001b[0;34m,\u001b[0m \u001b[0mres\u001b[0m\u001b[0;34m,\u001b[0m \u001b[0my_hat\u001b[0m \u001b[0;32min\u001b[0m \u001b[0mzip\u001b[0m\u001b[0;34m(\u001b[0m\u001b[0mpayload_query\u001b[0m\u001b[0;34m[\u001b[0m\u001b[0;34m'queries'\u001b[0m\u001b[0;34m]\u001b[0m\u001b[0;34m,\u001b[0m \u001b[0mjson\u001b[0m\u001b[0;34m.\u001b[0m\u001b[0mloads\u001b[0m\u001b[0;34m(\u001b[0m\u001b[0mr\u001b[0m\u001b[0;34m.\u001b[0m\u001b[0mcontent\u001b[0m\u001b[0;34m)\u001b[0m\u001b[0;34m[\u001b[0m\u001b[0;34m'suggestions'\u001b[0m\u001b[0;34m]\u001b[0m\u001b[0;34m,\u001b[0m \u001b[0mquery_idx_hat\u001b[0m\u001b[0;34m)\u001b[0m\u001b[0;34m:\u001b[0m\u001b[0;34m\u001b[0m\u001b[0;34m\u001b[0m\u001b[0m\n\u001b[1;32m      2\u001b[0m     \u001b[0mprint\u001b[0m\u001b[0;34m(\u001b[0m\u001b[0mquery\u001b[0m\u001b[0;34m)\u001b[0m\u001b[0;34m\u001b[0m\u001b[0;34m\u001b[0m\u001b[0m\n\u001b[0;32m----> 3\u001b[0;31m     \u001b[0;32mfor\u001b[0m \u001b[0mrow\u001b[0m \u001b[0;32min\u001b[0m \u001b[0mres\u001b[0m\u001b[0;34m:\u001b[0m\u001b[0;34m\u001b[0m\u001b[0;34m\u001b[0m\u001b[0m\n\u001b[0m\u001b[1;32m      4\u001b[0m         \u001b[0mprint\u001b[0m\u001b[0;34m(\u001b[0m\u001b[0mrow\u001b[0m\u001b[0;34m)\u001b[0m\u001b[0;34m\u001b[0m\u001b[0;34m\u001b[0m\u001b[0m\n\u001b[1;32m      5\u001b[0m     \u001b[0mprint\u001b[0m\u001b[0;34m(\u001b[0m\u001b[0;34m\"Expected\"\u001b[0m\u001b[0;34m,\u001b[0m \u001b[0my_hat\u001b[0m\u001b[0;34m)\u001b[0m\u001b[0;34m\u001b[0m\u001b[0;34m\u001b[0m\u001b[0m\n",
      "\u001b[0;31mTypeError\u001b[0m: 'NoneType' object is not iterable"
     ]
    }
   ],
   "source": [
    "for query, res, y_hat in zip(payload_query['queries'], json.loads(r.content)['suggestions'], query_idx_hat):\n",
    "    print(query)\n",
    "    for row in res:\n",
    "        print(row)\n",
    "    print(\"Expected\", y_hat)\n",
    "    print(df[df.id_left.isin(y_hat)].text_left.values)\n",
    "    print(df[df.id_right.isin(y_hat)].text_right.values)\n",
    "    print(\"-\"*20)"
   ]
  },
  {
   "cell_type": "code",
   "execution_count": null,
   "id": "4ba5f8d4-0b89-4529-afd8-db9b438dd140",
   "metadata": {},
   "outputs": [],
   "source": []
  }
 ],
 "metadata": {
  "kernelspec": {
   "display_name": "Python 3",
   "language": "python",
   "name": "python3"
  },
  "language_info": {
   "codemirror_mode": {
    "name": "ipython",
    "version": 3
   },
   "file_extension": ".py",
   "mimetype": "text/x-python",
   "name": "python",
   "nbconvert_exporter": "python",
   "pygments_lexer": "ipython3",
   "version": "3.7.10"
  }
 },
 "nbformat": 4,
 "nbformat_minor": 5
}
