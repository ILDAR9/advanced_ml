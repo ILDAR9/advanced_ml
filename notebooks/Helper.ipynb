{
 "cells": [
  {
   "cell_type": "code",
   "execution_count": 4,
   "id": "979572d4-43c7-4619-bb17-d62c55c0a7c9",
   "metadata": {},
   "outputs": [],
   "source": [
    "import torch\n",
    "import numpy as np\n",
    "import pandas as pd\n",
    "import sys\n",
    "import string\n",
    "from collections import Counter\n",
    "import nltk\n",
    "import math\n",
    "import torch\n",
    "import torch.nn.functional as F\n",
    "\n",
    "sys.path.append('../range_matching')\n",
    "import faq_service as fs\n",
    "import knrm\n",
    "from importlib import reload"
   ]
  },
  {
   "cell_type": "code",
   "execution_count": 5,
   "id": "9c50982f-a617-472d-87e5-7356971ff859",
   "metadata": {
    "tags": []
   },
   "outputs": [],
   "source": [
    "reload(knrm)\n",
    "glue_qqp_dir = '/home/nur/projects/analysis/range_matching/data/QQP'\n",
    "glove_path = '/home/nur/projects/analysis/range_matching/data/glove.6B.50d.txt'\n",
    "s = knrm.Solution(glue_qqp_dir, glove_path)"
   ]
  },
  {
   "cell_type": "code",
   "execution_count": 6,
   "id": "c846857d-08a2-4f47-92f0-bae39d7108b9",
   "metadata": {},
   "outputs": [],
   "source": [
    "emb_matrix, vocab, unk_words = s.create_glove_emb_from_file(\n",
    "            s.glove_vectors_path, s.all_tokens, s.random_seed, s.emb_rand_uni_bound)"
   ]
  },
  {
   "cell_type": "code",
   "execution_count": 11,
   "id": "e1f45696-e287-4dc7-912a-c3817899a54f",
   "metadata": {},
   "outputs": [
    {
     "name": "stdout",
     "output_type": "stream",
     "text": [
      "0\n",
      "87164\n"
     ]
    }
   ],
   "source": [
    "import faiss\n",
    "dim = emb_matrix.shape[1]\n",
    "index = faiss.IndexFlatL2(dim)\n",
    "index.add(emb_matrix)\n",
    "print(index.ntotal) "
   ]
  },
  {
   "cell_type": "code",
   "execution_count": 25,
   "id": "b1a8c046-25ce-4988-b22b-9777d2db4649",
   "metadata": {},
   "outputs": [
    {
     "name": "stdout",
     "output_type": "stream",
     "text": [
      "[[60876 60989 68578]]\n",
      "[[3.5806868 3.5920873 3.6782734]]\n"
     ]
    }
   ],
   "source": [
    "vec = np.random.rand(1, 50).astype('float32')\n",
    "topn = 3\n",
    "D, I = index.search(vec, topn)  # Distances, Indices\n",
    "print(I)\n",
    "print(D)"
   ]
  },
  {
   "cell_type": "code",
   "execution_count": 26,
   "id": "fe629954-6c87-47d6-8cf6-0de49da35442",
   "metadata": {},
   "outputs": [],
   "source": [
    "import pickle\n",
    "with open(\"/home/nur/projects/analysis/range_matching/data/embs.pickle\", 'wb') as f:\n",
    "    pickle.dump(emb_matrix, f)"
   ]
  },
  {
   "cell_type": "code",
   "execution_count": 1,
   "id": "181f900d-fdf0-4fb3-81c7-c99eb166c4e0",
   "metadata": {},
   "outputs": [],
   "source": [
    "import time\n",
    "time.sleep(2)"
   ]
  },
  {
   "cell_type": "code",
   "execution_count": null,
   "id": "56301e1f-2e10-4a04-9ede-4cbabbcc8071",
   "metadata": {},
   "outputs": [],
   "source": []
  }
 ],
 "metadata": {
  "kernelspec": {
   "display_name": "Python 3",
   "language": "python",
   "name": "python3"
  },
  "language_info": {
   "codemirror_mode": {
    "name": "ipython",
    "version": 3
   },
   "file_extension": ".py",
   "mimetype": "text/x-python",
   "name": "python",
   "nbconvert_exporter": "python",
   "pygments_lexer": "ipython3",
   "version": "3.7.10"
  }
 },
 "nbformat": 4,
 "nbformat_minor": 5
}
