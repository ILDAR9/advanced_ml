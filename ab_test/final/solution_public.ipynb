{
 "cells": [
  {
   "cell_type": "code",
   "execution_count": 1,
   "metadata": {},
   "outputs": [],
   "source": [
    "import json\n",
    "\n",
    "import numpy as np\n",
    "import pandas as pd\n",
    "import matplotlib.pyplot as plt\n",
    "from scipy.stats import ttest_ind\n",
    "from scipy.stats import linregress\n",
    "from scipy.signal import convolve2d\n",
    "from tqdm.notebook import tqdm\n",
    "\n",
    "import lightgbm as lgb\n",
    "from sklearn.metrics import mean_squared_error"
   ]
  },
  {
   "cell_type": "markdown",
   "metadata": {},
   "source": [
    "# 1. Загрузка данных"
   ]
  },
  {
   "cell_type": "code",
   "execution_count": 2,
   "metadata": {},
   "outputs": [],
   "source": [
    "df_users = pd.read_csv('student_data/df_users.csv')\n",
    "df_sales_raw = pd.read_csv('student_data/df_sales.csv')"
   ]
  },
  {
   "cell_type": "markdown",
   "metadata": {},
   "source": [
    "# 2. Удаление выбросов и агрегация по дням"
   ]
  },
  {
   "cell_type": "code",
   "execution_count": 3,
   "metadata": {
    "scrolled": true
   },
   "outputs": [
    {
     "data": {
      "image/png": "[encoded data removed]",
      "text/plain": [
       "<Figure size 432x288 with 1 Axes>"
      ]
     },
     "metadata": {
      "needs_background": "light"
     },
     "output_type": "display_data"
    }
   ],
   "source": [
    "df_sales_raw['sales'].hist(bins=100);"
   ]
  },
  {
   "cell_type": "code",
   "execution_count": 4,
   "metadata": {},
   "outputs": [],
   "source": [
    "df_sales_drop_outlier = df_sales_raw[df_sales_raw['sales'] <= 5000].copy()\n",
    "df_sales = df_sales_drop_outlier.groupby(['user_id', 'day'])[['sales']].sum().reset_index()"
   ]
  },
  {
   "cell_type": "markdown",
   "metadata": {},
   "source": [
    "# 3. Обучим модель прогнозировать недельные продажи\n",
    "\n",
    "Будем по данным за последние 4 недели прогнозировать следующую недельную выручку."
   ]
  },
  {
   "cell_type": "code",
   "execution_count": 5,
   "metadata": {},
   "outputs": [],
   "source": [
    "def get_feature_target_trends(\n",
    "    df_sales: pd.DataFrame, user_ids: np.array, days_x: np.array, days_y: np.array\n",
    "):\n",
    "    \"\"\"Генерируем признаки, целевую метрику и тренд для целевой метрики / каждого пользователя.\n",
    "\n",
    "    df_sales - датасет с данными о продажах\n",
    "    user_ids - id клентов, для которых нужно сгенерить признаки\n",
    "    days_x - дни, используемые для вычисления признаков. 4 недели.\n",
    "    days_y - дни, используемые для вычисления таргета. 1 неделя, сразу после days_x.\n",
    "\n",
    "    return:\n",
    "        X - признаки,\n",
    "        Y_for_predict - таргет с вычтенным трендом,\n",
    "        Y_real - таргет без вычтенного тренда,\n",
    "        add_y_trendpd - добавка тренда к таргеты\n",
    "    \"\"\"\n",
    "    days = np.hstack([days_x, days_y])\n",
    "    user_id_to_index = {user_id: idx for idx, user_id in enumerate(user_ids)}\n",
    "    day_to_index = {day: idx for idx, day in enumerate(days)}\n",
    "    \n",
    "    # делаем матрице с продажами [user_id * day]\n",
    "    array_sales = np.zeros((len(user_ids), len(days)))\n",
    "    for user_id, day, sales in tqdm(df_sales[df_sales['day'].isin(days)][['user_id', 'day', 'sales']].values):\n",
    "        array_sales[user_id_to_index[user_id], day_to_index[day]] = sales\n",
    "        \n",
    "    # сглаживаем на данных для признаков\n",
    "    smooth_days = 14\n",
    "    array_sales_smooth = convolve2d(\n",
    "        array_sales[:, :len(days_x)],\n",
    "        np.ones((1, smooth_days)) / smooth_days,\n",
    "        'valid'\n",
    "    )\n",
    "    \n",
    "    # cчитаем тренды\n",
    "    x_ = np.arange(array_sales_smooth.shape[1])\n",
    "    trends = np.array([linregress(x_, y)[0] for y in tqdm(array_sales_smooth)])\n",
    "    # вычитаем тренды ToDO\n",
    "    trend_matrix = np.ones((len(array_sales), 1)) * np.arange(len(days)) * trends.reshape(-1, 1)\n",
    "    array_sales_drop_trend = array_sales - trend_matrix\n",
    "    # что нужно будет добавить к Y\n",
    "    add_y_trend = trend_matrix[:, -len(days_y):].sum(axis=1)\n",
    "    \n",
    "    # считаем таргет\n",
    "    Y_for_predict = pd.Series(\n",
    "        array_sales_drop_trend[:, -len(days_y):].sum(axis=1),\n",
    "        index=user_ids\n",
    "    )\n",
    "    Y_real = pd.Series(\n",
    "        array_sales[:, -len(days_y):].sum(axis=1),\n",
    "        index=user_ids    \n",
    "    )\n",
    "    \n",
    "    ##########################################################\n",
    "    # считаем признаки\n",
    "    dict_features = dict()\n",
    "    \n",
    "    # средние продажи за прошлые 4 недели\n",
    "    for week in range(4):\n",
    "        dict_features[f'mean_daily_sales_{week}_week'] = (\n",
    "            array_sales_drop_trend[:, week * 7: (week + 1) * 7].mean(axis=1)\n",
    "        )\n",
    "        \n",
    "    # продажи за прошлые 7 дня\n",
    "    for last_day in range(1, 8):\n",
    "        dict_features[f'daily_sales_day_minus_{last_day}'] = (\n",
    "            array_sales_drop_trend[:, day_to_index[days_x[-last_day]]]\n",
    "        )\n",
    "        \n",
    "    # кол-во дней с покупками\n",
    "    dict_features['count_day_with_sales'] = (\n",
    "        (array_sales[:, :len(days_x)] > 0).sum(axis=1)\n",
    "    )\n",
    "    # cумма стоимостей покупок\n",
    "    dict_features['mean_sales_drop_trend'] = (\n",
    "        array_sales_drop_trend[:, :len(days_x)].mean(axis=1)\n",
    "    )\n",
    "    # quantiles нормированная трата\n",
    "    for quantile in [0, 0.2, 0.4, 0.6, 0.8, 1]:\n",
    "        dict_features[f'sales_quantile_{quantile}'] = np.quantile(\n",
    "            array_sales_drop_trend[:, :len(days_x)], quantile, axis=1\n",
    "        )\n",
    "    X = pd.DataFrame(dict_features, index=user_ids)\n",
    "    return X, Y_for_predict, Y_real, add_y_trend\n"
   ]
  },
  {
   "cell_type": "markdown",
   "metadata": {},
   "source": [
    "## 3.1. Cобираем данные"
   ]
  },
  {
   "cell_type": "raw",
   "metadata": {},
   "source": [
    "Дни обучения\n",
    "0 - 7 | 14 - 21 - 28 - 35 - 42 | 49 | 56\n",
    "\n",
    "Дни теста\n",
    "0 - 7 - 14 | 21 - 28 - 35 - 42 - 49 | 56 |"
   ]
  },
  {
   "cell_type": "code",
   "execution_count": 6,
   "metadata": {},
   "outputs": [
    {
     "data": {
      "application/vnd.jupyter.widget-view+json": {
       "model_id": "4bc5a65bda49403aaddb650083947762",
       "version_major": 2,
       "version_minor": 0
      },
      "text/plain": [
       "HBox(children=(FloatProgress(value=0.0, max=17999379.0), HTML(value='')))"
      ]
     },
     "metadata": {},
     "output_type": "display_data"
    },
    {
     "name": "stdout",
     "output_type": "stream",
     "text": [
      "\n"
     ]
    },
    {
     "data": {
      "application/vnd.jupyter.widget-view+json": {
       "model_id": "374ca4807caa4626ac870c8b1e5d9377",
       "version_major": 2,
       "version_minor": 0
      },
      "text/plain": [
       "HBox(children=(FloatProgress(value=0.0, max=1000000.0), HTML(value='')))"
      ]
     },
     "metadata": {},
     "output_type": "display_data"
    },
    {
     "name": "stdout",
     "output_type": "stream",
     "text": [
      "\n"
     ]
    },
    {
     "data": {
      "application/vnd.jupyter.widget-view+json": {
       "model_id": "a2ec22e02fc64ca69f49b767929eab97",
       "version_major": 2,
       "version_minor": 0
      },
      "text/plain": [
       "HBox(children=(FloatProgress(value=0.0, max=17650587.0), HTML(value='')))"
      ]
     },
     "metadata": {},
     "output_type": "display_data"
    },
    {
     "name": "stdout",
     "output_type": "stream",
     "text": [
      "\n"
     ]
    },
    {
     "data": {
      "application/vnd.jupyter.widget-view+json": {
       "model_id": "4a13faf254d04913a6aa1e93ab9f6cf8",
       "version_major": 2,
       "version_minor": 0
      },
      "text/plain": [
       "HBox(children=(FloatProgress(value=0.0, max=1000000.0), HTML(value='')))"
      ]
     },
     "metadata": {},
     "output_type": "display_data"
    },
    {
     "name": "stdout",
     "output_type": "stream",
     "text": [
      "\n",
      "CPU times: user 7min 17s, sys: 7.68 s, total: 7min 24s\n",
      "Wall time: 7min 23s\n"
     ]
    }
   ],
   "source": [
    "%%time\n",
    "\n",
    "\n",
    "user_ids = df_users['user_id'].values\n",
    "\n",
    "\n",
    "X_fit, Y_for_predict_fit, Y_real_fit, add_y_trend_fit = get_feature_target_trends(\n",
    "    df_sales,\n",
    "    user_ids,\n",
    "    days_x=np.arange(14, 42),\n",
    "    days_y=np.arange(42, 49)\n",
    ")\n",
    "\n",
    "X_test, Y_for_predict_test, Y_real_test, add_y_trend_test = get_feature_target_trends(\n",
    "    df_sales,\n",
    "    user_ids,\n",
    "    days_x=np.arange(21, 49),\n",
    "    days_y=np.arange(49, 56)\n",
    ")"
   ]
  },
  {
   "cell_type": "markdown",
   "metadata": {},
   "source": [
    "Разобъём данные для обучения на train и validation."
   ]
  },
  {
   "cell_type": "code",
   "execution_count": 7,
   "metadata": {},
   "outputs": [],
   "source": [
    "val_user_ids = np.random.choice(user_ids, int(len(user_ids) / 5), False)\n",
    "train_user_ids = np.array(list(set(user_ids) - set(val_user_ids)))\n",
    "\n",
    "X_val = X_fit.loc[val_user_ids]\n",
    "X_train = X_fit.loc[train_user_ids]\n",
    "\n",
    "y_val = Y_for_predict_fit.loc[val_user_ids]\n",
    "y_train = Y_for_predict_fit.loc[train_user_ids]"
   ]
  },
  {
   "cell_type": "markdown",
   "metadata": {},
   "source": [
    "## 3.2. Обучаем модель"
   ]
  },
  {
   "cell_type": "code",
   "execution_count": 8,
   "metadata": {
    "scrolled": true
   },
   "outputs": [
    {
     "data": {
      "text/plain": [
       "LGBMRegressor(n_estimators=300)"
      ]
     },
     "execution_count": 8,
     "metadata": {},
     "output_type": "execute_result"
    }
   ],
   "source": [
    "gbm = lgb.LGBMRegressor(\n",
    "    num_leaves=31,\n",
    "    learning_rate=0.1,\n",
    "    n_estimators=300\n",
    ")\n",
    "gbm.fit(\n",
    "    X_train, y_train,\n",
    "    eval_set=[(X_val, y_val)],\n",
    "    eval_metric='l1',\n",
    "    early_stopping_rounds=5,\n",
    "    verbose=False\n",
    ")"
   ]
  },
  {
   "cell_type": "code",
   "execution_count": 9,
   "metadata": {},
   "outputs": [
    {
     "name": "stdout",
     "output_type": "stream",
     "text": [
      "scores:\n",
      "  test naive  = 943607\n",
      "  train       = 166283\n",
      "  test        = 240909\n",
      "\n",
      "corr(predict_test, fact_test) = 0.948\n"
     ]
    }
   ],
   "source": [
    "predict_naive = Y_real_fit\n",
    "predict_train = gbm.predict(X_fit) + add_y_trend_fit\n",
    "predict_test = gbm.predict(X_test) + add_y_trend_test\n",
    "\n",
    "score_train = mean_squared_error(Y_real_fit, predict_train)\n",
    "score_test = mean_squared_error(Y_real_test, predict_test)\n",
    "score_test_naive = mean_squared_error(Y_real_test, predict_naive)\n",
    "\n",
    "corr_predict_fact = np.corrcoef(predict_test, Y_real_test)[0, 1]\n",
    "\n",
    "print('scores:')\n",
    "print(f'  test naive  = {score_test_naive:0.0f}')\n",
    "print(f'  train       = {score_train:0.0f}')\n",
    "print(f'  test        = {score_test:0.0f}')\n",
    "print()\n",
    "print(f'corr(predict_test, fact_test) = {corr_predict_fact:0.3f}')"
   ]
  },
  {
   "cell_type": "code",
   "execution_count": 10,
   "metadata": {},
   "outputs": [],
   "source": [
    "df_metrics = pd.DataFrame(\n",
    "    {'sales': Y_real_test, 'sales_predict': predict_test},\n",
    "    index=Y_real_test.index\n",
    ")\n",
    "\n",
    "# CUPED\n",
    "covariance = np.cov(predict_train, Y_real_fit)[0, 1]\n",
    "variance = np.var(predict_train)\n",
    "theta = covariance / variance\n",
    "\n",
    "df_metrics['sales_cuped'] = df_metrics['sales'] - theta * df_metrics['sales_predict']\n",
    "\n",
    "df_metrics = df_metrics.sort_index()"
   ]
  },
  {
   "cell_type": "markdown",
   "metadata": {},
   "source": [
    "## 3.3. Загружаем предсказания в файл с решением"
   ]
  },
  {
   "cell_type": "code",
   "execution_count": 11,
   "metadata": {},
   "outputs": [],
   "source": [
    "# Преобразуем значения метрики в строку, которая будет читаться интерпритатором python как список.\n",
    "# Округлим до целых значений, чтобы занимало меньше места в файле с решением.\n",
    "# В файле с решением будет выглядеть так: \"METRIC_VALUES = [123,43,22,...]\"\n",
    "list_metric_int = df_metrics['sales_cuped'].round().astype(int).to_list()\n",
    "str_list_metric_int = json.dumps(list_metric_int, separators=(',', ':'))\n",
    "line_metrics = f\"METRIC_VALUES = {str_list_metric_int}\\n\"\n",
    "\n",
    "# Прочитаем файл с шаблоном решения\n",
    "with open('solution_.py', 'rb') as f:\n",
    "    lines_solution_ = f.readlines()\n",
    "\n",
    "# Заменим первую строку, запишем код решения в новый файл\n",
    "with open('solution.py', 'wb') as f:\n",
    "    f.write(line_metrics.encode())\n",
    "    for line in lines_solution_[2:]:\n",
    "        f.write(line)"
   ]
  },
  {
   "cell_type": "code",
   "execution_count": 12,
   "metadata": {},
   "outputs": [
    {
     "name": "stdout",
     "output_type": "stream",
     "text": [
      "-rw-------@ 1 aleksandrsahnov  staff   4.1M Jul 17 11:55 solution.py\n",
      "-rw-------@ 1 aleksandrsahnov  staff   6.1K Jul 17 11:40 solution_.py\n"
     ]
    }
   ],
   "source": [
    "ls -lh solution*.py"
   ]
  },
  {
   "cell_type": "code",
   "execution_count": 13,
   "metadata": {},
   "outputs": [
    {
     "name": "stdout",
     "output_type": "stream",
     "text": [
      "     168     525 4328398 solution.py\n"
     ]
    }
   ],
   "source": [
    "!wc solution.py"
   ]
  },
  {
   "cell_type": "code",
   "execution_count": 14,
   "metadata": {},
   "outputs": [
    {
     "name": "stdout",
     "output_type": "stream",
     "text": [
      "     169     543    6226 solution_.py\n"
     ]
    }
   ],
   "source": [
    "!wc solution_.py"
   ]
  }
 ],
 "metadata": {
  "kernelspec": {
   "display_name": "Python 3 (ipykernel)",
   "language": "python",
   "name": "python3"
  },
  "language_info": {
   "codemirror_mode": {
    "name": "ipython",
    "version": 3
   },
   "file_extension": ".py",
   "mimetype": "text/x-python",
   "name": "python",
   "nbconvert_exporter": "python",
   "pygments_lexer": "ipython3",
   "version": "3.8.12"
  }
 },
 "nbformat": 4,
 "nbformat_minor": 4
}
